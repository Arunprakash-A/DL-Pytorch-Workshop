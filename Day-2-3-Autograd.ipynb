{
  "nbformat": 4,
  "nbformat_minor": 0,
  "metadata": {
    "colab": {
      "provenance": []
    },
    "kernelspec": {
      "name": "python3",
      "display_name": "Python 3"
    },
    "language_info": {
      "name": "python"
    }
  },
  "cells": [
    {
      "cell_type": "markdown",
      "source": [
        "**Workshop:** Develpoing Deep Learning models using Pytorch <br>\n",
        "**Author:** Arun Prakash A <br>"
      ],
      "metadata": {
        "id": "YwVsEr0fwZfE"
      }
    },
    {
      "cell_type": "code",
      "execution_count": 1,
      "metadata": {
        "id": "RgE4LPWwZ5bn"
      },
      "outputs": [],
      "source": [
        "import torch\n",
        "from torch import  tensor"
      ]
    },
    {
      "cell_type": "code",
      "source": [
        "dir(torch.autograd.Function)"
      ],
      "metadata": {
        "colab": {
          "base_uri": "https://localhost:8080/"
        },
        "id": "3-Y0IvBj1HkJ",
        "outputId": "2bd7749d-04b8-4c77-acf4-1ab2db3570fe"
      },
      "execution_count": 2,
      "outputs": [
        {
          "output_type": "execute_result",
          "data": {
            "text/plain": [
              "['__call__',\n",
              " '__class__',\n",
              " '__delattr__',\n",
              " '__dict__',\n",
              " '__dir__',\n",
              " '__doc__',\n",
              " '__eq__',\n",
              " '__format__',\n",
              " '__ge__',\n",
              " '__getattribute__',\n",
              " '__gt__',\n",
              " '__hash__',\n",
              " '__init__',\n",
              " '__init_subclass__',\n",
              " '__le__',\n",
              " '__lt__',\n",
              " '__module__',\n",
              " '__ne__',\n",
              " '__new__',\n",
              " '__reduce__',\n",
              " '__reduce_ex__',\n",
              " '__repr__',\n",
              " '__setattr__',\n",
              " '__sizeof__',\n",
              " '__str__',\n",
              " '__subclasshook__',\n",
              " '__weakref__',\n",
              " '_backward_cls',\n",
              " '_raw_saved_tensors',\n",
              " '_register_hook',\n",
              " '_register_hook_dict',\n",
              " 'apply',\n",
              " 'backward',\n",
              " 'dirty_tensors',\n",
              " 'forward',\n",
              " 'is_traceable',\n",
              " 'jvp',\n",
              " 'mark_dirty',\n",
              " 'mark_non_differentiable',\n",
              " 'mark_shared_storage',\n",
              " 'materialize_grads',\n",
              " 'maybe_clear_saved_tensors',\n",
              " 'metadata',\n",
              " 'name',\n",
              " 'needs_input_grad',\n",
              " 'next_functions',\n",
              " 'non_differentiable',\n",
              " 'register_hook',\n",
              " 'register_prehook',\n",
              " 'requires_grad',\n",
              " 'save_for_backward',\n",
              " 'save_for_forward',\n",
              " 'saved_for_forward',\n",
              " 'saved_tensors',\n",
              " 'saved_variables',\n",
              " 'set_materialize_grads',\n",
              " 'to_save',\n",
              " 'vjp']"
            ]
          },
          "metadata": {},
          "execution_count": 2
        }
      ]
    },
    {
      "cell_type": "markdown",
      "source": [
        "* In this article, whenever I say  `forward()` and `backward()`, I mean the forward and backward methods defined by subclassing `torch.autograd.Function`\n",
        "\n",
        "* That is, **forward and backward** function is  defined for *each differentiable operation*."
      ],
      "metadata": {
        "id": "Ia5QV1db2D1v"
      }
    },
    {
      "cell_type": "markdown",
      "source": [
        "# Computational Graphs"
      ],
      "metadata": {
        "id": "s31EdMz8NLZ1"
      }
    },
    {
      "cell_type": "markdown",
      "source": [
        "Let's create a simple function\n",
        "$$y=\\sigma(x)$$"
      ],
      "metadata": {
        "id": "8Fj2UFdW40PQ"
      }
    },
    {
      "cell_type": "code",
      "source": [
        "x = tensor(1.0) # leaf variable\n",
        "y = torch.sigmoid(x)\n",
        "print(y)"
      ],
      "metadata": {
        "colab": {
          "base_uri": "https://localhost:8080/"
        },
        "id": "XXyOfJrY43Y0",
        "outputId": "e16d54ac-69b9-4956-ad7e-b2d4f2ff99dd"
      },
      "execution_count": 3,
      "outputs": [
        {
          "output_type": "stream",
          "name": "stdout",
          "text": [
            "tensor(0.7311)\n"
          ]
        }
      ]
    },
    {
      "cell_type": "markdown",
      "source": [
        "Let's verify the presence of the following attributes whenever we create a tensor\n",
        "\n",
        "  * data\n",
        "  * grad \n",
        "  * grad_fn \n",
        "  * is_leaf \n",
        "  * requires_grad\n",
        "  * backward"
      ],
      "metadata": {
        "id": "P9Z4CnwaxZIB"
      }
    },
    {
      "cell_type": "code",
      "source": [
        "print(x.data)\n",
        "print(x.grad)\n",
        "print(x.grad_fn)\n",
        "print(x.requires_grad)\n",
        "print(x.backward)"
      ],
      "metadata": {
        "colab": {
          "base_uri": "https://localhost:8080/"
        },
        "id": "9nucM-3vyAGV",
        "outputId": "f7d314e7-4a2b-4a53-873c-f544712c7be9"
      },
      "execution_count": 4,
      "outputs": [
        {
          "output_type": "stream",
          "name": "stdout",
          "text": [
            "tensor(1.)\n",
            "None\n",
            "None\n",
            "False\n",
            "<bound method Tensor.backward of tensor(1.)>\n"
          ]
        }
      ]
    },
    {
      "cell_type": "code",
      "source": [
        "print(x.is_leaf, y.is_leaf)"
      ],
      "metadata": {
        "colab": {
          "base_uri": "https://localhost:8080/"
        },
        "id": "4AmucVbh5tF3",
        "outputId": "26a22632-ad12-49d9-e504-af8ca98d7df6"
      },
      "execution_count": null,
      "outputs": [
        {
          "output_type": "stream",
          "name": "stdout",
          "text": [
            "True True\n"
          ]
        }
      ]
    },
    {
      "cell_type": "markdown",
      "source": [
        "* All the tensors **we create** is a leaf variable ( any tensor for which the `require_grad ` arg set to *False*  is considered as leaf variable by convention)\n",
        "* $y$ (which is function of $x$) is also a leaf variable.\n",
        "* We know how to calculate the gradient of $y$ (a scalar function) evalauted at $x=1.0$ <br>\n",
        "$$\\frac{\\partial y}{ \\partial x} = \\sigma(1)(1-\\sigma(1))=0.73*0.27=0.1971$$\n"
      ],
      "metadata": {
        "id": "PLGQvmNO922f"
      }
    },
    {
      "cell_type": "code",
      "source": [
        "y.backward()"
      ],
      "metadata": {
        "colab": {
          "base_uri": "https://localhost:8080/",
          "height": 311
        },
        "id": "7ZoMyaTYG0ia",
        "outputId": "b3d9654c-0a72-4bde-d3d2-9145516a70dc"
      },
      "execution_count": null,
      "outputs": [
        {
          "output_type": "error",
          "ename": "RuntimeError",
          "evalue": "ignored",
          "traceback": [
            "\u001b[0;31m---------------------------------------------------------------------------\u001b[0m",
            "\u001b[0;31mRuntimeError\u001b[0m                              Traceback (most recent call last)",
            "\u001b[0;32m<ipython-input-6-ab75bb780f4c>\u001b[0m in \u001b[0;36m<module>\u001b[0;34m\u001b[0m\n\u001b[0;32m----> 1\u001b[0;31m \u001b[0my\u001b[0m\u001b[0;34m.\u001b[0m\u001b[0mbackward\u001b[0m\u001b[0;34m(\u001b[0m\u001b[0;34m)\u001b[0m\u001b[0;34m\u001b[0m\u001b[0;34m\u001b[0m\u001b[0m\n\u001b[0m",
            "\u001b[0;32m/usr/local/lib/python3.8/dist-packages/torch/_tensor.py\u001b[0m in \u001b[0;36mbackward\u001b[0;34m(self, gradient, retain_graph, create_graph, inputs)\u001b[0m\n\u001b[1;32m    485\u001b[0m                 \u001b[0minputs\u001b[0m\u001b[0;34m=\u001b[0m\u001b[0minputs\u001b[0m\u001b[0;34m,\u001b[0m\u001b[0;34m\u001b[0m\u001b[0;34m\u001b[0m\u001b[0m\n\u001b[1;32m    486\u001b[0m             )\n\u001b[0;32m--> 487\u001b[0;31m         torch.autograd.backward(\n\u001b[0m\u001b[1;32m    488\u001b[0m             \u001b[0mself\u001b[0m\u001b[0;34m,\u001b[0m \u001b[0mgradient\u001b[0m\u001b[0;34m,\u001b[0m \u001b[0mretain_graph\u001b[0m\u001b[0;34m,\u001b[0m \u001b[0mcreate_graph\u001b[0m\u001b[0;34m,\u001b[0m \u001b[0minputs\u001b[0m\u001b[0;34m=\u001b[0m\u001b[0minputs\u001b[0m\u001b[0;34m\u001b[0m\u001b[0;34m\u001b[0m\u001b[0m\n\u001b[1;32m    489\u001b[0m         )\n",
            "\u001b[0;32m/usr/local/lib/python3.8/dist-packages/torch/autograd/__init__.py\u001b[0m in \u001b[0;36mbackward\u001b[0;34m(tensors, grad_tensors, retain_graph, create_graph, grad_variables, inputs)\u001b[0m\n\u001b[1;32m    195\u001b[0m     \u001b[0;31m# some Python versions print out the first line of a multi-line function\u001b[0m\u001b[0;34m\u001b[0m\u001b[0;34m\u001b[0m\u001b[0;34m\u001b[0m\u001b[0m\n\u001b[1;32m    196\u001b[0m     \u001b[0;31m# calls in the traceback and some print out the last line\u001b[0m\u001b[0;34m\u001b[0m\u001b[0;34m\u001b[0m\u001b[0;34m\u001b[0m\u001b[0m\n\u001b[0;32m--> 197\u001b[0;31m     Variable._execution_engine.run_backward(  # Calls into the C++ engine to run the backward pass\n\u001b[0m\u001b[1;32m    198\u001b[0m         \u001b[0mtensors\u001b[0m\u001b[0;34m,\u001b[0m \u001b[0mgrad_tensors_\u001b[0m\u001b[0;34m,\u001b[0m \u001b[0mretain_graph\u001b[0m\u001b[0;34m,\u001b[0m \u001b[0mcreate_graph\u001b[0m\u001b[0;34m,\u001b[0m \u001b[0minputs\u001b[0m\u001b[0;34m,\u001b[0m\u001b[0;34m\u001b[0m\u001b[0;34m\u001b[0m\u001b[0m\n\u001b[1;32m    199\u001b[0m         allow_unreachable=True, accumulate_grad=True)  # Calls into the C++ engine to run the backward pass\n",
            "\u001b[0;31mRuntimeError\u001b[0m: element 0 of tensors does not require grad and does not have a grad_fn"
          ]
        }
      ]
    },
    {
      "cell_type": "markdown",
      "source": [
        "OOPS, what happened?. Let's look into the error message and the stack info. \n",
        "\n",
        " * It seems that we didn't define something called **grad_fn**, **required_grad**. \n",
        " * It means still we are using **ATen** and haven't tied it up with **Autograd**.\n",
        " * Also, notice that the exception occurs when it calls torch AutoGrad object`Variable`, in `Variable._execution_engine.run_backward()` "
      ],
      "metadata": {
        "id": "azMxPKqdHfPo"
      }
    },
    {
      "cell_type": "markdown",
      "source": [
        " * Let's make use of AutoGrad by setting `requires_grad=True` in the tensor `x`. <br>\n",
        " * Behind the screen it wraps the tensor `x` into the `Variable` object. (That is, it binds the **Aten** to **Autograd**)\n",
        " * This will compute the gradient of scalar function with respect to the (scalar valued) tensor `y`.\n",
        "  * Note: As of now, autograd requires **floating point Tensor types** ( half, float, double and bfloat16) and complex Tensor types (cfloat, cdouble)."
      ],
      "metadata": {
        "id": "yzH-mtg4K69s"
      }
    },
    {
      "cell_type": "code",
      "source": [
        "x = tensor(1.0, requires_grad=True, dtype=torch.float64) # note the tensor has to be a float type to use autograd\n",
        "y = torch.sigmoid(x)\n",
        "print(y)"
      ],
      "metadata": {
        "colab": {
          "base_uri": "https://localhost:8080/"
        },
        "id": "M8qvn3TAbbiY",
        "outputId": "e9e0a247-eff5-4a67-eb3c-8677da066a6c"
      },
      "execution_count": 10,
      "outputs": [
        {
          "output_type": "stream",
          "name": "stdout",
          "text": [
            "tensor(0.7311, dtype=torch.float64, grad_fn=<SigmoidBackward0>)\n"
          ]
        }
      ]
    },
    {
      "cell_type": "markdown",
      "source": [
        "* $x$ is still a leaf variable, however, `requires_grad=True`\n",
        "* Therefore, `y` is no longer a leaf variable as it is obtained some operation on $x$. It has a grad function (grad_fn) named `SigmoidBackward0` <br>\n",
        "* If you print` x.grad_fn`, it will be `None`. This is because $x$ is a leaf node. Therefore, leaf nodes in the computational graph do not have grad_fn (That makes sense!)\n",
        "* Let's compute the gradient by calling `backward()`"
      ],
      "metadata": {
        "id": "N7pFV7k_OHCW"
      }
    },
    {
      "cell_type": "code",
      "source": [
        "print(x.is_leaf, y.is_leaf)"
      ],
      "metadata": {
        "colab": {
          "base_uri": "https://localhost:8080/"
        },
        "id": "VJqHkyilaIpi",
        "outputId": "7196bfff-f911-48ec-8e48-12b7d0173512"
      },
      "execution_count": null,
      "outputs": [
        {
          "output_type": "stream",
          "name": "stdout",
          "text": [
            "True False\n"
          ]
        }
      ]
    },
    {
      "cell_type": "code",
      "source": [
        "print(x.grad_fn)\n",
        "print(y.grad_fn)"
      ],
      "metadata": {
        "colab": {
          "base_uri": "https://localhost:8080/"
        },
        "id": "bjf5Gh8PFv7Q",
        "outputId": "4580d4de-1a61-4beb-fa9e-83f433f14f7a"
      },
      "execution_count": 14,
      "outputs": [
        {
          "output_type": "stream",
          "name": "stdout",
          "text": [
            "None\n",
            "<SigmoidBackward0 object at 0x7fa84f66e460>\n"
          ]
        }
      ]
    },
    {
      "cell_type": "code",
      "source": [
        "y.backward()"
      ],
      "metadata": {
        "id": "oQKPaZWd2zUY"
      },
      "execution_count": 13,
      "outputs": []
    },
    {
      "cell_type": "markdown",
      "source": [
        " * See the **accumulated** gradient using the `.grad` attribute of the tensor."
      ],
      "metadata": {
        "id": "fKUvzJtVLa5d"
      }
    },
    {
      "cell_type": "code",
      "source": [
        "print('The gradient of y wrt x: ',x.grad)"
      ],
      "metadata": {
        "colab": {
          "base_uri": "https://localhost:8080/"
        },
        "id": "90SiPBuD3dEs",
        "outputId": "1c608f0a-6d60-48cb-f338-05b3b0324c0d"
      },
      "execution_count": 15,
      "outputs": [
        {
          "output_type": "stream",
          "name": "stdout",
          "text": [
            "The gradient of y wrt x:  tensor(0.1966, dtype=torch.float64)\n"
          ]
        }
      ]
    },
    {
      "cell_type": "markdown",
      "source": [
        "* If we create a tensor, it becomes a leaf variable.\n",
        "* When we explicitly set the argument `require gradients` to true, it gets attached to the graph.\n",
        "* Differentiable operations (such as torch.mm, +,activation functions..) **can't** be a leaf node of the graph.\n",
        "* (therefore, all varaibles (in NN)  that are learnable **parameters** ($\\theta = [W_1,W_2,..,b_1,b_2..]$) form a leaf node  in the network)"
      ],
      "metadata": {
        "id": "DI9DJS1rO-td"
      }
    },
    {
      "cell_type": "markdown",
      "source": [
        "A simple Composite function\n",
        "$$y = \\sigma(x)$$\n",
        "$$z = 2*y$$\n"
      ],
      "metadata": {
        "id": "6sKqDYwaPpkG"
      }
    },
    {
      "cell_type": "code",
      "source": [
        "x = tensor(1,requires_grad=True, dtype=torch.float64)\n",
        "y = torch.sigmoid(x)\n",
        "z = 2*y"
      ],
      "metadata": {
        "id": "mWs-Z_i90olF"
      },
      "execution_count": null,
      "outputs": []
    },
    {
      "cell_type": "code",
      "source": [
        "print(x.is_leaf,y.is_leaf,z.is_leaf)"
      ],
      "metadata": {
        "colab": {
          "base_uri": "https://localhost:8080/"
        },
        "id": "lZ26A5i1Y_7p",
        "outputId": "3a92584c-62e4-4e60-831a-6d9c05f94e0e"
      },
      "execution_count": null,
      "outputs": [
        {
          "output_type": "stream",
          "name": "stdout",
          "text": [
            "True False False\n"
          ]
        }
      ]
    },
    {
      "cell_type": "code",
      "source": [
        "print(z)"
      ],
      "metadata": {
        "colab": {
          "base_uri": "https://localhost:8080/"
        },
        "id": "QuTYCOKSdkOt",
        "outputId": "02cc0575-e13e-4ff1-a93d-4b7e812a92b7"
      },
      "execution_count": null,
      "outputs": [
        {
          "output_type": "stream",
          "name": "stdout",
          "text": [
            "tensor(1.4621, dtype=torch.float64, grad_fn=<MulBackward0>)\n"
          ]
        }
      ]
    },
    {
      "cell_type": "markdown",
      "source": [
        "Accessing **grad_fn** attributes\n"
      ],
      "metadata": {
        "id": "9L9CkInreyHO"
      }
    },
    {
      "cell_type": "code",
      "source": [
        "print(z.grad_fn._saved_other)\n",
        "print(z.grad_fn._saved_self)\n",
        "print(z.grad_fn.next_functions)"
      ],
      "metadata": {
        "colab": {
          "base_uri": "https://localhost:8080/"
        },
        "id": "kpgH5YAedUjx",
        "outputId": "9d39f2bf-141e-4f8d-abd3-fc80f4f2abf2"
      },
      "execution_count": null,
      "outputs": [
        {
          "output_type": "stream",
          "name": "stdout",
          "text": [
            "tensor(2)\n",
            "None\n",
            "((<SigmoidBackward0 object at 0x7f329d242d30>, 0), (None, 0))\n"
          ]
        }
      ]
    },
    {
      "cell_type": "code",
      "source": [
        "print(y.grad_fn._saved_result) # because it is a unary operation we don't have \"saved_other, saved_self\"\n",
        "print(y.grad_fn.next_functions)"
      ],
      "metadata": {
        "colab": {
          "base_uri": "https://localhost:8080/"
        },
        "id": "i_37UzEP6v0Q",
        "outputId": "64c9aa4a-566a-401f-eaf8-ae47e5358633"
      },
      "execution_count": null,
      "outputs": [
        {
          "output_type": "stream",
          "name": "stdout",
          "text": [
            "tensor(0.7311, dtype=torch.float64, grad_fn=<SigmoidBackward0>)\n",
            "((<AccumulateGrad object at 0x7f321ff08460>, 0),)\n"
          ]
        }
      ]
    },
    {
      "cell_type": "markdown",
      "source": [
        "Are $y$ and `y.grad_fn._saved_result` one and the same?"
      ],
      "metadata": {
        "id": "7i0-ey5PiaZN"
      }
    },
    {
      "cell_type": "code",
      "source": [
        "print(y.grad_fn._saved_result.equal(y))\n",
        "print(y.grad_fn._saved_result is y)"
      ],
      "metadata": {
        "colab": {
          "base_uri": "https://localhost:8080/"
        },
        "id": "1JbVdDqEikg8",
        "outputId": "073094e0-fae0-4f9a-d73d-c334c6dc3f07"
      },
      "execution_count": null,
      "outputs": [
        {
          "output_type": "stream",
          "name": "stdout",
          "text": [
            "True\n",
            "False\n"
          ]
        }
      ]
    },
    {
      "cell_type": "code",
      "source": [
        "z.backward()"
      ],
      "metadata": {
        "id": "Irph6lVCZav6"
      },
      "execution_count": null,
      "outputs": []
    },
    {
      "cell_type": "markdown",
      "source": [
        "* Now the gradients would have been computed for each intermediate nodes. \n",
        "* However, we can access the gradient only for the leaf nodes (unless, we set **retain_grad**=True for other nodes)"
      ],
      "metadata": {
        "id": "KR3RbbdS_8W-"
      }
    },
    {
      "cell_type": "markdown",
      "source": [
        "$$\\frac{\\partial z}{\\partial x}=\\frac{\\partial z}{\\partial y}\\frac{\\partial y}{\\partial x}$$\n",
        "$$\\frac{\\partial z}{\\partial x} = 2*\\sigma(x)*(1-\\sigma(x))=0.3942$$"
      ],
      "metadata": {
        "id": "da40ovCKVWZJ"
      }
    },
    {
      "cell_type": "code",
      "source": [
        "print(x.grad) # leaf node\n",
        "print(z.grad) # non-leaf node\n",
        "print(y.grad) # non-leaf node"
      ],
      "metadata": {
        "colab": {
          "base_uri": "https://localhost:8080/"
        },
        "id": "EGj6WF6K_7y3",
        "outputId": "da5d28eb-f13c-4c1b-b1dc-bd20d977ea36"
      },
      "execution_count": null,
      "outputs": [
        {
          "output_type": "stream",
          "name": "stdout",
          "text": [
            "tensor(0.3932, dtype=torch.float64)\n",
            "None\n",
            "None\n"
          ]
        },
        {
          "output_type": "stream",
          "name": "stderr",
          "text": [
            "<ipython-input-41-7bf8b86aeab0>:2: UserWarning: The .grad attribute of a Tensor that is not a leaf Tensor is being accessed. Its .grad attribute won't be populated during autograd.backward(). If you indeed want the .grad field to be populated for a non-leaf Tensor, use .retain_grad() on the non-leaf Tensor. If you access the non-leaf Tensor by mistake, make sure you access the leaf Tensor instead. See github.com/pytorch/pytorch/pull/30531 for more informations. (Triggered internally at aten/src/ATen/core/TensorBody.h:480.)\n",
            "  print(z.grad) # non-leaf node\n",
            "<ipython-input-41-7bf8b86aeab0>:3: UserWarning: The .grad attribute of a Tensor that is not a leaf Tensor is being accessed. Its .grad attribute won't be populated during autograd.backward(). If you indeed want the .grad field to be populated for a non-leaf Tensor, use .retain_grad() on the non-leaf Tensor. If you access the non-leaf Tensor by mistake, make sure you access the leaf Tensor instead. See github.com/pytorch/pytorch/pull/30531 for more informations. (Triggered internally at aten/src/ATen/core/TensorBody.h:480.)\n",
            "  print(y.grad) # non-leaf node\n"
          ]
        }
      ]
    },
    {
      "cell_type": "markdown",
      "source": [
        "What if I want to calculate the local gradient, $\\frac{\\partial y}{\\partial x}$?\n",
        "$$\\frac{\\partial y}{\\partial x} = \\sigma(x)*(1-\\sigma(x))=0.73*0.7=0.19$$"
      ],
      "metadata": {
        "id": "sgKu9uVCV7lQ"
      }
    },
    {
      "cell_type": "code",
      "source": [
        "x = tensor(1,requires_grad=True, dtype=torch.float64)\n",
        "y = torch.sigmoid(x)\n",
        "z = 2*y"
      ],
      "metadata": {
        "id": "eOf4O5itWFsE"
      },
      "execution_count": null,
      "outputs": []
    },
    {
      "cell_type": "code",
      "source": [
        "y.backward()"
      ],
      "metadata": {
        "id": "NEJpOFqhWV_K"
      },
      "execution_count": null,
      "outputs": []
    },
    {
      "cell_type": "code",
      "source": [
        "print(x.grad)"
      ],
      "metadata": {
        "colab": {
          "base_uri": "https://localhost:8080/"
        },
        "id": "qPGh-vg8XpmS",
        "outputId": "1d1c0dfb-c04a-461c-8a21-6b15afbf3607"
      },
      "execution_count": null,
      "outputs": [
        {
          "output_type": "stream",
          "name": "stdout",
          "text": [
            "tensor(0.1966, dtype=torch.float64)\n"
          ]
        }
      ]
    },
    {
      "cell_type": "markdown",
      "source": [
        "What if we set $\\frac{\\partial z}{\\partial z} = 2$?"
      ],
      "metadata": {
        "id": "634SL-LdX8WQ"
      }
    },
    {
      "cell_type": "code",
      "source": [
        "x = tensor(1,requires_grad=True, dtype=torch.float64)\n",
        "y = torch.sigmoid(x)\n",
        "y.backward(torch.tensor(2.0))\n",
        "print(x.grad)"
      ],
      "metadata": {
        "colab": {
          "base_uri": "https://localhost:8080/"
        },
        "id": "C8Hk5ENSXwZG",
        "outputId": "6c51c115-dd3f-469f-e21d-4ee4681d36fc"
      },
      "execution_count": null,
      "outputs": [
        {
          "output_type": "stream",
          "name": "stdout",
          "text": [
            "tensor(0.3932, dtype=torch.float64)\n"
          ]
        }
      ]
    },
    {
      "cell_type": "markdown",
      "source": [
        "What if we retain the graph?\n",
        "\n",
        "  * That is, executing the `y.backward() `more than one time.\n"
      ],
      "metadata": {
        "id": "fjtgcESaYHnb"
      }
    },
    {
      "cell_type": "code",
      "source": [
        "x = tensor(1,requires_grad=True, dtype=torch.float64)\n",
        "y = torch.sigmoid(x)"
      ],
      "metadata": {
        "id": "VsC1w6EEYMCz"
      },
      "execution_count": null,
      "outputs": []
    },
    {
      "cell_type": "code",
      "source": [
        "y.backward(retain_graph=True)\n",
        "print(x.grad)"
      ],
      "metadata": {
        "colab": {
          "base_uri": "https://localhost:8080/"
        },
        "id": "l0DCi_vZYTSZ",
        "outputId": "3217108d-c948-4a3c-e1e8-7d57fd21eb6b"
      },
      "execution_count": null,
      "outputs": [
        {
          "output_type": "stream",
          "name": "stdout",
          "text": [
            "tensor(0.3932, dtype=torch.float64)\n"
          ]
        }
      ]
    },
    {
      "cell_type": "code",
      "source": [
        "y.backward(retain_graph=False)"
      ],
      "metadata": {
        "id": "jeqIydqqZIDo"
      },
      "execution_count": null,
      "outputs": []
    },
    {
      "cell_type": "code",
      "source": [
        "y.backward()"
      ],
      "metadata": {
        "colab": {
          "base_uri": "https://localhost:8080/",
          "height": 345
        },
        "id": "P24mu0awZSnl",
        "outputId": "7c2aba5b-3a28-4448-9440-ce4fcf66e7e5"
      },
      "execution_count": null,
      "outputs": [
        {
          "output_type": "error",
          "ename": "RuntimeError",
          "evalue": "ignored",
          "traceback": [
            "\u001b[0;31m---------------------------------------------------------------------------\u001b[0m",
            "\u001b[0;31mRuntimeError\u001b[0m                              Traceback (most recent call last)",
            "\u001b[0;32m<ipython-input-62-ab75bb780f4c>\u001b[0m in \u001b[0;36m<module>\u001b[0;34m\u001b[0m\n\u001b[0;32m----> 1\u001b[0;31m \u001b[0my\u001b[0m\u001b[0;34m.\u001b[0m\u001b[0mbackward\u001b[0m\u001b[0;34m(\u001b[0m\u001b[0;34m)\u001b[0m\u001b[0;34m\u001b[0m\u001b[0;34m\u001b[0m\u001b[0m\n\u001b[0m",
            "\u001b[0;32m/usr/local/lib/python3.8/dist-packages/torch/_tensor.py\u001b[0m in \u001b[0;36mbackward\u001b[0;34m(self, gradient, retain_graph, create_graph, inputs)\u001b[0m\n\u001b[1;32m    485\u001b[0m                 \u001b[0minputs\u001b[0m\u001b[0;34m=\u001b[0m\u001b[0minputs\u001b[0m\u001b[0;34m,\u001b[0m\u001b[0;34m\u001b[0m\u001b[0;34m\u001b[0m\u001b[0m\n\u001b[1;32m    486\u001b[0m             )\n\u001b[0;32m--> 487\u001b[0;31m         torch.autograd.backward(\n\u001b[0m\u001b[1;32m    488\u001b[0m             \u001b[0mself\u001b[0m\u001b[0;34m,\u001b[0m \u001b[0mgradient\u001b[0m\u001b[0;34m,\u001b[0m \u001b[0mretain_graph\u001b[0m\u001b[0;34m,\u001b[0m \u001b[0mcreate_graph\u001b[0m\u001b[0;34m,\u001b[0m \u001b[0minputs\u001b[0m\u001b[0;34m=\u001b[0m\u001b[0minputs\u001b[0m\u001b[0;34m\u001b[0m\u001b[0;34m\u001b[0m\u001b[0m\n\u001b[1;32m    489\u001b[0m         )\n",
            "\u001b[0;32m/usr/local/lib/python3.8/dist-packages/torch/autograd/__init__.py\u001b[0m in \u001b[0;36mbackward\u001b[0;34m(tensors, grad_tensors, retain_graph, create_graph, grad_variables, inputs)\u001b[0m\n\u001b[1;32m    195\u001b[0m     \u001b[0;31m# some Python versions print out the first line of a multi-line function\u001b[0m\u001b[0;34m\u001b[0m\u001b[0;34m\u001b[0m\u001b[0;34m\u001b[0m\u001b[0m\n\u001b[1;32m    196\u001b[0m     \u001b[0;31m# calls in the traceback and some print out the last line\u001b[0m\u001b[0;34m\u001b[0m\u001b[0;34m\u001b[0m\u001b[0;34m\u001b[0m\u001b[0m\n\u001b[0;32m--> 197\u001b[0;31m     Variable._execution_engine.run_backward(  # Calls into the C++ engine to run the backward pass\n\u001b[0m\u001b[1;32m    198\u001b[0m         \u001b[0mtensors\u001b[0m\u001b[0;34m,\u001b[0m \u001b[0mgrad_tensors_\u001b[0m\u001b[0;34m,\u001b[0m \u001b[0mretain_graph\u001b[0m\u001b[0;34m,\u001b[0m \u001b[0mcreate_graph\u001b[0m\u001b[0;34m,\u001b[0m \u001b[0minputs\u001b[0m\u001b[0;34m,\u001b[0m\u001b[0;34m\u001b[0m\u001b[0;34m\u001b[0m\u001b[0m\n\u001b[1;32m    199\u001b[0m         allow_unreachable=True, accumulate_grad=True)  # Calls into the C++ engine to run the backward pass\n",
            "\u001b[0;31mRuntimeError\u001b[0m: Trying to backward through the graph a second time (or directly access saved tensors after they have already been freed). Saved intermediate values of the graph are freed when you call .backward() or autograd.grad(). Specify retain_graph=True if you need to backward through the graph a second time or if you need to access saved tensors after calling backward."
          ]
        }
      ]
    },
    {
      "cell_type": "markdown",
      "source": [
        "Key Points:\n",
        "* Computation graph does not create a copy of the tensors to store the results. Instead, they create a pointer to those tensors called **savedTensors**. \n",
        "* This  reduces the memory footprint and also manages the **scope of the tensors** when network really becomes deep.\n",
        "* After calling `.backward()` method, the computation graph will be consumed.\n",
        "* Therefore, trying backward second time will raise an error\n",
        "* We can retain the graph by setting the arg `retain_graph=True`in `backward()`(It has it's use cases like in multi-task learning)\n",
        "\n",
        "More about these at : https://pytorch.org/tutorials/intermediate/autograd_saved_tensors_hooks_tutorial.html\n",
        "\n",
        "Very nice explantion: https://www.youtube.com/watch?v=MswxJw-8PvE \n"
      ],
      "metadata": {
        "id": "va1imVBvfJUT"
      }
    },
    {
      "cell_type": "markdown",
      "source": [
        "# Hooks\n",
        "\n",
        " * How do we manipulate gradients while backpropagating?\n",
        " * How do we store the history of gradients for visualizing/debugging?\n",
        " \n",
        " Hook it!\n",
        " * They are a kind of event handlers (a callable). They will be called when a particular even occurs.\n",
        " * There are two type of hooks we can register: **Tensor** or **nn.Module**\n",
        "\n",
        " * Tensor hooks will be called when `.backward` is called from a tensor in the computation graph.\n",
        "\n",
        " * Module level hooks can be executed when both `forward `and `backward` get called. (Here `forward ` means a forward function in `torch.autograd.Function`)\n",
        "\n",
        "\n",
        "\n",
        "\n",
        " Official Documentation: https://pytorch.org/docs/stable/generated/torch.Tensor.register_hook.html\n",
        "\n",
        " Nice Explanation at : https://www.youtube.com/watch?v=syLFCVYua6Q"
      ],
      "metadata": {
        "id": "Nnmlp1wcZfm2"
      }
    },
    {
      "cell_type": "code",
      "source": [
        "x = tensor(1,requires_grad=True, dtype=torch.float64)\n",
        "y = torch.sigmoid(x)\n",
        "z = 2*y"
      ],
      "metadata": {
        "id": "W-PQEBiCZheM"
      },
      "execution_count": null,
      "outputs": []
    },
    {
      "cell_type": "markdown",
      "source": [
        "\n",
        " * Signature: hook(grad) --> Tensor or None\n",
        " * It is a callable object and takes in `Tensor.grad `as input (`.grad `is automatically passed to the hooks)"
      ],
      "metadata": {
        "id": "vjJxA1NERxsI"
      }
    },
    {
      "cell_type": "code",
      "source": [
        "def y_hook(grad):\n",
        "  print('Grad y wrt z is now',grad)\n",
        "  "
      ],
      "metadata": {
        "id": "OrlDVHqtSLh3"
      },
      "execution_count": null,
      "outputs": []
    },
    {
      "cell_type": "code",
      "source": [
        "y.register_hook(y_hook)"
      ],
      "metadata": {
        "colab": {
          "base_uri": "https://localhost:8080/"
        },
        "id": "co7zaVOVMusN",
        "outputId": "c5ca229c-30d8-4213-b75c-c20c0f5eaffe"
      },
      "execution_count": null,
      "outputs": [
        {
          "output_type": "execute_result",
          "data": {
            "text/plain": [
              "<torch.utils.hooks.RemovableHandle at 0x7f93dc980310>"
            ]
          },
          "metadata": {},
          "execution_count": 18
        }
      ]
    },
    {
      "cell_type": "code",
      "source": [
        "z.backward()"
      ],
      "metadata": {
        "colab": {
          "base_uri": "https://localhost:8080/"
        },
        "id": "W3P4msJbS501",
        "outputId": "5e1d4cef-74f6-437b-b3a1-f2433c3c149e"
      },
      "execution_count": null,
      "outputs": [
        {
          "output_type": "stream",
          "name": "stdout",
          "text": [
            "Grad y wrt z is now tensor(2., dtype=torch.float64)\n"
          ]
        }
      ]
    },
    {
      "cell_type": "markdown",
      "source": [
        "# Going beyond zero-dim Tensor"
      ],
      "metadata": {
        "id": "AKZbc8lUWHwt"
      }
    },
    {
      "cell_type": "markdown",
      "source": [
        "* Now let's change $x$ to a one dimensional tensor (that is, a vector)"
      ],
      "metadata": {
        "id": "n0AxrlufPWOl"
      }
    },
    {
      "cell_type": "code",
      "source": [
        "x = tensor([0.5,0.25],requires_grad=True, dtype=torch.float64)\n",
        "y = x**2+2*x+1\n",
        "z = torch.tanh(y)\n",
        "print(z)"
      ],
      "metadata": {
        "colab": {
          "base_uri": "https://localhost:8080/"
        },
        "id": "D5gXPgP4aa2u",
        "outputId": "f38be813-926d-49d7-a97d-3668a1a3d815"
      },
      "execution_count": null,
      "outputs": [
        {
          "output_type": "stream",
          "name": "stdout",
          "text": [
            "tensor([0.9780, 0.9158], dtype=torch.float64, grad_fn=<TanhBackward0>)\n"
          ]
        }
      ]
    },
    {
      "cell_type": "code",
      "source": [
        "z.backward()"
      ],
      "metadata": {
        "colab": {
          "base_uri": "https://localhost:8080/",
          "height": 311
        },
        "id": "lxXpEBtsbFmw",
        "outputId": "429003c3-6423-4f9c-be9b-7c5aecf74eda"
      },
      "execution_count": null,
      "outputs": [
        {
          "output_type": "error",
          "ename": "RuntimeError",
          "evalue": "ignored",
          "traceback": [
            "\u001b[0;31m---------------------------------------------------------------------------\u001b[0m",
            "\u001b[0;31mRuntimeError\u001b[0m                              Traceback (most recent call last)",
            "\u001b[0;32m<ipython-input-46-40c0c9b0bbab>\u001b[0m in \u001b[0;36m<module>\u001b[0;34m\u001b[0m\n\u001b[0;32m----> 1\u001b[0;31m \u001b[0mz\u001b[0m\u001b[0;34m.\u001b[0m\u001b[0mbackward\u001b[0m\u001b[0;34m(\u001b[0m\u001b[0;34m)\u001b[0m\u001b[0;34m\u001b[0m\u001b[0;34m\u001b[0m\u001b[0m\n\u001b[0m",
            "\u001b[0;32m/usr/local/lib/python3.7/dist-packages/torch/_tensor.py\u001b[0m in \u001b[0;36mbackward\u001b[0;34m(self, gradient, retain_graph, create_graph, inputs)\u001b[0m\n\u001b[1;32m    394\u001b[0m                 \u001b[0mcreate_graph\u001b[0m\u001b[0;34m=\u001b[0m\u001b[0mcreate_graph\u001b[0m\u001b[0;34m,\u001b[0m\u001b[0;34m\u001b[0m\u001b[0;34m\u001b[0m\u001b[0m\n\u001b[1;32m    395\u001b[0m                 inputs=inputs)\n\u001b[0;32m--> 396\u001b[0;31m         \u001b[0mtorch\u001b[0m\u001b[0;34m.\u001b[0m\u001b[0mautograd\u001b[0m\u001b[0;34m.\u001b[0m\u001b[0mbackward\u001b[0m\u001b[0;34m(\u001b[0m\u001b[0mself\u001b[0m\u001b[0;34m,\u001b[0m \u001b[0mgradient\u001b[0m\u001b[0;34m,\u001b[0m \u001b[0mretain_graph\u001b[0m\u001b[0;34m,\u001b[0m \u001b[0mcreate_graph\u001b[0m\u001b[0;34m,\u001b[0m \u001b[0minputs\u001b[0m\u001b[0;34m=\u001b[0m\u001b[0minputs\u001b[0m\u001b[0;34m)\u001b[0m\u001b[0;34m\u001b[0m\u001b[0;34m\u001b[0m\u001b[0m\n\u001b[0m\u001b[1;32m    397\u001b[0m \u001b[0;34m\u001b[0m\u001b[0m\n\u001b[1;32m    398\u001b[0m     \u001b[0;32mdef\u001b[0m \u001b[0mregister_hook\u001b[0m\u001b[0;34m(\u001b[0m\u001b[0mself\u001b[0m\u001b[0;34m,\u001b[0m \u001b[0mhook\u001b[0m\u001b[0;34m)\u001b[0m\u001b[0;34m:\u001b[0m\u001b[0;34m\u001b[0m\u001b[0;34m\u001b[0m\u001b[0m\n",
            "\u001b[0;32m/usr/local/lib/python3.7/dist-packages/torch/autograd/__init__.py\u001b[0m in \u001b[0;36mbackward\u001b[0;34m(tensors, grad_tensors, retain_graph, create_graph, grad_variables, inputs)\u001b[0m\n\u001b[1;32m    164\u001b[0m \u001b[0;34m\u001b[0m\u001b[0m\n\u001b[1;32m    165\u001b[0m     \u001b[0mgrad_tensors_\u001b[0m \u001b[0;34m=\u001b[0m \u001b[0m_tensor_or_tensors_to_tuple\u001b[0m\u001b[0;34m(\u001b[0m\u001b[0mgrad_tensors\u001b[0m\u001b[0;34m,\u001b[0m \u001b[0mlen\u001b[0m\u001b[0;34m(\u001b[0m\u001b[0mtensors\u001b[0m\u001b[0;34m)\u001b[0m\u001b[0;34m)\u001b[0m\u001b[0;34m\u001b[0m\u001b[0;34m\u001b[0m\u001b[0m\n\u001b[0;32m--> 166\u001b[0;31m     \u001b[0mgrad_tensors_\u001b[0m \u001b[0;34m=\u001b[0m \u001b[0m_make_grads\u001b[0m\u001b[0;34m(\u001b[0m\u001b[0mtensors\u001b[0m\u001b[0;34m,\u001b[0m \u001b[0mgrad_tensors_\u001b[0m\u001b[0;34m,\u001b[0m \u001b[0mis_grads_batched\u001b[0m\u001b[0;34m=\u001b[0m\u001b[0;32mFalse\u001b[0m\u001b[0;34m)\u001b[0m\u001b[0;34m\u001b[0m\u001b[0;34m\u001b[0m\u001b[0m\n\u001b[0m\u001b[1;32m    167\u001b[0m     \u001b[0;32mif\u001b[0m \u001b[0mretain_graph\u001b[0m \u001b[0;32mis\u001b[0m \u001b[0;32mNone\u001b[0m\u001b[0;34m:\u001b[0m\u001b[0;34m\u001b[0m\u001b[0;34m\u001b[0m\u001b[0m\n\u001b[1;32m    168\u001b[0m         \u001b[0mretain_graph\u001b[0m \u001b[0;34m=\u001b[0m \u001b[0mcreate_graph\u001b[0m\u001b[0;34m\u001b[0m\u001b[0;34m\u001b[0m\u001b[0m\n",
            "\u001b[0;32m/usr/local/lib/python3.7/dist-packages/torch/autograd/__init__.py\u001b[0m in \u001b[0;36m_make_grads\u001b[0;34m(outputs, grads, is_grads_batched)\u001b[0m\n\u001b[1;32m     65\u001b[0m             \u001b[0;32mif\u001b[0m \u001b[0mout\u001b[0m\u001b[0;34m.\u001b[0m\u001b[0mrequires_grad\u001b[0m\u001b[0;34m:\u001b[0m\u001b[0;34m\u001b[0m\u001b[0;34m\u001b[0m\u001b[0m\n\u001b[1;32m     66\u001b[0m                 \u001b[0;32mif\u001b[0m \u001b[0mout\u001b[0m\u001b[0;34m.\u001b[0m\u001b[0mnumel\u001b[0m\u001b[0;34m(\u001b[0m\u001b[0;34m)\u001b[0m \u001b[0;34m!=\u001b[0m \u001b[0;36m1\u001b[0m\u001b[0;34m:\u001b[0m\u001b[0;34m\u001b[0m\u001b[0;34m\u001b[0m\u001b[0m\n\u001b[0;32m---> 67\u001b[0;31m                     \u001b[0;32mraise\u001b[0m \u001b[0mRuntimeError\u001b[0m\u001b[0;34m(\u001b[0m\u001b[0;34m\"grad can be implicitly created only for scalar outputs\"\u001b[0m\u001b[0;34m)\u001b[0m\u001b[0;34m\u001b[0m\u001b[0;34m\u001b[0m\u001b[0m\n\u001b[0m\u001b[1;32m     68\u001b[0m                 \u001b[0mnew_grads\u001b[0m\u001b[0;34m.\u001b[0m\u001b[0mappend\u001b[0m\u001b[0;34m(\u001b[0m\u001b[0mtorch\u001b[0m\u001b[0;34m.\u001b[0m\u001b[0mones_like\u001b[0m\u001b[0;34m(\u001b[0m\u001b[0mout\u001b[0m\u001b[0;34m,\u001b[0m \u001b[0mmemory_format\u001b[0m\u001b[0;34m=\u001b[0m\u001b[0mtorch\u001b[0m\u001b[0;34m.\u001b[0m\u001b[0mpreserve_format\u001b[0m\u001b[0;34m)\u001b[0m\u001b[0;34m)\u001b[0m\u001b[0;34m\u001b[0m\u001b[0;34m\u001b[0m\u001b[0m\n\u001b[1;32m     69\u001b[0m             \u001b[0;32melse\u001b[0m\u001b[0;34m:\u001b[0m\u001b[0;34m\u001b[0m\u001b[0;34m\u001b[0m\u001b[0m\n",
            "\u001b[0;31mRuntimeError\u001b[0m: grad can be implicitly created only for scalar outputs"
          ]
        }
      ]
    },
    {
      "cell_type": "code",
      "source": [
        "x = tensor([0.5,0.25],requires_grad=True, dtype=torch.float64)\n",
        "y = x**2+2*x+1\n",
        "z = torch.sum(torch.tanh(y)) \n",
        "#z = torch.mean(torch.tanh(y)) some reduction operation\n",
        "\n",
        "print(z)"
      ],
      "metadata": {
        "colab": {
          "base_uri": "https://localhost:8080/"
        },
        "id": "fdaJQA_NbRfn",
        "outputId": "e3de8106-89b9-411c-96ee-0c1df3859556"
      },
      "execution_count": null,
      "outputs": [
        {
          "output_type": "stream",
          "name": "stdout",
          "text": [
            "tensor(0.9469, dtype=torch.float64, grad_fn=<MeanBackward0>)\n"
          ]
        }
      ]
    },
    {
      "cell_type": "code",
      "source": [
        "z.backward()"
      ],
      "metadata": {
        "id": "7DrwckXabZtG"
      },
      "execution_count": null,
      "outputs": []
    },
    {
      "cell_type": "code",
      "source": [
        "print(x.grad)"
      ],
      "metadata": {
        "colab": {
          "base_uri": "https://localhost:8080/"
        },
        "id": "fivhmx3Kbbcc",
        "outputId": "249ade5a-8eb9-40fa-d6cd-c67caca04205"
      },
      "execution_count": null,
      "outputs": [
        {
          "output_type": "stream",
          "name": "stdout",
          "text": [
            "tensor([0.0652, 0.2016], dtype=torch.float64)\n"
          ]
        }
      ]
    },
    {
      "cell_type": "markdown",
      "source": [
        "# Gradient of Tensors"
      ],
      "metadata": {
        "id": "PGpt2wdE1FFB"
      }
    },
    {
      "cell_type": "markdown",
      "source": [
        "Let's say,\n",
        "\n",
        "   $$a=Wx+b$$\n",
        "where,\n",
        "$x \\in \\mathbb{R}^n,\\quad W \\in \\mathbb{R}^{m \\times n}$. \n",
        "* Assume we follow denominator layout while computing gradients for tensors"
      ],
      "metadata": {
        "id": "1rxefRym1O9B"
      }
    },
    {
      "cell_type": "code",
      "source": [
        "torch.random.manual_seed(42)\n",
        "x_bar = torch.tensor([[1],[2]],dtype=torch.float64,requires_grad=True) \n",
        "W = torch.randint(low=0,high=3,size=(2,2),dtype=torch.float64,requires_grad=True)\n",
        "b = torch.randint(low=3,high=5,size=(2,1),dtype=torch.float64,requires_grad=True)\n",
        "\n",
        "a_bar = torch.matmul(W,x_bar)+b # since W requires grad, a_bar's requires_grad arg is set to True by default\n",
        "a_bar.retain_grad()"
      ],
      "metadata": {
        "id": "ZynnviAh1_wr"
      },
      "execution_count": null,
      "outputs": []
    },
    {
      "cell_type": "code",
      "source": [
        "print(x_bar,'\\n',W,'\\n',b,'\\n',a_bar)"
      ],
      "metadata": {
        "colab": {
          "base_uri": "https://localhost:8080/"
        },
        "id": "qQv0iKnI3uPe",
        "outputId": "8a3fc4e5-2be5-4074-f6ec-8c94f5f7ce2b"
      },
      "execution_count": null,
      "outputs": [
        {
          "output_type": "stream",
          "name": "stdout",
          "text": [
            "tensor([[1.],\n",
            "        [2.]], dtype=torch.float64, requires_grad=True) \n",
            " tensor([[0., 2.],\n",
            "        [1., 1.]], dtype=torch.float64, requires_grad=True) \n",
            " tensor([[3.],\n",
            "        [4.]], dtype=torch.float64, requires_grad=True) \n",
            " tensor([[7.],\n",
            "        [7.]], dtype=torch.float64, grad_fn=<AddBackward0>)\n"
          ]
        }
      ]
    },
    {
      "cell_type": "code",
      "source": [
        "L = torch.sum(a_bar)\n",
        "L.retain_grad()\n",
        "L.backward()"
      ],
      "metadata": {
        "id": "nnerJdQRPM4x"
      },
      "execution_count": null,
      "outputs": []
    },
    {
      "cell_type": "code",
      "source": [
        "print(x_bar.grad)\n",
        "print(a_bar.grad)\n",
        "print(L.grad)\n"
      ],
      "metadata": {
        "colab": {
          "base_uri": "https://localhost:8080/"
        },
        "id": "qfkQgxQyPhbB",
        "outputId": "01f8a252-f030-4b09-b6b6-3160ba28f4f7"
      },
      "execution_count": null,
      "outputs": [
        {
          "output_type": "stream",
          "name": "stdout",
          "text": [
            "tensor([[1.],\n",
            "        [3.]], dtype=torch.float64)\n",
            "tensor([[1.],\n",
            "        [1.]], dtype=torch.float64)\n",
            "tensor(1., dtype=torch.float64)\n"
          ]
        }
      ]
    },
    {
      "cell_type": "code",
      "source": [
        "torch.matmul(W.T,torch.tensor([[1],[1]],dtype=torch.float64))"
      ],
      "metadata": {
        "colab": {
          "base_uri": "https://localhost:8080/"
        },
        "id": "jcmThGY5QJjw",
        "outputId": "a19ae60c-1caa-4b8d-e76c-02f3a9a10820"
      },
      "execution_count": null,
      "outputs": [
        {
          "output_type": "execute_result",
          "data": {
            "text/plain": [
              "tensor([[1.],\n",
              "        [3.]], dtype=torch.float64, grad_fn=<MmBackward0>)"
            ]
          },
          "metadata": {},
          "execution_count": 24
        }
      ]
    },
    {
      "cell_type": "markdown",
      "source": [
        "Backprop through a vector: Approach 2 \n",
        " * We summed `a_bar` so that the result is a scalr. Therefore, we can call .*backward* method on the scalar.\n",
        " * the otherway of obtaining the same is to pass the **output gradient** (which is a vector) itself  to the `a_bar.backward().`"
      ],
      "metadata": {
        "id": "moxlnzifYpoZ"
      }
    },
    {
      "cell_type": "code",
      "source": [
        "torch.random.manual_seed(42)\n",
        "x_bar = torch.tensor([[1],[2]],dtype=torch.float64,requires_grad=True) \n",
        "W = torch.randint(low=0,high=3,size=(2,2),dtype=torch.float64,requires_grad=True)\n",
        "b = torch.randint(low=3,high=5,size=(2,1),dtype=torch.float64,requires_grad=True)\n",
        "a_bar = torch.matmul(W,x_bar) "
      ],
      "metadata": {
        "id": "TQDo7JV1ZVdf"
      },
      "execution_count": null,
      "outputs": []
    },
    {
      "cell_type": "code",
      "source": [
        "a_bar.backward()"
      ],
      "metadata": {
        "colab": {
          "base_uri": "https://localhost:8080/",
          "height": 311
        },
        "id": "AHGkZdG8ZjRQ",
        "outputId": "6fc90b53-5641-4156-c42a-3c0037c28927"
      },
      "execution_count": null,
      "outputs": [
        {
          "output_type": "error",
          "ename": "RuntimeError",
          "evalue": "ignored",
          "traceback": [
            "\u001b[0;31m---------------------------------------------------------------------------\u001b[0m",
            "\u001b[0;31mRuntimeError\u001b[0m                              Traceback (most recent call last)",
            "\u001b[0;32m<ipython-input-30-715bb29e414a>\u001b[0m in \u001b[0;36m<module>\u001b[0;34m\u001b[0m\n\u001b[0;32m----> 1\u001b[0;31m \u001b[0ma_bar\u001b[0m\u001b[0;34m.\u001b[0m\u001b[0mbackward\u001b[0m\u001b[0;34m(\u001b[0m\u001b[0;34m)\u001b[0m\u001b[0;34m\u001b[0m\u001b[0;34m\u001b[0m\u001b[0m\n\u001b[0m",
            "\u001b[0;32m/usr/local/lib/python3.7/dist-packages/torch/_tensor.py\u001b[0m in \u001b[0;36mbackward\u001b[0;34m(self, gradient, retain_graph, create_graph, inputs)\u001b[0m\n\u001b[1;32m    394\u001b[0m                 \u001b[0mcreate_graph\u001b[0m\u001b[0;34m=\u001b[0m\u001b[0mcreate_graph\u001b[0m\u001b[0;34m,\u001b[0m\u001b[0;34m\u001b[0m\u001b[0;34m\u001b[0m\u001b[0m\n\u001b[1;32m    395\u001b[0m                 inputs=inputs)\n\u001b[0;32m--> 396\u001b[0;31m         \u001b[0mtorch\u001b[0m\u001b[0;34m.\u001b[0m\u001b[0mautograd\u001b[0m\u001b[0;34m.\u001b[0m\u001b[0mbackward\u001b[0m\u001b[0;34m(\u001b[0m\u001b[0mself\u001b[0m\u001b[0;34m,\u001b[0m \u001b[0mgradient\u001b[0m\u001b[0;34m,\u001b[0m \u001b[0mretain_graph\u001b[0m\u001b[0;34m,\u001b[0m \u001b[0mcreate_graph\u001b[0m\u001b[0;34m,\u001b[0m \u001b[0minputs\u001b[0m\u001b[0;34m=\u001b[0m\u001b[0minputs\u001b[0m\u001b[0;34m)\u001b[0m\u001b[0;34m\u001b[0m\u001b[0;34m\u001b[0m\u001b[0m\n\u001b[0m\u001b[1;32m    397\u001b[0m \u001b[0;34m\u001b[0m\u001b[0m\n\u001b[1;32m    398\u001b[0m     \u001b[0;32mdef\u001b[0m \u001b[0mregister_hook\u001b[0m\u001b[0;34m(\u001b[0m\u001b[0mself\u001b[0m\u001b[0;34m,\u001b[0m \u001b[0mhook\u001b[0m\u001b[0;34m)\u001b[0m\u001b[0;34m:\u001b[0m\u001b[0;34m\u001b[0m\u001b[0;34m\u001b[0m\u001b[0m\n",
            "\u001b[0;32m/usr/local/lib/python3.7/dist-packages/torch/autograd/__init__.py\u001b[0m in \u001b[0;36mbackward\u001b[0;34m(tensors, grad_tensors, retain_graph, create_graph, grad_variables, inputs)\u001b[0m\n\u001b[1;32m    164\u001b[0m \u001b[0;34m\u001b[0m\u001b[0m\n\u001b[1;32m    165\u001b[0m     \u001b[0mgrad_tensors_\u001b[0m \u001b[0;34m=\u001b[0m \u001b[0m_tensor_or_tensors_to_tuple\u001b[0m\u001b[0;34m(\u001b[0m\u001b[0mgrad_tensors\u001b[0m\u001b[0;34m,\u001b[0m \u001b[0mlen\u001b[0m\u001b[0;34m(\u001b[0m\u001b[0mtensors\u001b[0m\u001b[0;34m)\u001b[0m\u001b[0;34m)\u001b[0m\u001b[0;34m\u001b[0m\u001b[0;34m\u001b[0m\u001b[0m\n\u001b[0;32m--> 166\u001b[0;31m     \u001b[0mgrad_tensors_\u001b[0m \u001b[0;34m=\u001b[0m \u001b[0m_make_grads\u001b[0m\u001b[0;34m(\u001b[0m\u001b[0mtensors\u001b[0m\u001b[0;34m,\u001b[0m \u001b[0mgrad_tensors_\u001b[0m\u001b[0;34m,\u001b[0m \u001b[0mis_grads_batched\u001b[0m\u001b[0;34m=\u001b[0m\u001b[0;32mFalse\u001b[0m\u001b[0;34m)\u001b[0m\u001b[0;34m\u001b[0m\u001b[0;34m\u001b[0m\u001b[0m\n\u001b[0m\u001b[1;32m    167\u001b[0m     \u001b[0;32mif\u001b[0m \u001b[0mretain_graph\u001b[0m \u001b[0;32mis\u001b[0m \u001b[0;32mNone\u001b[0m\u001b[0;34m:\u001b[0m\u001b[0;34m\u001b[0m\u001b[0;34m\u001b[0m\u001b[0m\n\u001b[1;32m    168\u001b[0m         \u001b[0mretain_graph\u001b[0m \u001b[0;34m=\u001b[0m \u001b[0mcreate_graph\u001b[0m\u001b[0;34m\u001b[0m\u001b[0;34m\u001b[0m\u001b[0m\n",
            "\u001b[0;32m/usr/local/lib/python3.7/dist-packages/torch/autograd/__init__.py\u001b[0m in \u001b[0;36m_make_grads\u001b[0;34m(outputs, grads, is_grads_batched)\u001b[0m\n\u001b[1;32m     65\u001b[0m             \u001b[0;32mif\u001b[0m \u001b[0mout\u001b[0m\u001b[0;34m.\u001b[0m\u001b[0mrequires_grad\u001b[0m\u001b[0;34m:\u001b[0m\u001b[0;34m\u001b[0m\u001b[0;34m\u001b[0m\u001b[0m\n\u001b[1;32m     66\u001b[0m                 \u001b[0;32mif\u001b[0m \u001b[0mout\u001b[0m\u001b[0;34m.\u001b[0m\u001b[0mnumel\u001b[0m\u001b[0;34m(\u001b[0m\u001b[0;34m)\u001b[0m \u001b[0;34m!=\u001b[0m \u001b[0;36m1\u001b[0m\u001b[0;34m:\u001b[0m\u001b[0;34m\u001b[0m\u001b[0;34m\u001b[0m\u001b[0m\n\u001b[0;32m---> 67\u001b[0;31m                     \u001b[0;32mraise\u001b[0m \u001b[0mRuntimeError\u001b[0m\u001b[0;34m(\u001b[0m\u001b[0;34m\"grad can be implicitly created only for scalar outputs\"\u001b[0m\u001b[0;34m)\u001b[0m\u001b[0;34m\u001b[0m\u001b[0;34m\u001b[0m\u001b[0m\n\u001b[0m\u001b[1;32m     68\u001b[0m                 \u001b[0mnew_grads\u001b[0m\u001b[0;34m.\u001b[0m\u001b[0mappend\u001b[0m\u001b[0;34m(\u001b[0m\u001b[0mtorch\u001b[0m\u001b[0;34m.\u001b[0m\u001b[0mones_like\u001b[0m\u001b[0;34m(\u001b[0m\u001b[0mout\u001b[0m\u001b[0;34m,\u001b[0m \u001b[0mmemory_format\u001b[0m\u001b[0;34m=\u001b[0m\u001b[0mtorch\u001b[0m\u001b[0;34m.\u001b[0m\u001b[0mpreserve_format\u001b[0m\u001b[0;34m)\u001b[0m\u001b[0;34m)\u001b[0m\u001b[0;34m\u001b[0m\u001b[0;34m\u001b[0m\u001b[0m\n\u001b[1;32m     69\u001b[0m             \u001b[0;32melse\u001b[0m\u001b[0;34m:\u001b[0m\u001b[0;34m\u001b[0m\u001b[0;34m\u001b[0m\u001b[0m\n",
            "\u001b[0;31mRuntimeError\u001b[0m: grad can be implicitly created only for scalar outputs"
          ]
        }
      ]
    },
    {
      "cell_type": "code",
      "source": [
        "a_bar.backward(torch.ones_like(a_bar))"
      ],
      "metadata": {
        "id": "1ll6g6keZnTp"
      },
      "execution_count": null,
      "outputs": []
    },
    {
      "cell_type": "code",
      "source": [
        "print(x_bar.grad)"
      ],
      "metadata": {
        "colab": {
          "base_uri": "https://localhost:8080/"
        },
        "id": "_vFYno8mZvg2",
        "outputId": "8b564cd6-7de1-4722-9670-d1146b30792b"
      },
      "execution_count": null,
      "outputs": [
        {
          "output_type": "stream",
          "name": "stdout",
          "text": [
            "tensor([[1.],\n",
            "        [3.]], dtype=torch.float64)\n"
          ]
        }
      ]
    },
    {
      "cell_type": "markdown",
      "source": [
        "# Create a single sigmoid neuron and compute the gradients"
      ],
      "metadata": {
        "id": "NztbgQT8bhse"
      }
    },
    {
      "cell_type": "markdown",
      "source": [
        "Data:\n",
        " \n",
        "  * Sample 100 data points from the following sigmoid function\n",
        "  $$y = \\frac{1}{1+exp(-(2x+1))}$$"
      ],
      "metadata": {
        "id": "9U8UuIAFNb6W"
      }
    },
    {
      "cell_type": "code",
      "source": [
        "x = torch.linspace(-1.0,1.0,100).reshape(100,1)\n",
        "w = torch.randn(size=(1,100))\n",
        "a = torch.matmul(w,x)+1\n",
        "y = 1/(1+torch.exp(-(a)))"
      ],
      "metadata": {
        "id": "KWkSAk7sbnBa"
      },
      "execution_count": null,
      "outputs": []
    },
    {
      "cell_type": "code",
      "source": [
        "print(y)"
      ],
      "metadata": {
        "colab": {
          "base_uri": "https://localhost:8080/"
        },
        "id": "5Gl-QGptP1si",
        "outputId": "80d566d5-ca94-4898-e762-5babe704cff0"
      },
      "execution_count": null,
      "outputs": [
        {
          "output_type": "stream",
          "name": "stdout",
          "text": [
            "tensor([[0.5335]])\n"
          ]
        }
      ]
    },
    {
      "cell_type": "markdown",
      "source": [
        "Model:"
      ],
      "metadata": {
        "id": "ez20ETvZPsXL"
      }
    },
    {
      "cell_type": "code",
      "source": [
        "# parameter initialization\n",
        "w = torch.randn(size=(1,100), requires_grad=True) # leaf tensor\n",
        "b = torch.randn(size=(1,1), requires_grad=True)   # leaf tensor\n",
        "eta = tensor(0.1) # leaf tensor but won't get grad\n",
        "loss = []\n",
        "\n",
        "epochs = 100\n",
        "\n",
        "for i in range(2):\n",
        "  #forward prop\n",
        "  a = torch.matmul(w,x)+b\n",
        "  y_hat = 1/(1+torch.exp(-(a)))\n",
        "\n",
        "  #compute loss\n",
        "  L = torch.pow((y_hat-y),2)\n",
        "  loss.append(L)\n",
        "\n",
        "  # #backprop\n",
        "  L.backward()\n",
        "  print(w.grad)"
      ],
      "metadata": {
        "colab": {
          "base_uri": "https://localhost:8080/"
        },
        "id": "dMuq52hoPqGI",
        "outputId": "e3964c98-0cfe-4860-eb2b-ae90bee6d02e"
      },
      "execution_count": null,
      "outputs": [
        {
          "output_type": "stream",
          "name": "stdout",
          "text": [
            "tensor([[-0.2933, -0.2874, -0.2815, -0.2755, -0.2696, -0.2637, -0.2578, -0.2518,\n",
            "         -0.2459, -0.2400, -0.2340, -0.2281, -0.2222, -0.2163, -0.2103, -0.2044,\n",
            "         -0.1985, -0.1926, -0.1866, -0.1807, -0.1748, -0.1689, -0.1629, -0.1570,\n",
            "         -0.1511, -0.1452, -0.1392, -0.1333, -0.1274, -0.1215, -0.1155, -0.1096,\n",
            "         -0.1037, -0.0978, -0.0918, -0.0859, -0.0800, -0.0741, -0.0681, -0.0622,\n",
            "         -0.0563, -0.0504, -0.0444, -0.0385, -0.0326, -0.0267, -0.0207, -0.0148,\n",
            "         -0.0089, -0.0030,  0.0030,  0.0089,  0.0148,  0.0207,  0.0267,  0.0326,\n",
            "          0.0385,  0.0444,  0.0504,  0.0563,  0.0622,  0.0681,  0.0741,  0.0800,\n",
            "          0.0859,  0.0918,  0.0978,  0.1037,  0.1096,  0.1155,  0.1215,  0.1274,\n",
            "          0.1333,  0.1392,  0.1452,  0.1511,  0.1570,  0.1629,  0.1689,  0.1748,\n",
            "          0.1807,  0.1866,  0.1926,  0.1985,  0.2044,  0.2103,  0.2163,  0.2222,\n",
            "          0.2281,  0.2340,  0.2400,  0.2459,  0.2518,  0.2578,  0.2637,  0.2696,\n",
            "          0.2755,  0.2815,  0.2874,  0.2933]])\n",
            "tensor([[-0.5866, -0.5748, -0.5629, -0.5511, -0.5392, -0.5274, -0.5155, -0.5037,\n",
            "         -0.4918, -0.4800, -0.4681, -0.4562, -0.4444, -0.4325, -0.4207, -0.4088,\n",
            "         -0.3970, -0.3851, -0.3733, -0.3614, -0.3496, -0.3377, -0.3259, -0.3140,\n",
            "         -0.3022, -0.2903, -0.2785, -0.2666, -0.2548, -0.2429, -0.2311, -0.2192,\n",
            "         -0.2074, -0.1955, -0.1837, -0.1718, -0.1600, -0.1481, -0.1363, -0.1244,\n",
            "         -0.1126, -0.1007, -0.0889, -0.0770, -0.0652, -0.0533, -0.0415, -0.0296,\n",
            "         -0.0178, -0.0059,  0.0059,  0.0178,  0.0296,  0.0415,  0.0533,  0.0652,\n",
            "          0.0770,  0.0889,  0.1007,  0.1126,  0.1244,  0.1363,  0.1481,  0.1600,\n",
            "          0.1718,  0.1837,  0.1955,  0.2074,  0.2192,  0.2311,  0.2429,  0.2548,\n",
            "          0.2666,  0.2785,  0.2903,  0.3022,  0.3140,  0.3259,  0.3377,  0.3496,\n",
            "          0.3614,  0.3733,  0.3851,  0.3970,  0.4088,  0.4207,  0.4325,  0.4444,\n",
            "          0.4562,  0.4681,  0.4800,  0.4918,  0.5037,  0.5155,  0.5274,  0.5392,\n",
            "          0.5511,  0.5629,  0.5748,  0.5866]])\n"
          ]
        }
      ]
    },
    {
      "cell_type": "markdown",
      "source": [
        "* Now we have computed **w.grad** and **b.grad** \n",
        "* Let's try to update by re-assignment. \n",
        "\n",
        "  $$w = w - \\eta \\ (w.grad)$$"
      ],
      "metadata": {
        "id": "hqf65pe0mTJY"
      }
    },
    {
      "cell_type": "code",
      "source": [
        "# data generation\n",
        "x = torch.linspace(-1.0,1.0,100).reshape(100,1)\n",
        "w = torch.randn(size=(1,100))\n",
        "a = torch.matmul(w,x)+1\n",
        "y = 1/(1+torch.exp(-(a)))\n",
        "\n",
        "# parameter initialization\n",
        "w = torch.randn(size=(1,100), requires_grad=True) # leaf tensor\n",
        "b = torch.randn(size=(1,1), requires_grad=True)   # leaf tensor\n",
        "eta = tensor(0.1) # leaf tensor but won't get grad\n",
        "loss = []\n",
        "\n",
        "epochs = 100\n",
        "\n",
        "for i in range(2):\n",
        "  #forward prop\n",
        "  a = torch.matmul(w,x)+b\n",
        "  y_hat = 1/(1+torch.exp(-(a)))\n",
        "\n",
        "  #compute loss\n",
        "  L = torch.pow((y_hat-y),2)\n",
        "  loss.append(L)\n",
        "\n",
        "  # #backprop\n",
        "  L.backward()\n",
        "  \n",
        "  #update parameter\n",
        "  print(f'iter:{i}, is_leaf:{w.is_leaf}')\n",
        "  w = w - eta*w.grad\n",
        "  b = b - eta*b.grad\n",
        " \n"
      ],
      "metadata": {
        "colab": {
          "base_uri": "https://localhost:8080/",
          "height": 324
        },
        "id": "C0-ch_9DmSpP",
        "outputId": "b631dc8b-4365-4123-859e-291ac364e2eb"
      },
      "execution_count": null,
      "outputs": [
        {
          "output_type": "stream",
          "name": "stdout",
          "text": [
            "iter:0, is_leaf:True\n",
            "iter:1, is_leaf:False\n"
          ]
        },
        {
          "output_type": "stream",
          "name": "stderr",
          "text": [
            "<ipython-input-35-ffa2d7a9d755>:29: UserWarning: The .grad attribute of a Tensor that is not a leaf Tensor is being accessed. Its .grad attribute won't be populated during autograd.backward(). If you indeed want the .grad field to be populated for a non-leaf Tensor, use .retain_grad() on the non-leaf Tensor. If you access the non-leaf Tensor by mistake, make sure you access the leaf Tensor instead. See github.com/pytorch/pytorch/pull/30531 for more informations. (Triggered internally at aten/src/ATen/core/TensorBody.h:480.)\n",
            "  w = w - eta*w.grad\n"
          ]
        },
        {
          "output_type": "error",
          "ename": "TypeError",
          "evalue": "ignored",
          "traceback": [
            "\u001b[0;31m---------------------------------------------------------------------------\u001b[0m",
            "\u001b[0;31mTypeError\u001b[0m                                 Traceback (most recent call last)",
            "\u001b[0;32m<ipython-input-35-ffa2d7a9d755>\u001b[0m in \u001b[0;36m<module>\u001b[0;34m\u001b[0m\n\u001b[1;32m     27\u001b[0m   \u001b[0;31m#update parameter\u001b[0m\u001b[0;34m\u001b[0m\u001b[0;34m\u001b[0m\u001b[0;34m\u001b[0m\u001b[0m\n\u001b[1;32m     28\u001b[0m   \u001b[0mprint\u001b[0m\u001b[0;34m(\u001b[0m\u001b[0;34mf'iter:{i}, is_leaf:{w.is_leaf}'\u001b[0m\u001b[0;34m)\u001b[0m\u001b[0;34m\u001b[0m\u001b[0;34m\u001b[0m\u001b[0m\n\u001b[0;32m---> 29\u001b[0;31m   \u001b[0mw\u001b[0m \u001b[0;34m=\u001b[0m \u001b[0mw\u001b[0m \u001b[0;34m-\u001b[0m \u001b[0meta\u001b[0m\u001b[0;34m*\u001b[0m\u001b[0mw\u001b[0m\u001b[0;34m.\u001b[0m\u001b[0mgrad\u001b[0m\u001b[0;34m\u001b[0m\u001b[0;34m\u001b[0m\u001b[0m\n\u001b[0m\u001b[1;32m     30\u001b[0m   \u001b[0mb\u001b[0m \u001b[0;34m=\u001b[0m \u001b[0mb\u001b[0m \u001b[0;34m-\u001b[0m \u001b[0meta\u001b[0m\u001b[0;34m*\u001b[0m\u001b[0mb\u001b[0m\u001b[0;34m.\u001b[0m\u001b[0mgrad\u001b[0m\u001b[0;34m\u001b[0m\u001b[0;34m\u001b[0m\u001b[0m\n\u001b[1;32m     31\u001b[0m \u001b[0;34m\u001b[0m\u001b[0m\n",
            "\u001b[0;31mTypeError\u001b[0m: unsupported operand type(s) for *: 'Tensor' and 'NoneType'"
          ]
        }
      ]
    },
    {
      "cell_type": "markdown",
      "source": [
        "* During the zeroth iteation, $w$ was a leaf tensor. Therefore, the weight gets updated by re-assignment.\n",
        "* However, $w$ becomes a non-leaf tensor due to re-assignment.\n",
        "* Therefore, we encounterd the problem when we try to update the parameter using re-assignment after the zeroth iteration\n",
        "\n",
        "  $$w = w - \\eta \\ (w.grad)$$\n",
        "\n"
      ],
      "metadata": {
        "id": "yPg9h8ozyubu"
      }
    },
    {
      "cell_type": "markdown",
      "source": [
        "**Solution:** \n",
        "* Disable computational graph momentarily using **context managaers**\n",
        "* Notice that the parameter update is done using in_place methods `-= `instead of  `w = w- eta*w.grad`"
      ],
      "metadata": {
        "id": "jSm2UY5w9cpK"
      }
    },
    {
      "cell_type": "code",
      "source": [
        "# Do NOT Execute this cell\n",
        "with torch.set_grad_enabled(False):\n",
        "  x = x - x.grad\n",
        "\n",
        "with torch.no_grad():\n",
        "  x = x - x.grad"
      ],
      "metadata": {
        "id": "fcTCSpKnffs6"
      },
      "execution_count": null,
      "outputs": []
    },
    {
      "cell_type": "code",
      "source": [
        "# data generation\n",
        "x = torch.linspace(-1.0,1.0,100).reshape(100,1)\n",
        "w = torch.randn(size=(1,100))\n",
        "a = torch.matmul(w,x)+1\n",
        "y = 1/(1+torch.exp(-(a)))\n",
        "\n",
        "# parameter initialization\n",
        "w = torch.randn(size=(1,100), requires_grad=True) # leaf tensor\n",
        "b = torch.randn(size=(1,1), requires_grad=True)   # leaf tensor\n",
        "eta = tensor(0.1) # leaf tensor but won't get grad\n",
        "loss = []\n",
        "\n",
        "epochs = 100\n",
        "\n",
        "for i in range(2):\n",
        "  #forward prop\n",
        "  a = torch.matmul(w,x)+b\n",
        "  y_hat = 1/(1+torch.exp(-(a)))\n",
        "\n",
        "  #compute loss\n",
        "  L = torch.pow((y_hat-y),2)\n",
        "  loss.append(L)\n",
        "\n",
        "  # #backprop\n",
        "  L.backward()\n",
        "  \n",
        "  #update parameter\n",
        "  print(f'iter:{i}, is_leaf:{w.is_leaf}')\n",
        "  with torch.no_grad():\n",
        "    w -= eta*w.grad\n",
        "    b -= eta*b.grad\n",
        "  #Zero the gradients, otherwise it keeps accumulating\n",
        "  w.grad.zero_()\n",
        "  b.grad.zero_()"
      ],
      "metadata": {
        "id": "weOZBndbgTlB",
        "colab": {
          "base_uri": "https://localhost:8080/"
        },
        "outputId": "48b29b4d-a47e-4684-d723-e1e22aa7c87d"
      },
      "execution_count": null,
      "outputs": [
        {
          "output_type": "stream",
          "name": "stdout",
          "text": [
            "iter:0, is_leaf:True\n",
            "iter:1, is_leaf:True\n"
          ]
        }
      ]
    },
    {
      "cell_type": "markdown",
      "source": [
        "Now run SGD for 100 epochs"
      ],
      "metadata": {
        "id": "PhKVQcqAqJOl"
      }
    },
    {
      "cell_type": "code",
      "source": [
        "# data generation\n",
        "x = torch.linspace(-1.0,1.0,10).reshape(10,1)\n",
        "\n",
        "w = torch.randn(size=(1,10))\n",
        "print('Actual w \\n',w)\n",
        "a = torch.matmul(w,x)+1\n",
        "y = 1/(1+torch.exp(-(a)))\n",
        "\n",
        "# parameter initialization\n",
        "w = torch.randn(size=(1,10), requires_grad=True) # leaf tensor\n",
        "b = torch.randn(size=(1,1), requires_grad=True)   # leaf tensor\n",
        "eta = tensor(0.1) # leaf tensor but won't require grad\n",
        "loss = []\n",
        "\n",
        "epochs = 100\n",
        "\n",
        "for i in range(epochs):\n",
        "  #forward prop\n",
        "  a = torch.matmul(w,x)+b\n",
        "  y_hat = 1/(1+torch.exp(-(a)))\n",
        "\n",
        "  #compute loss\n",
        "  L = torch.pow((y_hat-y),2)\n",
        "  loss.append(L.detach().item())\n",
        "\n",
        "  # #backprop\n",
        "  L.backward()\n",
        "  \n",
        "  #update parameter  \n",
        "  with torch.no_grad():\n",
        "    w -= eta*w.grad\n",
        "    b -= eta*b.grad\n",
        "  #Zero the gradients, otherwise it keeps accumulating\n",
        "  w.grad.zero_()\n",
        "  b.grad.zero_()"
      ],
      "metadata": {
        "colab": {
          "base_uri": "https://localhost:8080/"
        },
        "id": "vOWY1JlvqMZ1",
        "outputId": "51b65d5b-a6d5-4787-b85b-817763378469"
      },
      "execution_count": null,
      "outputs": [
        {
          "output_type": "stream",
          "name": "stdout",
          "text": [
            "Actual w \n",
            " tensor([[ 1.4456,  1.4458,  0.4357,  1.5220,  0.4527,  0.8995, -1.2566,  0.5727,\n",
            "         -1.2306,  0.5351]])\n"
          ]
        }
      ]
    },
    {
      "cell_type": "code",
      "source": [
        "print(w)"
      ],
      "metadata": {
        "colab": {
          "base_uri": "https://localhost:8080/"
        },
        "id": "cKqzG7kmrLoR",
        "outputId": "70be17d7-904d-46e6-c520-67763e60dc61"
      },
      "execution_count": null,
      "outputs": [
        {
          "output_type": "stream",
          "name": "stdout",
          "text": [
            "tensor([[ 0.5593,  1.3524, -0.4972,  1.3921,  0.5011,  0.0123, -0.1090, -0.9322,\n",
            "          0.0014, -1.0361]], requires_grad=True)\n"
          ]
        }
      ]
    },
    {
      "cell_type": "code",
      "source": [
        "import numpy as np\n",
        "from matplotlib import pyplot as plt"
      ],
      "metadata": {
        "id": "JQ5tzf7y2XW2"
      },
      "execution_count": null,
      "outputs": []
    },
    {
      "cell_type": "code",
      "source": [
        "plt.plot(np.array(loss))\n",
        "plt.xlabel('Iteration')\n",
        "plt.show()"
      ],
      "metadata": {
        "colab": {
          "base_uri": "https://localhost:8080/",
          "height": 279
        },
        "id": "aqwmWueZ_vWC",
        "outputId": "0cfe3e3c-12cb-4122-ce72-8819e525af43"
      },
      "execution_count": null,
      "outputs": [
        {
          "output_type": "display_data",
          "data": {
            "text/plain": [
              "<Figure size 432x288 with 1 Axes>"
            ],
            "image/png": "[encoded data removed]"
          },
          "metadata": {
            "needs_background": "light"
          }
        }
      ]
    },
    {
      "cell_type": "markdown",
      "source": [
        "Add hook to track gradient"
      ],
      "metadata": {
        "id": "Th77ELD2vUAP"
      }
    },
    {
      "cell_type": "code",
      "source": [
        "# data generation\n",
        "x = torch.linspace(-1.0,1.0,10).reshape(10,1)\n",
        "\n",
        "w = torch.randn(size=(1,10))\n",
        "print('Actual w \\n',w)\n",
        "a = torch.matmul(w,x)+1\n",
        "y = 1/(1+torch.exp(-(a)))\n",
        "\n",
        "# parameter initialization\n",
        "w = torch.randn(size=(1,10), requires_grad=True) # leaf tensor\n",
        "b = torch.randn(size=(1,1), requires_grad=True)   # leaf tensor\n",
        "eta = tensor(0.1) # leaf tensor but won't require grad\n",
        "loss = []\n",
        "\n",
        "epochs = 100\n",
        "\n",
        "# track history of grad\n",
        "a_grad = []\n",
        "def a_hook(grad):\n",
        "  a_grad.append(grad.detach().item())\n",
        "  return grad\n",
        "\n",
        "for i in range(epochs):\n",
        "  #forward prop\n",
        "  a = torch.matmul(w,x)+b\n",
        "  a.register_hook(a_hook)\n",
        "  y_hat = 1/(1+torch.exp(-(a)))\n",
        "\n",
        "  #compute loss\n",
        "  L = torch.pow((y_hat-y),2)\n",
        "  loss.append(L.detach().item())\n",
        "\n",
        "  # #backprop\n",
        "  L.backward()\n",
        "  \n",
        "  #update parameter  \n",
        "  with torch.no_grad():\n",
        "    w -= eta*w.grad\n",
        "    b -= eta*b.grad\n",
        "  #Zero the gradients, otherwise it keeps accumulating\n",
        "  w.grad.zero_()\n",
        "  b.grad.zero_()"
      ],
      "metadata": {
        "colab": {
          "base_uri": "https://localhost:8080/"
        },
        "id": "lgY-qygCvZnR",
        "outputId": "8c0cd409-6278-4d65-e6a8-973def565452"
      },
      "execution_count": null,
      "outputs": [
        {
          "output_type": "stream",
          "name": "stdout",
          "text": [
            "Actual w \n",
            " tensor([[-2.6297,  0.6650,  0.2847,  0.2359, -0.0734,  1.2571,  0.5650,  0.0621,\n",
            "         -1.9826, -1.2679]])\n"
          ]
        }
      ]
    },
    {
      "cell_type": "code",
      "source": [
        "plt.plot(a_grad)\n",
        "plt.show()"
      ],
      "metadata": {
        "colab": {
          "base_uri": "https://localhost:8080/",
          "height": 265
        },
        "id": "z2llyrNGv6bi",
        "outputId": "8518cdcc-50ae-415c-ed09-14962e8a8a70"
      },
      "execution_count": null,
      "outputs": [
        {
          "output_type": "display_data",
          "data": {
            "text/plain": [
              "<Figure size 432x288 with 1 Axes>"
            ],
            "image/png": "[encoded data removed]"
          },
          "metadata": {
            "needs_background": "light"
          }
        }
      ]
    },
    {
      "cell_type": "markdown",
      "source": [
        "# Building NN\n",
        "\n",
        "  * Now, we have all the tools to build a NN\n",
        "  * Let's considet a simple binary classification problem\n",
        "  "
      ],
      "metadata": {
        "id": "8aQoP5f3mMZz"
      }
    },
    {
      "cell_type": "code",
      "source": [
        "from sklearn.datasets import make_circles\n",
        "from matplotlib import pyplot as plt\n",
        "\n",
        "num_samples = 1000\n",
        "\n",
        "# Create circles\n",
        "X, y = make_circles(num_samples,noise=0.001, random_state=42) \n"
      ],
      "metadata": {
        "id": "bgmhAAILmhxG"
      },
      "execution_count": null,
      "outputs": []
    },
    {
      "cell_type": "code",
      "source": [
        "print(X[(0,),:].T.shape)"
      ],
      "metadata": {
        "colab": {
          "base_uri": "https://localhost:8080/"
        },
        "id": "eqY2bCjOljlY",
        "outputId": "7f21303a-8f3a-4ac3-af72-a68382cd94aa"
      },
      "execution_count": null,
      "outputs": [
        {
          "output_type": "stream",
          "name": "stdout",
          "text": [
            "torch.Size([2, 1])\n"
          ]
        }
      ]
    },
    {
      "cell_type": "code",
      "source": [
        "plt.scatter(x=X[:, 0], \n",
        "            y=X[:, 1], \n",
        "            c=y, \n",
        "            cmap='viridis');"
      ],
      "metadata": {
        "colab": {
          "base_uri": "https://localhost:8080/",
          "height": 265
        },
        "id": "NRZribEniQVa",
        "outputId": "bd643ca2-a65e-41e3-a3ec-6fda19580c55"
      },
      "execution_count": null,
      "outputs": [
        {
          "output_type": "display_data",
          "data": {
            "text/plain": [
              "<Figure size 432x288 with 1 Axes>"
            ],
            "image/png": "[encoded data removed]"
          },
          "metadata": {
            "needs_background": "light"
          }
        }
      ]
    },
    {
      "cell_type": "code",
      "source": [
        "# change the data to tensor\n",
        "X = torch.tensor(X,dtype=torch.float32)\n",
        "y = torch.tensor(y,dtype=torch.float32)\n",
        "\n",
        "# parameter initialization\n",
        "W1 = torch.randn(size=(100,2), requires_grad=True)\n",
        "b1 = torch.randn(size=(100,1), requires_grad=True)\n",
        "W2 = torch.randn(size=(10,100), requires_grad=True)\n",
        "b2 = torch.randn(size=(10,1), requires_grad=True)\n",
        "W3 = torch.randn(size=(1,10), requires_grad=True)\n",
        "b3 = torch.randn(size=(1,1), requires_grad=True)\n",
        "eta = 0.1 \n",
        "loss = []\n",
        "\n",
        "epochs = 1000\n",
        "\n",
        "for i in range(epochs):\n",
        "  #forward prop\n",
        "  a1 = torch.matmul(W1,X[(i,),:].T)+b1 # used (i,) to retain dim while accessing elements in X\n",
        "  h1 = torch.sigmoid(a1)\n",
        "  a2 = torch.matmul(W2,h1)+b2\n",
        "  h2 = torch.sigmoid(a2)\n",
        "  a3 = torch.matmul(W3,h2)+b3\n",
        "  y_hat = torch.sigmoid(a3)\n",
        "  \n",
        "  #compute loss\n",
        "  L = torch.pow((y_hat-y[i]),2)\n",
        "  loss.append(L.detach().item())\n",
        "\n",
        "  # #backprop\n",
        "  \n",
        "  L.backward()   \n",
        " \n",
        "  with torch.no_grad():\n",
        "    W1  -= eta*W1.grad   \n",
        "    b1  -= eta*b1.grad  \n",
        "    W2  -= eta*W2.grad   \n",
        "    b2  -= eta*b2.grad   \n",
        "    W3  -= eta*W3.grad   \n",
        "    b3  -= eta*b3.grad  \n",
        "  # zeroing out the gradients to avoid accumulaton from previous runs\n",
        "  # w.grad = torch.zeros_like(w.grad)\n",
        "  # b.grad = torch.zeros_like(b.grad)\n",
        "  W1.grad.zero_()\n",
        "  b1.grad.zero_()\n",
        "  W2.grad.zero_()\n",
        "  b2.grad.zero_()\n",
        "  W3.grad.zero_()\n",
        "  b3.grad.zero_()"
      ],
      "metadata": {
        "id": "-_1awIDKlSrh",
        "colab": {
          "base_uri": "https://localhost:8080/"
        },
        "outputId": "7e4daa8b-aed2-4a0b-82f1-1ba7516601ee"
      },
      "execution_count": null,
      "outputs": [
        {
          "output_type": "stream",
          "name": "stderr",
          "text": [
            "<ipython-input-19-95cb1ecc1c5b>:2: UserWarning: To copy construct from a tensor, it is recommended to use sourceTensor.clone().detach() or sourceTensor.clone().detach().requires_grad_(True), rather than torch.tensor(sourceTensor).\n",
            "  X = torch.tensor(X,dtype=torch.float32)\n",
            "<ipython-input-19-95cb1ecc1c5b>:3: UserWarning: To copy construct from a tensor, it is recommended to use sourceTensor.clone().detach() or sourceTensor.clone().detach().requires_grad_(True), rather than torch.tensor(sourceTensor).\n",
            "  y = torch.tensor(y,dtype=torch.float32)\n"
          ]
        }
      ]
    },
    {
      "cell_type": "code",
      "source": [
        "plt.plot(loss)\n",
        "plt.show()"
      ],
      "metadata": {
        "colab": {
          "base_uri": "https://localhost:8080/",
          "height": 282
        },
        "id": "uX36v-fkfJb2",
        "outputId": "c31ffecd-bf61-45b0-9b5b-e7c0e925eac7"
      },
      "execution_count": null,
      "outputs": [
        {
          "output_type": "execute_result",
          "data": {
            "text/plain": [
              "[<matplotlib.lines.Line2D at 0x7f994d5cffa0>]"
            ]
          },
          "metadata": {},
          "execution_count": 20
        },
        {
          "output_type": "display_data",
          "data": {
            "text/plain": [
              "<Figure size 432x288 with 1 Axes>"
            ],
            "image/png": "[encoded data removed]"
          },
          "metadata": {
            "needs_background": "light"
          }
        }
      ]
    },
    {
      "cell_type": "markdown",
      "source": [
        "#Batch GD"
      ],
      "metadata": {
        "id": "JPN0pf7Lp4qr"
      }
    },
    {
      "cell_type": "code",
      "source": [
        "# change the data to tensor\n",
        "X = torch.tensor(X,dtype=torch.float32)\n",
        "y = torch.tensor(y,dtype=torch.float32)\n",
        "\n",
        "# parameter initialization\n",
        "torch.manual_seed(0)\n",
        "W1 = torch.randn(size=(10,2), requires_grad=True)\n",
        "b1 = torch.randn(size=(10,1), requires_grad=True)\n",
        "W2 = torch.randn(size=(5,10), requires_grad=True)\n",
        "b2 = torch.randn(size=(5,1), requires_grad=True)\n",
        "W3 = torch.randn(size=(1,5), requires_grad=True)\n",
        "b3 = torch.randn(size=(1,1), requires_grad=True)\n",
        "eta = 0.1 \n",
        "loss = []\n",
        "\n",
        "epochs = 100\n",
        "\n",
        "for i in range(epochs):\n",
        "\n",
        "    #forward prop\n",
        "  acc_loss = 0\n",
        "  for i in range(len(X)):\n",
        "    a1 = torch.matmul(W1,X[(i,),:].T)+b1 # used (i,) to retain dim while accessing elements in X\n",
        "    h1 = torch.sigmoid(a1)\n",
        "    a2 = torch.matmul(W2,h1)+b2\n",
        "    h2 = torch.sigmoid(a2)\n",
        "    a3 = torch.matmul(W3,h2)+b3\n",
        "    y_hat = torch.sigmoid(a3)\n",
        "    L = (1/1000)*torch.pow((y_hat-y[i]),2) \n",
        "    acc_loss += L.detach().item()\n",
        "    # backprop\n",
        "    L.backward() \n",
        "    \n",
        "    \n",
        "\n",
        "  #compute loss   \n",
        "  loss.append(acc_loss)\n",
        "  with torch.no_grad():\n",
        "    W1  -= eta*W1.grad   \n",
        "    b1  -= eta*b1.grad  \n",
        "    W2  -= eta*W2.grad   \n",
        "    b2  -= eta*b2.grad   \n",
        "    W3  -= eta*W3.grad   \n",
        "    b3  -= eta*b3.grad  \n",
        "  # zeroing out the gradients to avoid accumulaton from previous runs\n",
        "  # w.grad = torch.zeros_like(w.grad)\n",
        "  # b.grad = torch.zeros_like(b.grad)\n",
        "  W1.grad.zero_()\n",
        "  b1.grad.zero_()\n",
        "  W2.grad.zero_()\n",
        "  b2.grad.zero_()\n",
        "  W3.grad.zero_()\n",
        "  b3.grad.zero_()"
      ],
      "metadata": {
        "colab": {
          "base_uri": "https://localhost:8080/"
        },
        "id": "1nObGtrNp4M3",
        "outputId": "92208973-49ce-4e10-dea2-7cb31b59c895"
      },
      "execution_count": null,
      "outputs": [
        {
          "output_type": "stream",
          "name": "stderr",
          "text": [
            "<ipython-input-104-ea8f11849b68>:2: UserWarning: To copy construct from a tensor, it is recommended to use sourceTensor.clone().detach() or sourceTensor.clone().detach().requires_grad_(True), rather than torch.tensor(sourceTensor).\n",
            "  X = torch.tensor(X,dtype=torch.float32)\n",
            "<ipython-input-104-ea8f11849b68>:3: UserWarning: To copy construct from a tensor, it is recommended to use sourceTensor.clone().detach() or sourceTensor.clone().detach().requires_grad_(True), rather than torch.tensor(sourceTensor).\n",
            "  y = torch.tensor(y,dtype=torch.float32)\n"
          ]
        }
      ]
    },
    {
      "cell_type": "code",
      "source": [
        "plt.plot(loss)"
      ],
      "metadata": {
        "colab": {
          "base_uri": "https://localhost:8080/",
          "height": 282
        },
        "id": "FrThQXBK1sjX",
        "outputId": "e9f4543b-2ca5-4a26-d018-b10372f112c6"
      },
      "execution_count": null,
      "outputs": [
        {
          "output_type": "execute_result",
          "data": {
            "text/plain": [
              "[<matplotlib.lines.Line2D at 0x7f994c63d760>]"
            ]
          },
          "metadata": {},
          "execution_count": 105
        },
        {
          "output_type": "display_data",
          "data": {
            "text/plain": [
              "<Figure size 432x288 with 1 Axes>"
            ],
            "image/png": "[encoded data removed]"
          },
          "metadata": {
            "needs_background": "light"
          }
        }
      ]
    },
    {
      "cell_type": "markdown",
      "source": [
        "# Visualize the decision regions"
      ],
      "metadata": {
        "id": "3kg2hzNH9Ncu"
      }
    },
    {
      "cell_type": "code",
      "source": [
        "def infer(x):\n",
        "  with torch.no_grad():\n",
        "    a1 = torch.matmul(W1,x.T)+b1 # used (i,) to retain dim while accessing elements in X\n",
        "    h1 = torch.sigmoid(a1)\n",
        "    a2 = torch.matmul(W2,h1)+b2\n",
        "    h2 = torch.sigmoid(a2)\n",
        "    a3 = torch.matmul(W3,h2)+b3\n",
        "    y_hat = torch.sigmoid(a3)\n",
        "  return y_hat"
      ],
      "metadata": {
        "id": "Rf8AhGq89VTt"
      },
      "execution_count": null,
      "outputs": []
    },
    {
      "cell_type": "code",
      "source": [
        "import numpy as np"
      ],
      "metadata": {
        "id": "KOcEPXpr-5Rs"
      },
      "execution_count": null,
      "outputs": []
    },
    {
      "cell_type": "code",
      "source": [
        "x1 = np.linspace(-1,1,100)\n",
        "x2 = np.linspace(-1,1,100)\n",
        "xx,yy = np.meshgrid(x1,x2)\n",
        "x_features = torch.from_numpy(np.column_stack((xx.ravel(), yy.ravel()))).float()"
      ],
      "metadata": {
        "id": "EQqIcfjJ9Q8Y"
      },
      "execution_count": null,
      "outputs": []
    },
    {
      "cell_type": "code",
      "source": [
        "x_features[1].shape"
      ],
      "metadata": {
        "colab": {
          "base_uri": "https://localhost:8080/"
        },
        "id": "Mm5O6koeGAOQ",
        "outputId": "4a0e8d43-819b-438c-851d-35a705d4a10b"
      },
      "execution_count": null,
      "outputs": [
        {
          "output_type": "execute_result",
          "data": {
            "text/plain": [
              "torch.Size([2])"
            ]
          },
          "metadata": {},
          "execution_count": 72
        }
      ]
    },
    {
      "cell_type": "code",
      "source": [
        "y_pred = np.zeros((10000,1))\n",
        "for i in range(x_features.shape[0]):\n",
        "  y_pred[i]=infer(x_features[(i,),:])"
      ],
      "metadata": {
        "id": "PMN4jFUm_pCG"
      },
      "execution_count": null,
      "outputs": []
    },
    {
      "cell_type": "code",
      "source": [
        "y_pred = y_pred > 0.5"
      ],
      "metadata": {
        "id": "QZyp-riTJb7_"
      },
      "execution_count": null,
      "outputs": []
    },
    {
      "cell_type": "code",
      "source": [
        "plt.contourf(xx, yy, y_pred.reshape(xx.shape), cmap=plt.cm.RdYlBu, alpha=0.7)\n",
        "plt.scatter(X[:, 0], X[:, 1], c=y, s=40, cmap=plt.cm.RdYlBu)"
      ],
      "metadata": {
        "colab": {
          "base_uri": "https://localhost:8080/",
          "height": 282
        },
        "id": "1cvKwRjmCAZp",
        "outputId": "34bd03e3-29f7-4e22-ad5e-82508c3a6234"
      },
      "execution_count": null,
      "outputs": [
        {
          "output_type": "execute_result",
          "data": {
            "text/plain": [
              "<matplotlib.collections.PathCollection at 0x7f994c58cd30>"
            ]
          },
          "metadata": {},
          "execution_count": 107
        },
        {
          "output_type": "display_data",
          "data": {
            "text/plain": [
              "<Figure size 432x288 with 1 Axes>"
            ],
            "image/png": "[encoded data removed]"
          },
          "metadata": {
            "needs_background": "light"
          }
        }
      ]
    },
    {
      "cell_type": "markdown",
      "source": [
        "#Important\n",
        "\n",
        "   The computation graph is recreated from scratch **at every iteration**, and this is exactly what allows for using arbitrary Python control flow statements, that **can change** the overall shape and size of the graph **at every iteration**.\n",
        "\n",
        "   This is called a **dynamic graph**. (Using static graph prohibits this kind of flexibility)"
      ],
      "metadata": {
        "id": "yubxYExBWn5u"
      }
    },
    {
      "cell_type": "markdown",
      "source": [
        "#References\n",
        "\n",
        " * https://pytorch.org/docs/stable/autograd.html\n",
        " * https://pytorch.org/docs/stable/notes/autograd.html\n",
        " * https://pytorch.org/tutorials/intermediate/autograd_saved_tensors_hooks_tutorial.html\n",
        " * https://www.youtube.com/watch?v=MswxJw-8PvE\n",
        " * https://pytorch.org/tutorials/intermediate/autograd_saved_tensors_hooks_tutorial.html\n",
        "\n"
      ],
      "metadata": {
        "id": "bisqhNQucCv1"
      }
    }
  ]
}