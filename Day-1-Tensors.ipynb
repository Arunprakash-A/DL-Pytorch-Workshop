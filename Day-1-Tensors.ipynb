{
  "nbformat": 4,
  "nbformat_minor": 0,
  "metadata": {
    "colab": {
      "provenance": []
    },
    "kernelspec": {
      "name": "python3",
      "display_name": "Python 3"
    },
    "language_info": {
      "name": "python"
    }
  },
  "cells": [
    {
      "cell_type": "markdown",
      "source": [
        "**Day-1:** Understanding Pytorch Tensors <br>\n",
        "**Author:** Arun Prakash A <br>\n"
      ],
      "metadata": {
        "id": "zk8MZVACzBQa"
      }
    },
    {
      "cell_type": "markdown",
      "source": [
        "**Tensor: The Fundamental Data Structure of PyTorch (DL in general)**\n",
        " * Multidimensional Array (ndarray) in Numpy \n",
        " * Tensors in PyTorch"
      ],
      "metadata": {
        "id": "59lej4f8fI2A"
      }
    },
    {
      "cell_type": "code",
      "execution_count": 4,
      "metadata": {
        "id": "0p31pE0XwHpP"
      },
      "outputs": [],
      "source": [
        "import torch"
      ]
    },
    {
      "cell_type": "code",
      "source": [
        "# help(torch)"
      ],
      "metadata": {
        "id": "PmY3hWpUzofl"
      },
      "execution_count": null,
      "outputs": []
    },
    {
      "cell_type": "code",
      "source": [
        "print(torch.__version__)"
      ],
      "metadata": {
        "colab": {
          "base_uri": "https://localhost:8080/"
        },
        "id": "QdU2fAWV07B6",
        "outputId": "1e001e03-4ae2-4292-8def-174d71beb51c"
      },
      "execution_count": null,
      "outputs": [
        {
          "output_type": "stream",
          "name": "stdout",
          "text": [
            "1.12.1+cu113\n"
          ]
        }
      ]
    },
    {
      "cell_type": "markdown",
      "source": [
        "Pytorch 2.0 has just got released a few weeks ago. However, the version 1.12 is more than enough for the workshop.\n",
        "\n",
        "To know more: https://pytorch.org/get-started/pytorch-2.0/"
      ],
      "metadata": {
        "id": "1Gj9KFRSXXCA"
      }
    },
    {
      "cell_type": "markdown",
      "source": [
        "# Some (Boring) things that you must be aware of"
      ],
      "metadata": {
        "id": "3qyYxeop9tX9"
      }
    },
    {
      "cell_type": "markdown",
      "source": [
        "(From Python's view) What is the **torch** by the way?\n",
        "\n",
        "   * Is it a module, class, function, method..?"
      ],
      "metadata": {
        "id": "PcHRG1Wg3w9G"
      }
    },
    {
      "cell_type": "code",
      "source": [
        "torch"
      ],
      "metadata": {
        "colab": {
          "base_uri": "https://localhost:8080/"
        },
        "id": "p-jgVujE3ttX",
        "outputId": "454c6601-79c8-4771-f9c1-85f0a6bbdb94"
      },
      "execution_count": 2,
      "outputs": [
        {
          "output_type": "execute_result",
          "data": {
            "text/plain": [
              "<module 'torch' from '/usr/local/lib/python3.8/dist-packages/torch/__init__.py'>"
            ]
          },
          "metadata": {},
          "execution_count": 2
        }
      ]
    },
    {
      "cell_type": "markdown",
      "source": [
        "What does a module contains?\n",
        "\n",
        "   * Function definitions\n",
        "   * Imports of supporting packages\n",
        "   * Class definitions and so on\n",
        "   \n",
        "  \n",
        "Note: Module can be written in python and also in C/Cpp. "
      ],
      "metadata": {
        "id": "HrB1yNoQ5bCH"
      }
    },
    {
      "cell_type": "code",
      "source": [
        "with open(torch.__file__) as file:\n",
        "  print(file.read())"
      ],
      "metadata": {
        "id": "TVIii0KUDnGS"
      },
      "execution_count": 1,
      "outputs": []
    },
    {
      "cell_type": "markdown",
      "source": [
        "* Let's see how many objects are callable in the **torch** module. <br>\n",
        "* Note, callable doesn't mean it should be a pure function and it does not mean it should return something when called.\n",
        "* classes are callable (calling a class returns a new instance); instances are callable if their class has a __call__() method."
      ],
      "metadata": {
        "id": "OpaU7dlRC4YF"
      }
    },
    {
      "cell_type": "code",
      "source": [
        "counter = 0\n",
        "for (i,attrib) in enumerate(dir(torch)):\n",
        "  if callable(eval(f'torch.{attrib}')):\n",
        "    print(attrib,sep='',end='\\t')\n",
        "    counter += 1\n",
        "    if (i+1)%10 == 0:\n",
        "      print('\\n')"
      ],
      "metadata": {
        "colab": {
          "base_uri": "https://localhost:8080/"
        },
        "id": "v7Qu53nT1Kus",
        "outputId": "844fd778-d4f5-4296-b0f4-5da500ce3b33",
        "collapsed": true
      },
      "execution_count": null,
      "outputs": [
        {
          "output_type": "stream",
          "name": "stdout",
          "text": [
            "AggregationType\tAliasDb\tAnyType\tArgument\tArgumentSpec\tBFloat16Storage\tBFloat16Tensor\tBenchmarkConfig\tBenchmarkExecutionStats\t\n",
            "\n",
            "Block\tBoolStorage\tBoolTensor\tBoolType\tBufferDict\tByteStorage\tByteTensor\tCallStack\tCallable\t\n",
            "\n",
            "Capsule\tCharStorage\tCharTensor\tClassType\tCode\tCompilationUnit\tCompleteArgumentSpec\tComplexDoubleStorage\tComplexFloatStorage\tComplexType\t\n",
            "\n",
            "ConcreteModuleType\tConcreteModuleTypeBuilder\tDeepCopyMemoTable\tDeserializationStorageContext\tDeviceObjType\tDictType\tDisableTorchFunction\tDoubleStorage\tDoubleTensor\tEnumType\t\n",
            "\n",
            "ErrorReport\tExecutionPlan\tFatalError\tFileCheck\tFloatStorage\tFloatTensor\tFloatType\tFunctionSchema\tFuture\t\n",
            "\n",
            "FutureType\tGenerator\tGradient\tGraph\tGraphExecutorState\tHalfStorage\tHalfTensor\tIODescriptor\t\n",
            "\n",
            "InferredType\tIntStorage\tIntTensor\tIntType\tInterfaceType\tJITException\tListType\tLiteScriptModule\tLockingLogger\tLoggerBase\t\n",
            "\n",
            "LongStorage\tLongTensor\tMobileOptimizerType\tModuleDict\tNode\tNoneType\tNoopLogger\tNumberType\tOperatorInfo\tOptionalType\t\n",
            "\n",
            "ParameterDict\tPyObjectType\tPyTorchFileReader\tPyTorchFileWriter\tQInt32Storage\tQInt8Storage\tQUInt2x4Storage\tQUInt4x2Storage\tQUInt8Storage\t\n",
            "\n",
            "RRefType\tScriptClass\tScriptClassFunction\tScriptDict\tScriptDictIterator\tScriptDictKeyIterator\tScriptFunction\tScriptList\t\n",
            "\n",
            "ScriptListIterator\tScriptMethod\tScriptModule\tScriptModuleSerializer\tScriptObject\tScriptObjectProperty\tSerializationStorageContext\tSet\tShortStorage\tShortTensor\t\n",
            "\n",
            "Size\tStaticModule\tStorage\tStorageBase\tStream\tStreamObjType\tStringType\tSymIntType\tTensor\t\n",
            "\n",
            "TensorType\tThroughputBenchmark\tTracingState\tTupleType\tType\tUnion\tUnionType\tUse\t\n",
            "\n",
            "Value\t_TypedStorage\t_UntypedStorage\t_adaptive_avg_pool2d\t\n",
            "\n",
            "_adaptive_avg_pool3d\t_add_batch_dim\t_add_relu\t_add_relu_\t_addmm_activation\t_aminmax\t_amp_foreach_non_finite_check_and_unscale_\t_amp_update_scale_\t_assert\t_assert_async\t\n",
            "\n",
            "_batch_norm_impl_index\t_cast_Byte\t_cast_Char\t_cast_Double\t_cast_Float\t_cast_Half\t_cast_Int\t_cast_Long\t_cast_Short\t_choose_qparams_per_tensor\t\n",
            "\n",
            "_coalesce\t_compute_linear_combination\t_conj\t_conj_copy\t_conj_physical\t_convert_indices_from_coo_to_csr\t_convert_indices_from_csr_to_coo\t_convolution\t_convolution_mode\t\n",
            "\n",
            "_copy_from\t_copy_from_and_resize\t_ctc_loss\t_cudnn_ctc_loss\t_cudnn_init_dropout_state\t_cudnn_rnn\t_cudnn_rnn_flatten_weight\t_cufft_clear_plan_cache\t_cufft_get_plan_cache_max_size\t_cufft_get_plan_cache_size\t\n",
            "\n",
            "_cufft_set_plan_cache_max_size\t_cummax_helper\t_cummin_helper\t_debug_has_internal_overlap\t_det_lu_based_helper\t_det_lu_based_helper_backward_helper\t_dim_arange\t_dirichlet_grad\t_disable_functionalization\t_efficientzerotensor\t\n",
            "\n",
            "_embedding_bag\t_embedding_bag_forward_only\t_empty_affine_quantized\t_empty_per_channel_affine_quantized\t_enable_functionalization\t_euclidean_dist\t_fake_quantize_learnable_per_channel_affine\t_fake_quantize_learnable_per_tensor_affine\t_fake_quantize_per_tensor_affine_cachemask_tensor_qparams\t_fft_c2c\t\n",
            "\n",
            "_fft_c2r\t_fft_r2c\t_foreach_abs\t_foreach_abs_\t_foreach_acos\t_foreach_acos_\t_foreach_add\t_foreach_add_\t_foreach_addcdiv\t_foreach_addcdiv_\t\n",
            "\n",
            "_foreach_addcmul\t_foreach_addcmul_\t_foreach_asin\t_foreach_asin_\t_foreach_atan\t_foreach_atan_\t_foreach_ceil\t_foreach_ceil_\t_foreach_cos\t_foreach_cos_\t\n",
            "\n",
            "_foreach_cosh\t_foreach_cosh_\t_foreach_div\t_foreach_div_\t_foreach_erf\t_foreach_erf_\t_foreach_erfc\t_foreach_erfc_\t_foreach_exp\t_foreach_exp_\t\n",
            "\n",
            "_foreach_expm1\t_foreach_expm1_\t_foreach_floor\t_foreach_floor_\t_foreach_frac\t_foreach_frac_\t_foreach_lgamma\t_foreach_lgamma_\t_foreach_log\t_foreach_log10\t\n",
            "\n",
            "_foreach_log10_\t_foreach_log1p\t_foreach_log1p_\t_foreach_log2\t_foreach_log2_\t_foreach_log_\t_foreach_maximum\t_foreach_minimum\t_foreach_mul\t_foreach_mul_\t\n",
            "\n",
            "_foreach_neg\t_foreach_neg_\t_foreach_norm\t_foreach_reciprocal\t_foreach_reciprocal_\t_foreach_round\t_foreach_round_\t_foreach_sigmoid\t_foreach_sigmoid_\t_foreach_sin\t\n",
            "\n",
            "_foreach_sin_\t_foreach_sinh\t_foreach_sinh_\t_foreach_sqrt\t_foreach_sqrt_\t_foreach_sub\t_foreach_sub_\t_foreach_tan\t_foreach_tan_\t_foreach_tanh\t\n",
            "\n",
            "_foreach_tanh_\t_foreach_trunc\t_foreach_trunc_\t_foreach_zero_\t_from_functional_tensor\t_fused_dropout\t_fused_moving_avg_obs_fq_helper\t_fw_primal_copy\t_grid_sampler_2d_cpu_fallback\t_has_compatible_shallow_copy_type\t\n",
            "\n",
            "_histogramdd_bin_edges\t_histogramdd_from_bin_cts\t_histogramdd_from_bin_tensors\t_import_dotted_name\t_index_put_impl_\t_indices_copy\t_initExtension\t_is_functional_tensor\t_is_zerotensor\t_linalg_check_errors\t_linalg_inv_out_helper_\t_linalg_qr_helper\t_linalg_svd\t_load_global_deps\t_log_softmax\t_log_softmax_backward_data\t_logcumsumexp\t\n",
            "\n",
            "_lstm_mps\t_lu_with_info\t_make_dual\t_make_dual_copy\t_make_per_channel_quantized_tensor\t_make_per_tensor_quantized_tensor\t_masked_scale\t_masked_softmax\t\n",
            "\n",
            "_mkldnn_reshape\t_mkldnn_transpose\t_mkldnn_transpose_\t_mps_convolution\t_mps_convolution_transpose\t_mps_linear_backward_weights\t_mps_max_pool2d\t_native_multi_head_attention\t_neg_view\t_neg_view_copy\t_nested_from_padded\t_nested_from_padded_and_nested_example\t_nested_tensor_from_mask\t_nnpack_available\t_nnpack_spatial_convolution\t_pack_padded_sequence\t\n",
            "\n",
            "_pad_packed_sequence\t_pin_memory\t_register_device_module\t_remove_batch_dim\t_reshape_alias_copy\t_reshape_from_tensor\t_resize_output_\t_rowwise_prune\t_sample_dirichlet\t\n",
            "\n",
            "_saturate_weight_to_fp16\t_shape_as_tensor\t_sobol_engine_draw\t_sobol_engine_ff_\t_sobol_engine_initialize_state_\t_sobol_engine_scramble_\t_softmax\t_softmax_backward_data\t_sparse_broadcast_to\t_sparse_broadcast_to_copy\t_sparse_bsc_tensor_unsafe\t_sparse_bsr_tensor_unsafe\t_sparse_compressed_tensor_unsafe\t_sparse_coo_tensor_unsafe\t_sparse_csc_tensor_unsafe\t_sparse_csr_prod\t_sparse_csr_sum\t_sparse_csr_tensor_unsafe\t\n",
            "\n",
            "_sparse_log_softmax_backward_data\t_sparse_mask_helper\t_sparse_softmax_backward_data\t_sparse_sparse_matmul\t_sparse_sum\t_stack\t_standard_gamma\t_standard_gamma_grad\t_sync\t_test_serialization_subcmul\t_to_cpu\t_to_functional_tensor\t_torch_cuda_cu_linker_symbol_op\t_transform_bias_rescale_qkv\t_transformer_encoder_layer_fwd\t\n",
            "\n",
            "_trilinear\t_unique\t_unique2\t_unpack_dual\t_use_cudnn_ctc_loss\t_use_cudnn_rnn_flatten_weight\t_validate_sparse_bsc_tensor_args\t_validate_sparse_bsr_tensor_args\t\n",
            "\n",
            "_validate_sparse_compressed_tensor_args\t_validate_sparse_coo_tensor_args\t_validate_sparse_csc_tensor_args\t_validate_sparse_csr_tensor_args\t_values_copy\t_weight_norm\t_weight_norm_interface\tabs\tabs_\t\n",
            "\n",
            "absolute\tacos\tacos_\tacosh\tacosh_\tadaptive_avg_pool1d\tadaptive_max_pool1d\tadd\taddbmm\taddcdiv\t\n",
            "\n",
            "addcmul\taddmm\taddmv\taddmv_\taddr\tadjoint\taffine_grid_generator\talias_copy\talign_tensors\tall\t\n",
            "\n",
            "allclose\talpha_dropout\talpha_dropout_\tamax\tamin\taminmax\tangle\tany\tarange\tarccos\tarccos_\tarccosh\tarccosh_\tarcsin\tarcsin_\tarcsinh\tarcsinh_\tarctan\t\n",
            "\n",
            "arctan2\tarctan_\tarctanh\tarctanh_\tare_deterministic_algorithms_enabled\targmax\targmin\targsort\targwhere\tas_strided\t\n",
            "\n",
            "as_strided_\tas_strided_copy\tas_tensor\tasarray\tasin\tasin_\tasinh\tasinh_\tatan\tatan2\t\n",
            "\n",
            "atan_\tatanh\tatanh_\tatleast_1d\tatleast_2d\tatleast_3d\tautocast\tautocast_decrement_nesting\tautocast_increment_nesting\t\n",
            "\n",
            "avg_pool1d\tbaddbmm\tbartlett_window\tbatch_norm\tbatch_norm_backward_elemt\tbatch_norm_backward_reduce\tbatch_norm_elemt\tbatch_norm_gather_stats\t\n",
            "\n",
            "batch_norm_gather_stats_with_counts\tbatch_norm_stats\tbatch_norm_update_stats\tbernoulli\tbilinear\tbinary_cross_entropy_with_logits\tbincount\tbinomial\tbitwise_and\t\n",
            "\n",
            "bitwise_left_shift\tbitwise_not\tbitwise_or\tbitwise_right_shift\tbitwise_xor\tblackman_window\tblock_diag\tbmm\tbroadcast_shapes\t\n",
            "\n",
            "broadcast_tensors\tbroadcast_to\tbucketize\tcan_cast\tcandidate\tcartesian_prod\tcat\tccol_indices_copy\tcdist\t\n",
            "\n",
            "ceil\tceil_\tcelu\tcelu_\tchain_matmul\tchannel_shuffle\tcholesky\tcholesky_inverse\tcholesky_solve\tchoose_qparams_optimized\tchunk\tclamp\tclamp_\tclamp_max\tclamp_max_\t\n",
            "\n",
            "clamp_min\tclamp_min_\tclassproperty\tclear_autocast_cache\tclip\tclip_\tclone\tcol_indices_copy\tcolumn_stack\t\n",
            "\n",
            "combinations\tcompiled_with_cxx11_abi\tcomplex\tconcat\tconj\tconj_physical\tconj_physical_\t\n",
            "\n",
            "constant_pad_nd\tconv1d\tconv2d\tconv3d\tconv_tbc\tconv_transpose1d\tconv_transpose2d\tconv_transpose3d\tconvolution\t\n",
            "\n",
            "copysign\tcorrcoef\tcos\tcos_\tcosh\tcosh_\tcosine_embedding_loss\tcosine_similarity\tcount_nonzero\tcov\t\n",
            "\n",
            "cross\tcrow_indices_copy\tctc_loss\tcudnn_affine_grid_generator\tcudnn_batch_norm\tcudnn_convolution\t\n",
            "\n",
            "cudnn_convolution_add_relu\tcudnn_convolution_relu\tcudnn_convolution_transpose\tcudnn_grid_sampler\tcudnn_is_acceptable\tcummax\tcummin\tcumprod\tcumsum\tcumulative_trapezoid\t\n",
            "\n",
            "deg2rad\tdeg2rad_\tdequantize\tdet\tdetach\tdetach_\tdetach_copy\tdevice\tdiag\t\n",
            "\n",
            "diag_embed\tdiagflat\tdiagonal\tdiagonal_copy\tdiagonal_scatter\tdiff\tdigamma\tdist\tdiv\tdivide\tdot\tdropout\tdropout_\tdsmm\tdsplit\tdstack\tdtype\t\n",
            "\n",
            "eig\teinsum\tembedding\tembedding_bag\tembedding_renorm_\tempty\tempty_like\tempty_quantized\tempty_strided\t\n",
            "\n",
            "enable_grad\teq\tequal\terf\terf_\terfc\terfc_\terfinv\texp\texp2\t\n",
            "\n",
            "exp2_\texp_\texpand_copy\texpm1\texpm1_\teye\tfake_quantize_per_channel_affine\tfake_quantize_per_tensor_affine\tfbgemm_linear_fp16_weight\tfbgemm_linear_fp16_weight_fp32_activation\t\n",
            "\n",
            "fbgemm_linear_int8_weight\tfbgemm_linear_int8_weight_fp32_activation\tfbgemm_linear_quantize_weight\tfbgemm_pack_gemm_matrix_fp16\tfbgemm_pack_quantized_matrix\tfeature_alpha_dropout\tfeature_alpha_dropout_\tfeature_dropout\tfeature_dropout_\tfill\tfill_\tfinfo\tfix\tfix_\tflatten\tflip\tfliplr\tflipud\tfloat_power\tfloor\tfloor_\tfloor_divide\tfmax\tfmin\tfmod\t\n",
            "\n",
            "fork\tfrac\tfrac_\tfrexp\tfrobenius_norm\tfrom_dlpack\tfrom_file\tfrom_numpy\tfrombuffer\tfull\t\n",
            "\n",
            "full_like\tfused_moving_avg_obs_fake_quant\tgather\tgcd\tgcd_\tge\tgeqrf\tger\t\n",
            "\n",
            "get_autocast_cpu_dtype\tget_autocast_gpu_dtype\tget_default_dtype\tget_deterministic_debug_mode\tget_device\tget_file_path\tget_float32_matmul_precision\tget_num_interop_threads\tget_num_threads\tget_rng_state\t\n",
            "\n",
            "gradient\tgreater\tgreater_equal\tgrid_sampler\tgrid_sampler_2d\tgrid_sampler_3d\tgroup_norm\tgru\tgru_cell\tgt\t\n",
            "\n",
            "hamming_window\thann_window\thardshrink\theaviside\thinge_embedding_loss\thistc\thistogram\thistogramdd\thsmm\thsplit\thspmm\t\n",
            "\n",
            "hstack\thypot\ti0\ti0_\tigamma\tigammac\tiinfo\timag\timport_ir_module\t\n",
            "\n",
            "import_ir_module_from_buffer\tindex_add\tindex_copy\tindex_fill\tindex_put\tindex_put_\tindex_reduce\tindex_select\tindices_copy\tinference_mode\tinit_num_threads\tinitial_seed\tinner\tinstance_norm\tint_repr\tinverse\tis_anomaly_enabled\tis_autocast_cache_enabled\tis_autocast_cpu_enabled\tis_autocast_enabled\tis_complex\tis_conj\tis_deterministic_algorithms_warn_only_enabled\t\n",
            "\n",
            "is_distributed\tis_floating_point\tis_grad_enabled\tis_inference\tis_inference_mode_enabled\tis_neg\tis_nonzero\tis_same_size\tis_signed\tis_storage\t\n",
            "\n",
            "is_tensor\tis_vulkan_available\tis_warn_always_enabled\tisclose\tisfinite\tisin\tisinf\tisnan\tisneginf\tisposinf\t\n",
            "\n",
            "isreal\tistft\tkaiser_window\tkl_div\tkron\tkthvalue\tlayer_norm\tlayout\tlcm\t\n",
            "\n",
            "lcm_\tldexp\tldexp_\tle\tlerp\tless\tless_equal\tlgamma\tlinspace\tload\tlobpcg\tlog\tlog10\tlog10_\tlog1p\tlog1p_\tlog2\t\n",
            "\n",
            "log2_\tlog_\tlog_softmax\tlogaddexp\tlogaddexp2\tlogcumsumexp\tlogdet\tlogical_and\tlogical_not\tlogical_or\t\n",
            "\n",
            "logical_xor\tlogit\tlogit_\tlogspace\tlogsumexp\tlstm\tlstm_cell\tlstsq\tlt\t\n",
            "\n",
            "lu\tlu_solve\tlu_unpack\tmanual_seed\tmargin_ranking_loss\tmasked_fill\tmasked_scatter\tmasked_select\tmatmul\tmatrix_exp\t\n",
            "\n",
            "matrix_power\tmatrix_rank\tmax\tmax_pool1d\tmax_pool1d_with_indices\tmax_pool2d\tmax_pool3d\tmaximum\tmean\tmedian\t\n",
            "\n",
            "memory_format\tmerge_type_from_type_comment\tmeshgrid\tmin\tminimum\tmiopen_batch_norm\tmiopen_convolution\tmiopen_convolution_transpose\tmiopen_depthwise_convolution\tmiopen_rnn\t\n",
            "\n",
            "mkldnn_adaptive_avg_pool2d\tmkldnn_convolution\tmkldnn_linear_backward_weights\tmkldnn_max_pool2d\tmkldnn_max_pool3d\tmm\tmode\tmoveaxis\tmovedim\tmsort\t\n",
            "\n",
            "mul\tmultinomial\tmultiply\tmv\tmvlgamma\tnan_to_num\tnan_to_num_\t\n",
            "\n",
            "nanmean\tnanmedian\tnanquantile\tnansum\tnarrow\tnarrow_copy\tnative_batch_norm\tnative_channel_shuffle\tnative_dropout\tnative_group_norm\t\n",
            "\n",
            "native_layer_norm\tnative_norm\tne\tneg\tneg_\tnegative\tnegative_\tnested_tensor\tnextafter\tno_grad\tnonzero\tnorm\tnorm_except_dim\tnormal\tnot_equal\tnuclear_norm\tnumel\tobj\tones\t\n",
            "\n",
            "ones_like\torgqr\tormqr\touter\tpairwise_distance\tparse_ir\tparse_schema\tparse_type_comment\tpca_lowrank\tpdist\tpermute\tpermute_copy\tpinverse\tpixel_shuffle\tpixel_unshuffle\tpoisson\tpoisson_nll_loss\t\n",
            "\n",
            "polar\tpolygamma\tpositive\tpow\tprelu\tprepare_multiprocessing_environment\tprod\tpromote_types\t\n",
            "\n",
            "put\tq_per_channel_axis\tq_per_channel_scales\tq_per_channel_zero_points\tq_scale\tq_zero_point\tqr\tqscheme\t\n",
            "\n",
            "quantile\tquantize_per_channel\tquantize_per_tensor\tquantize_per_tensor_dynamic\tquantized_batch_norm\tquantized_gru\tquantized_gru_cell\tquantized_lstm\tquantized_lstm_cell\t\n",
            "\n",
            "quantized_max_pool1d\tquantized_max_pool2d\tquantized_rnn_relu_cell\tquantized_rnn_tanh_cell\trad2deg\trad2deg_\t\n",
            "\n",
            "rand\trand_like\trandint\trandint_like\trandn\trandn_like\trandperm\trange\travel\t\n",
            "\n",
            "read_vitals\treal\treciprocal\treciprocal_\trelu\trelu_\tremainder\trenorm\trepeat_interleave\treshape\t\n",
            "\n",
            "resize_as_\tresize_as_sparse_\tresolve_conj\tresolve_neg\tresult_type\trnn_relu\trnn_relu_cell\trnn_tanh\trnn_tanh_cell\t\n",
            "\n",
            "roll\trot90\tround\tround_\trow_indices_copy\trow_stack\trrelu\trrelu_\trsqrt\trsqrt_\t\n",
            "\n",
            "rsub\tsaddmm\tsave\tscalar_tensor\tscatter\tscatter_add\tscatter_reduce\tsearchsorted\tseed\tsegment_reduce\t\n",
            "\n",
            "select\tselect_copy\tselect_scatter\tselu\tselu_\tset_anomaly_enabled\tset_autocast_cache_enabled\tset_autocast_cpu_dtype\tset_autocast_cpu_enabled\t\n",
            "\n",
            "set_autocast_enabled\tset_autocast_gpu_dtype\tset_default_dtype\tset_default_tensor_type\tset_deterministic_debug_mode\tset_float32_matmul_precision\tset_flush_denormal\tset_grad_enabled\tset_num_interop_threads\tset_num_threads\t\n",
            "\n",
            "set_printoptions\tset_rng_state\tset_vital\tset_warn_always\tsgn\tsigmoid\tsigmoid_\tsign\tsignbit\t\n",
            "\n",
            "sin\tsin_\tsinc\tsinc_\tsinh\tsinh_\tslice_copy\tslice_scatter\tslogdet\tsmm\t\n",
            "\n",
            "softmax\tsolve\tsort\tsparse_bsc_tensor\tsparse_bsr_tensor\tsparse_compressed_tensor\tsparse_coo_tensor\tsparse_csc_tensor\tsparse_csr_tensor\tsplit\tsplit_copy\tsplit_with_sizes\tsplit_with_sizes_copy\t\n",
            "\n",
            "spmm\tsqrt\tsqrt_\tsquare\tsquare_\tsqueeze\tsqueeze_copy\tsspaddmm\tstack\tstd\t\n",
            "\n",
            "std_mean\tstft\tsub\tsubtract\tsum\tsvd\tsvd_lowrank\tswapaxes\t\n",
            "\n",
            "swapdims\tsymeig\tt\tt_copy\ttake\ttake_along_dim\ttan\ttan_\ttanh\t\n",
            "\n",
            "tanh_\ttensor\ttensor_split\ttensordot\tthreshold\tthreshold_\ttile\tto_dlpack\t\n",
            "\n",
            "topk\ttrace\ttranspose\ttranspose_copy\ttrapezoid\ttrapz\ttriangular_solve\ttril\t\n",
            "\n",
            "tril_indices\ttriplet_margin_loss\ttriu\ttriu_indices\ttrue_divide\ttrunc\ttrunc_\ttypename\tunbind\tunbind_copy\tunfold_copy\tunify_type_list\tunique\tunique_consecutive\tunsafe_chunk\tunsafe_split\tunsafe_split_with_sizes\tunsqueeze\t\n",
            "\n",
            "unsqueeze_copy\tuse_deterministic_algorithms\tvalues_copy\tvander\tvar\tvar_mean\tvdot\tview_as_complex\t\n",
            "\n",
            "view_as_complex_copy\tview_as_real\tview_as_real_copy\tview_copy\tvitals_enabled\tvsplit\tvstack\twait\twhere\t\n",
            "\n",
            "xlogy\txlogy_\tzero_\tzeros\tzeros_like\t"
          ]
        }
      ]
    },
    {
      "cell_type": "markdown",
      "source": [
        "* There are really so many to learn. Of course, we do use only a few (say 100+) of them. Fortunately we can group them into a few categories as listed in the documentation [page](https://pytorch.org/docs/stable/torch.html). <br>\n",
        "\n",
        "* However, did you notice some familiar names in the output list of callables? 😀"
      ],
      "metadata": {
        "id": "pHns6pViEuu3"
      }
    },
    {
      "cell_type": "code",
      "source": [
        "print('Number of callables in the module is: ',counter)"
      ],
      "metadata": {
        "colab": {
          "base_uri": "https://localhost:8080/"
        },
        "id": "b5Ck1cx_DeUz",
        "outputId": "38d6857e-8831-437f-b857-f7fb87844e6c"
      },
      "execution_count": null,
      "outputs": [
        {
          "output_type": "stream",
          "name": "stdout",
          "text": [
            "Number of callables in the module is:  1062\n"
          ]
        }
      ]
    },
    {
      "cell_type": "markdown",
      "source": [
        "## Tensor\n",
        "\n",
        "   "
      ],
      "metadata": {
        "id": "b1wqodic--RN"
      }
    },
    {
      "cell_type": "code",
      "source": [
        "type(torch.tensor)"
      ],
      "metadata": {
        "colab": {
          "base_uri": "https://localhost:8080/"
        },
        "id": "BKIIZ5uiEtsp",
        "outputId": "bd048482-acaf-4a33-ef4c-b05c39770967"
      },
      "execution_count": null,
      "outputs": [
        {
          "output_type": "execute_result",
          "data": {
            "text/plain": [
              "builtin_function_or_method"
            ]
          },
          "metadata": {},
          "execution_count": 3
        }
      ]
    },
    {
      "cell_type": "markdown",
      "source": [
        "* Observe that the type is `builtin_function_or_method `**not** a native python function."
      ],
      "metadata": {
        "id": "4Dt_KLrz_V2r"
      }
    },
    {
      "cell_type": "code",
      "source": [
        "type(abs)"
      ],
      "metadata": {
        "colab": {
          "base_uri": "https://localhost:8080/"
        },
        "id": "2RyohW9l35Vw",
        "outputId": "7a97223e-050e-44e8-a687-378c020d7783"
      },
      "execution_count": null,
      "outputs": [
        {
          "output_type": "execute_result",
          "data": {
            "text/plain": [
              "builtin_function_or_method"
            ]
          },
          "metadata": {},
          "execution_count": 4
        }
      ]
    },
    {
      "cell_type": "markdown",
      "source": [
        "* We can define native python functions in a module and import them in the main script\n",
        "\n",
        "* Let's see what is the type of such functions"
      ],
      "metadata": {
        "id": "cJKFFfj8_oqp"
      }
    },
    {
      "cell_type": "code",
      "source": [
        "! touch calc.py \n",
        "#open the file and define some functions there\n",
        "# def foo():\n",
        "#   pass\n",
        "\n",
        "# class myclass:\n",
        "  \n",
        "#   def __init__(self,a,b):\n",
        "#     self.a = 1\n",
        "#     self.b =1\n",
        "\n",
        "#   def foo(self):\n",
        "#     pass"
      ],
      "metadata": {
        "id": "fHd7RyXx_9FA"
      },
      "execution_count": null,
      "outputs": []
    },
    {
      "cell_type": "code",
      "source": [
        "import importlib\n",
        "import calc\n",
        "importlib.reload(calc)"
      ],
      "metadata": {
        "colab": {
          "base_uri": "https://localhost:8080/"
        },
        "id": "pBK4hwFdAkKR",
        "outputId": "9ac8ee2d-7e14-4012-92e1-78064f92e5e9"
      },
      "execution_count": null,
      "outputs": [
        {
          "output_type": "execute_result",
          "data": {
            "text/plain": [
              "<module 'calc' from '/content/calc.py'>"
            ]
          },
          "metadata": {},
          "execution_count": 7
        }
      ]
    },
    {
      "cell_type": "code",
      "source": [
        "print(type(calc.foo))\n",
        "print(type(calc.myclass))\n",
        "print(type(calc.myclass.foo))"
      ],
      "metadata": {
        "colab": {
          "base_uri": "https://localhost:8080/"
        },
        "id": "EtC0BTPN3pxn",
        "outputId": "01e44095-b09a-4968-afe2-c32b7e69424b"
      },
      "execution_count": null,
      "outputs": [
        {
          "output_type": "stream",
          "name": "stdout",
          "text": [
            "<class 'function'>\n",
            "<class 'type'>\n",
            "<class 'function'>\n"
          ]
        }
      ]
    },
    {
      "cell_type": "markdown",
      "source": [
        "Are all the torch functions built-in (i.e., written in c/cpp)?\n",
        " \n",
        "  * not necessarily"
      ],
      "metadata": {
        "id": "YNOSIW0h_mCY"
      }
    },
    {
      "cell_type": "code",
      "source": [
        "print(type(torch.is_tensor))"
      ],
      "metadata": {
        "colab": {
          "base_uri": "https://localhost:8080/"
        },
        "id": "NgmJxtbL9etm",
        "outputId": "c7155a09-294d-4a5c-c1e2-9e86c8c2fb33"
      },
      "execution_count": null,
      "outputs": [
        {
          "output_type": "stream",
          "name": "stdout",
          "text": [
            "<class 'function'>\n"
          ]
        }
      ]
    },
    {
      "cell_type": "markdown",
      "source": [
        "Then, how many of them are built-in then?.\n",
        "\n",
        "  * Roughly, $\\frac{3}{4}$-th"
      ],
      "metadata": {
        "id": "ubBWqqtkAtsa"
      }
    },
    {
      "cell_type": "code",
      "source": [
        "import types\n",
        "counter = 0\n",
        "for (i,attrib) in enumerate(dir(torch)):\n",
        "  if isinstance(eval(f'torch.{attrib}'),types.BuiltinFunctionType):\n",
        "    print(attrib,sep='',end='\\t')\n",
        "    counter += 1\n",
        "    if (i+1)%10 == 0:\n",
        "      print('\\n')"
      ],
      "metadata": {
        "id": "qzVUr1G4AVoZ"
      },
      "execution_count": 2,
      "outputs": []
    },
    {
      "cell_type": "code",
      "source": [
        "print(counter)"
      ],
      "metadata": {
        "colab": {
          "base_uri": "https://localhost:8080/"
        },
        "id": "V3HFqkYMApC3",
        "outputId": "3c3c7092-bef6-4041-98a8-253979ffe03b"
      },
      "execution_count": null,
      "outputs": [
        {
          "output_type": "stream",
          "name": "stdout",
          "text": [
            "891\n"
          ]
        }
      ]
    },
    {
      "cell_type": "markdown",
      "source": [
        "Ok enough of all these!. Let's move on"
      ],
      "metadata": {
        "id": "y2Srt9CnA_re"
      }
    },
    {
      "cell_type": "markdown",
      "source": [
        "# Creating a tensor object\n",
        "\n",
        "   * tensor objects has **a support** to autograd, runs in GPU, etc..\n",
        "   * Suppose we convert tensor obj to numpy then we losse all those feature.\n",
        "   * Therefore, be aware of the data type of the objects that you are manipulating to avoid conflictions."
      ],
      "metadata": {
        "id": "THX2oMJzhTz8"
      }
    },
    {
      "cell_type": "code",
      "source": [
        "help(torch.tensor)"
      ],
      "metadata": {
        "colab": {
          "base_uri": "https://localhost:8080/"
        },
        "id": "jtVGAf2CGq_S",
        "outputId": "b32417bc-acb4-4b4b-8828-d1c9774f09af"
      },
      "execution_count": null,
      "outputs": [
        {
          "output_type": "stream",
          "name": "stdout",
          "text": [
            "Help on built-in function tensor in module torch:\n",
            "\n",
            "tensor(...)\n",
            "    tensor(data, *, dtype=None, device=None, requires_grad=False, pin_memory=False) -> Tensor\n",
            "    \n",
            "    Constructs a tensor with no autograd history (also known as a \"leaf tensor\", see :doc:`/notes/autograd`) by copying :attr:`data`.\n",
            "    \n",
            "    .. warning::\n",
            "    \n",
            "        When working with tensors prefer using :func:`torch.Tensor.clone`,\n",
            "        :func:`torch.Tensor.detach`, and :func:`torch.Tensor.requires_grad_` for\n",
            "        readability. Letting `t` be a tensor, ``torch.tensor(t)`` is equivalent to\n",
            "        ``t.clone().detach()``, and ``torch.tensor(t, requires_grad=True)``\n",
            "        is equivalent to ``t.clone().detach().requires_grad_(True)``.\n",
            "    \n",
            "    .. seealso::\n",
            "    \n",
            "        :func:`torch.as_tensor` preserves autograd history and avoids copies where possible.\n",
            "        :func:`torch.from_numpy` creates a tensor that shares storage with a NumPy array.\n",
            "    \n",
            "    Args:\n",
            "        data (array_like): Initial data for the tensor. Can be a list, tuple,\n",
            "            NumPy ``ndarray``, scalar, and other types.\n",
            "    \n",
            "    Keyword args:\n",
            "        dtype (:class:`torch.dtype`, optional): the desired data type of returned tensor.\n",
            "            Default: if ``None``, infers data type from :attr:`data`.\n",
            "        device (:class:`torch.device`, optional): the device of the constructed tensor. If None and data is a tensor\n",
            "            then the device of data is used. If None and data is not a tensor then\n",
            "            the result tensor is constructed on the CPU.\n",
            "        requires_grad (bool, optional): If autograd should record operations on the\n",
            "            returned tensor. Default: ``False``.\n",
            "        pin_memory (bool, optional): If set, returned tensor would be allocated in\n",
            "            the pinned memory. Works only for CPU tensors. Default: ``False``.\n",
            "    \n",
            "    \n",
            "    Example::\n",
            "    \n",
            "        >>> torch.tensor([[0.1, 1.2], [2.2, 3.1], [4.9, 5.2]])\n",
            "        tensor([[ 0.1000,  1.2000],\n",
            "                [ 2.2000,  3.1000],\n",
            "                [ 4.9000,  5.2000]])\n",
            "    \n",
            "        >>> torch.tensor([0, 1])  # Type inference on data\n",
            "        tensor([ 0,  1])\n",
            "    \n",
            "        >>> torch.tensor([[0.11111, 0.222222, 0.3333333]],\n",
            "        ...              dtype=torch.float64,\n",
            "        ...              device=torch.device('cuda:0'))  # creates a double tensor on a CUDA device\n",
            "        tensor([[ 0.1111,  0.2222,  0.3333]], dtype=torch.float64, device='cuda:0')\n",
            "    \n",
            "        >>> torch.tensor(3.14159)  # Create a zero-dimensional (scalar) tensor\n",
            "        tensor(3.1416)\n",
            "    \n",
            "        >>> torch.tensor([])  # Create an empty tensor (of size (0,))\n",
            "        tensor([])\n",
            "\n"
          ]
        }
      ]
    },
    {
      "cell_type": "code",
      "source": [
        "# 0 dim or degree or rank tensor (rank has nothing to do with matrix rank)\n",
        "x = torch.tensor(9) \n",
        "print(x,x.shape,x.ndim)"
      ],
      "metadata": {
        "colab": {
          "base_uri": "https://localhost:8080/"
        },
        "id": "ZJyuQxJlf1KY",
        "outputId": "6dc246d7-f616-4210-dda3-a32241d422e1"
      },
      "execution_count": 4,
      "outputs": [
        {
          "output_type": "stream",
          "name": "stdout",
          "text": [
            "tensor(9) torch.Size([]) 0\n"
          ]
        }
      ]
    },
    {
      "cell_type": "code",
      "source": [
        "x[0]"
      ],
      "metadata": {
        "colab": {
          "base_uri": "https://localhost:8080/",
          "height": 171
        },
        "id": "xWP6BijXjfYQ",
        "outputId": "8bfdd2df-56e3-4062-e8d8-d6eade6b09bd"
      },
      "execution_count": 5,
      "outputs": [
        {
          "output_type": "error",
          "ename": "IndexError",
          "evalue": "ignored",
          "traceback": [
            "\u001b[0;31m---------------------------------------------------------------------------\u001b[0m",
            "\u001b[0;31mIndexError\u001b[0m                                Traceback (most recent call last)",
            "\u001b[0;32m<ipython-input-5-2f755f117ac9>\u001b[0m in \u001b[0;36m<module>\u001b[0;34m\u001b[0m\n\u001b[0;32m----> 1\u001b[0;31m \u001b[0mx\u001b[0m\u001b[0;34m[\u001b[0m\u001b[0;36m0\u001b[0m\u001b[0;34m]\u001b[0m\u001b[0;34m\u001b[0m\u001b[0;34m\u001b[0m\u001b[0m\n\u001b[0m",
            "\u001b[0;31mIndexError\u001b[0m: invalid index of a 0-dim tensor. Use `tensor.item()` in Python or `tensor.item<T>()` in C++ to convert a 0-dim tensor to a number"
          ]
        }
      ]
    },
    {
      "cell_type": "code",
      "source": [
        "print(x.storage())"
      ],
      "metadata": {
        "colab": {
          "base_uri": "https://localhost:8080/"
        },
        "id": "n82YwcL2SZrL",
        "outputId": "2904de50-c1c1-4c6c-bad0-ce4f0b268439"
      },
      "execution_count": null,
      "outputs": [
        {
          "output_type": "stream",
          "name": "stdout",
          "text": [
            " 9\n",
            "[torch.storage._TypedStorage(dtype=torch.int64, device=cpu) of size 1]\n"
          ]
        }
      ]
    },
    {
      "cell_type": "code",
      "source": [
        "print(x.stride())"
      ],
      "metadata": {
        "colab": {
          "base_uri": "https://localhost:8080/"
        },
        "id": "DSYWY57gSoaS",
        "outputId": "96830f1b-12a4-40fe-a6d6-fc03ca61bae3"
      },
      "execution_count": null,
      "outputs": [
        {
          "output_type": "stream",
          "name": "stdout",
          "text": [
            "()\n"
          ]
        }
      ]
    },
    {
      "cell_type": "code",
      "source": [
        "x = torch.tensor([9]) \n",
        "print(x,x.shape,x.ndim)"
      ],
      "metadata": {
        "colab": {
          "base_uri": "https://localhost:8080/"
        },
        "id": "AxhpnBWihL0l",
        "outputId": "d441c6f2-2196-44a6-c89b-004f3eaebb45"
      },
      "execution_count": 6,
      "outputs": [
        {
          "output_type": "stream",
          "name": "stdout",
          "text": [
            "tensor([9]) torch.Size([1]) 1\n"
          ]
        }
      ]
    },
    {
      "cell_type": "code",
      "source": [
        "x[0]"
      ],
      "metadata": {
        "colab": {
          "base_uri": "https://localhost:8080/"
        },
        "id": "_WPxvaKQtfTB",
        "outputId": "6dc17253-77f0-4918-f670-984ada40e62b"
      },
      "execution_count": 7,
      "outputs": [
        {
          "output_type": "execute_result",
          "data": {
            "text/plain": [
              "tensor(9)"
            ]
          },
          "metadata": {},
          "execution_count": 7
        }
      ]
    },
    {
      "cell_type": "code",
      "source": [
        "print(x.storage())\n",
        "print(x.stride())"
      ],
      "metadata": {
        "colab": {
          "base_uri": "https://localhost:8080/"
        },
        "id": "Tjaz4_pwSwSV",
        "outputId": "b3a9db4f-18da-400b-8a13-7f4badd76535"
      },
      "execution_count": null,
      "outputs": [
        {
          "output_type": "stream",
          "name": "stdout",
          "text": [
            " 9\n",
            "[torch.storage._TypedStorage(dtype=torch.int64, device=cpu) of size 1]\n",
            "(1,)\n"
          ]
        }
      ]
    },
    {
      "cell_type": "code",
      "source": [
        "x = torch.tensor([[9]]) \n",
        "print(x,x.shape,x.ndim)"
      ],
      "metadata": {
        "colab": {
          "base_uri": "https://localhost:8080/"
        },
        "id": "QWVpF7nhiFS7",
        "outputId": "31d57856-7aac-4296-9b05-7af4e5e7e4d6"
      },
      "execution_count": null,
      "outputs": [
        {
          "output_type": "stream",
          "name": "stdout",
          "text": [
            "tensor([[9]]) torch.Size([1, 1]) 2\n"
          ]
        }
      ]
    },
    {
      "cell_type": "markdown",
      "source": [
        "ndim == len(x.shape)"
      ],
      "metadata": {
        "id": "sSpOL11rjcFn"
      }
    },
    {
      "cell_type": "code",
      "source": [
        "x = torch.tensor([[[9]]]) \n",
        "print(x,x.shape,x.ndim)"
      ],
      "metadata": {
        "colab": {
          "base_uri": "https://localhost:8080/"
        },
        "id": "GD90DQGmiK3Q",
        "outputId": "e750d298-91aa-401e-bc9e-893fe89c1c3b"
      },
      "execution_count": null,
      "outputs": [
        {
          "output_type": "stream",
          "name": "stdout",
          "text": [
            "tensor([[[9]]]) torch.Size([1, 1, 1]) 3\n"
          ]
        }
      ]
    },
    {
      "cell_type": "markdown",
      "source": [
        "**Vector** (Tensor of degree 1)"
      ],
      "metadata": {
        "id": "KtXrPZaQjm7V"
      }
    },
    {
      "cell_type": "code",
      "source": [
        "x = torch.randint(0,3,size=(2,),generator=torch.manual_seed(42))\n",
        "print(x, x.shape, x.ndim)"
      ],
      "metadata": {
        "colab": {
          "base_uri": "https://localhost:8080/"
        },
        "id": "6m2gIvFDjoSD",
        "outputId": "ba22bf96-8537-4ac8-87f0-7f58ccaacc2b"
      },
      "execution_count": 9,
      "outputs": [
        {
          "output_type": "stream",
          "name": "stdout",
          "text": [
            "tensor([0, 2]) torch.Size([2]) 1\n"
          ]
        }
      ]
    },
    {
      "cell_type": "markdown",
      "source": [
        "**Matrix** (tensor of Degree 2)"
      ],
      "metadata": {
        "id": "Nvz9zSqTjkUV"
      }
    },
    {
      "cell_type": "code",
      "source": [
        "x = torch.randint(0,3,size=(2,2),generator=torch.manual_seed(42))\n",
        "print(x, x.shape, x.ndim)"
      ],
      "metadata": {
        "colab": {
          "base_uri": "https://localhost:8080/"
        },
        "id": "Qp2Fz8dKiebd",
        "outputId": "7e8e9b07-b7e8-4055-df33-b4c2eaa7b10b"
      },
      "execution_count": null,
      "outputs": [
        {
          "output_type": "stream",
          "name": "stdout",
          "text": [
            "tensor([[0, 2],\n",
            "        [1, 1]]) torch.Size([2, 2]) 2\n"
          ]
        }
      ]
    },
    {
      "cell_type": "markdown",
      "source": [
        "## Storage\n",
        "\n",
        " * Multidimensional arrays are stored in a linear storage (that is all elements are contiguous) like RAM.\n",
        " * We have two options, either we follow row-major or column-major layout.\n",
        " * To know more: https://en.wikipedia.org/wiki/Row-_and_column-major_order"
      ],
      "metadata": {
        "id": "xVvxMexukRsX"
      }
    },
    {
      "cell_type": "code",
      "source": [
        "x.storage() # row major"
      ],
      "metadata": {
        "colab": {
          "base_uri": "https://localhost:8080/",
          "height": 171
        },
        "id": "XqAGbvIumQGM",
        "outputId": "57c0e8dc-7361-423d-ed04-eb8fcadd9ef6"
      },
      "execution_count": 1,
      "outputs": [
        {
          "output_type": "error",
          "ename": "NameError",
          "evalue": "ignored",
          "traceback": [
            "\u001b[0;31m---------------------------------------------------------------------------\u001b[0m",
            "\u001b[0;31mNameError\u001b[0m                                 Traceback (most recent call last)",
            "\u001b[0;32m<ipython-input-1-4af1adff6a65>\u001b[0m in \u001b[0;36m<module>\u001b[0;34m\u001b[0m\n\u001b[0;32m----> 1\u001b[0;31m \u001b[0mx\u001b[0m\u001b[0;34m.\u001b[0m\u001b[0mstorage\u001b[0m\u001b[0;34m(\u001b[0m\u001b[0;34m)\u001b[0m \u001b[0;31m# row major\u001b[0m\u001b[0;34m\u001b[0m\u001b[0;34m\u001b[0m\u001b[0m\n\u001b[0m",
            "\u001b[0;31mNameError\u001b[0m: name 'x' is not defined"
          ]
        }
      ]
    },
    {
      "cell_type": "code",
      "source": [
        "x.stride()"
      ],
      "metadata": {
        "id": "EYe-nS4tmh9m"
      },
      "execution_count": null,
      "outputs": []
    },
    {
      "cell_type": "markdown",
      "source": [
        " * The stride for the 0th dim is 2 and the last dim is 1"
      ],
      "metadata": {
        "id": "Gksvf-DswPF7"
      }
    },
    {
      "cell_type": "code",
      "source": [
        "row = 1\n",
        "col = 1\n",
        "row_stride = 2\n",
        "col_stride = 1 \n",
        "x.storage()[row*row_stride + col*col_stride]"
      ],
      "metadata": {
        "id": "3dld8r5koWdN"
      },
      "execution_count": null,
      "outputs": []
    },
    {
      "cell_type": "code",
      "source": [
        "x.view(2,2)"
      ],
      "metadata": {
        "id": "L_mWiCrFt29-"
      },
      "execution_count": null,
      "outputs": []
    },
    {
      "cell_type": "markdown",
      "source": [
        "**Tensor** (of degree 3)\n",
        "\n",
        "  * Print each elements in axis=0 (0th dimension). \n",
        "  * Each element in the zeroth dimenstion is the tensor of degree-2 (ndim-1, in general)"
      ],
      "metadata": {
        "id": "S68hZvMHjzoe"
      }
    },
    {
      "cell_type": "code",
      "source": [
        "x = torch.randint(0,3,size=(2,2,2),generator=torch.manual_seed(42))\n",
        "print(x, x.shape, x.ndim)"
      ],
      "metadata": {
        "id": "ebSSNjSajzBb"
      },
      "execution_count": null,
      "outputs": []
    },
    {
      "cell_type": "code",
      "source": [
        "x.storage()"
      ],
      "metadata": {
        "id": "m_KgPIyHpB70"
      },
      "execution_count": null,
      "outputs": []
    },
    {
      "cell_type": "code",
      "source": [
        "x.stride()"
      ],
      "metadata": {
        "id": "rQbgwZeXqFcx"
      },
      "execution_count": null,
      "outputs": []
    },
    {
      "cell_type": "markdown",
      "source": [
        "Moving from right to left, \n",
        "\n",
        "* The stride for the rightmost dimension (dim 2, in this case) is always 1\n",
        "* Then for dim-1 it is `x.size[-1]` = 2\n",
        "* Then for dim-0 it is `x.size[-1]*x.size[-2]` = 2*2=4\n",
        "\n"
      ],
      "metadata": {
        "id": "IK2_OGD-qMtw"
      }
    },
    {
      "cell_type": "markdown",
      "source": [
        "**Tesnor** of Degree 4\n",
        "\n",
        "  * We have no other option other than displaying elements in the dim-0 (axis-0) in a nice readable format (i.e., using nested square brackets). "
      ],
      "metadata": {
        "id": "MCobeor3k4vm"
      }
    },
    {
      "cell_type": "code",
      "source": [
        "x = torch.randint(0,3,size=(2,2,2,2),generator=torch.manual_seed(42))\n",
        "print(x, x.shape, x.ndim)"
      ],
      "metadata": {
        "id": "9875OXTSiuHi"
      },
      "execution_count": null,
      "outputs": []
    },
    {
      "cell_type": "markdown",
      "source": [
        "Often, we don't need to go beyond the tensor of degree greater than 4 "
      ],
      "metadata": {
        "id": "stK3XxknlYgC"
      }
    },
    {
      "cell_type": "markdown",
      "source": [
        "## Why do we need to know about the logical (view) and physical representations using stride?\n",
        "\n",
        "  * Suppose that we want to access diagonal elements of a matrix.\n",
        "  * Assume that we don't have any methods to access the diagonal elements.\n",
        "  * Naturally,we tend to loop over the matrix\n",
        "  * Stride gives us the shortcut\n",
        "\n"
      ],
      "metadata": {
        "id": "WmAFz3h4bNc-"
      }
    },
    {
      "cell_type": "code",
      "source": [
        "mat =torch.randint(0,3,size=(4,4),generator=torch.manual_seed(42))\n",
        "print(mat)"
      ],
      "metadata": {
        "colab": {
          "base_uri": "https://localhost:8080/"
        },
        "id": "SCBu1FaJfjE1",
        "outputId": "012eda4c-1e01-4ac0-fa13-be7fcf1f8d8b",
        "collapsed": true
      },
      "execution_count": null,
      "outputs": [
        {
          "output_type": "stream",
          "name": "stdout",
          "text": [
            "tensor([[0, 2, 1, 1],\n",
            "        [0, 2, 1, 2],\n",
            "        [1, 2, 1, 1],\n",
            "        [2, 0, 0, 1]])\n"
          ]
        }
      ]
    },
    {
      "cell_type": "code",
      "source": [
        "mat.diag()"
      ],
      "metadata": {
        "colab": {
          "base_uri": "https://localhost:8080/"
        },
        "id": "m7iIouY7fvwT",
        "outputId": "96bf4bbd-b041-44be-9e43-94ad65f85fb7"
      },
      "execution_count": null,
      "outputs": [
        {
          "output_type": "execute_result",
          "data": {
            "text/plain": [
              "tensor([0, 2, 1, 1])"
            ]
          },
          "metadata": {},
          "execution_count": 9
        }
      ]
    },
    {
      "cell_type": "markdown",
      "source": [
        "SInce all the elements are stored in a row major form, we know that using stride value of 5 gives the diagonal elements."
      ],
      "metadata": {
        "id": "4JBQFK21jjzf"
      }
    },
    {
      "cell_type": "code",
      "source": [
        "mat.storage()"
      ],
      "metadata": {
        "colab": {
          "base_uri": "https://localhost:8080/"
        },
        "id": "Bw0snSNOja0X",
        "outputId": "b9c5e02b-1165-4dab-af85-25b367b563f0"
      },
      "execution_count": null,
      "outputs": [
        {
          "output_type": "execute_result",
          "data": {
            "text/plain": [
              " 0\n",
              " 2\n",
              " 1\n",
              " 1\n",
              " 0\n",
              " 2\n",
              " 1\n",
              " 2\n",
              " 1\n",
              " 2\n",
              " 1\n",
              " 1\n",
              " 2\n",
              " 0\n",
              " 0\n",
              " 1\n",
              "[torch.storage._TypedStorage(dtype=torch.int64, device=cpu) of size 16]"
            ]
          },
          "metadata": {},
          "execution_count": 15
        }
      ]
    },
    {
      "cell_type": "code",
      "source": [
        "print(mat.as_strided([4],stride=[5]))"
      ],
      "metadata": {
        "colab": {
          "base_uri": "https://localhost:8080/"
        },
        "id": "0uw8VSkai3pu",
        "outputId": "23e6bef5-e463-4670-897f-2ec3425c2626"
      },
      "execution_count": null,
      "outputs": [
        {
          "output_type": "stream",
          "name": "stdout",
          "text": [
            "tensor([0, 2, 1, 1])\n"
          ]
        }
      ]
    },
    {
      "cell_type": "markdown",
      "source": [
        "If you figured out the pattern, think about using strides first."
      ],
      "metadata": {
        "id": "348TBI_Lj1bY"
      }
    },
    {
      "cell_type": "markdown",
      "source": [
        "**Exercise:** Implement the convolution operation using strides (this is a convenient  way of doing it)"
      ],
      "metadata": {
        "id": "-eqzBH3pkjDJ"
      }
    },
    {
      "cell_type": "markdown",
      "source": [
        "Is transposing the matrix costly?\n",
        "\n",
        " * No, transposing just changes the strides!\n",
        " * If $x \\rightarrow $ stride:[3,1], then $x^T \\rightarrow $stride[1,3]\n",
        " * It doesn't create any empty  matrix and displace elements from original matrix like we tend to think."
      ],
      "metadata": {
        "id": "4xJdT9CYRGQ6"
      }
    },
    {
      "cell_type": "markdown",
      "source": [
        "# What happesn if we assign a tensor to an another tensor?\n",
        "\n",
        "  * Tensor by default only gives \"view\" of the tensor being re-assigned\n",
        "  * Do clone if you need a copy of tensor (remember the memory requirement while you do so)"
      ],
      "metadata": {
        "id": "1DRP5wLJ4ez_"
      }
    },
    {
      "cell_type": "code",
      "source": [
        "from collections import OrderedDict"
      ],
      "metadata": {
        "id": "L2bitQ2s4zIY"
      },
      "execution_count": 1,
      "outputs": []
    },
    {
      "cell_type": "code",
      "source": [
        "_parameters = OrderedDict()\n",
        "_parameters['w1']=torch.randn(size=(2,2))\n",
        "w2 = _parameters['w1']\n",
        "print(torch.allclose(w2,_parameters['w1']))\n",
        "print(w2 is _parameters['w1'])\n",
        "print(id(w2), id(_parameters['w1']))"
      ],
      "metadata": {
        "colab": {
          "base_uri": "https://localhost:8080/"
        },
        "id": "66ExDQ3PDMtd",
        "outputId": "46af5943-10c5-4a60-b358-526ef408756c"
      },
      "execution_count": 20,
      "outputs": [
        {
          "output_type": "stream",
          "name": "stdout",
          "text": [
            "True\n",
            "True\n",
            "139967270080000 139967270080000\n"
          ]
        }
      ]
    },
    {
      "cell_type": "code",
      "source": [
        "\n",
        "def Parameter():\n",
        "  _parameters = OrderedDict()\n",
        "  _parameters['w1']=torch.randn(size=(2,2))\n",
        "  print(_parameters['w1'])\n",
        "  _parameters['w2']=torch.randn(size=(2,2))\n",
        "  _parameters['w3']=torch.randn(size=(2,2))\n",
        "  for value in _parameters.values():\n",
        "    yield value\n"
      ],
      "metadata": {
        "id": "bvkkVVFH4koU"
      },
      "execution_count": 16,
      "outputs": []
    },
    {
      "cell_type": "code",
      "source": [
        "w1,w2,w3 = list(Parameter())\n",
        "w1."
      ],
      "metadata": {
        "colab": {
          "base_uri": "https://localhost:8080/"
        },
        "id": "rC2PlQsKAwSV",
        "outputId": "59a13e15-2941-4c0a-b058-aa046b6190d5"
      },
      "execution_count": 17,
      "outputs": [
        {
          "output_type": "stream",
          "name": "stdout",
          "text": [
            "tensor([[ 1.5872, -0.5658],\n",
            "        [-0.8205,  1.3451]])\n",
            "tensor([[ 1.5872, -0.5658],\n",
            "        [-0.8205,  1.3451]])\n"
          ]
        }
      ]
    },
    {
      "cell_type": "markdown",
      "source": [
        "#**Unary operations** on Tensor\n",
        "\n",
        "  * Unlike a scalar (vector or matrix), what we have now is a tensor. Therefore, there are many possible unary operations we can carry out on tensors.\n",
        "\n",
        "  * The frequently used unary operations are negating, finding the max or argmax, index of an element, transpose the tensor, swapping the axis... \n",
        "\n",
        "  * These operations are further grouped into two types\n",
        "   * **Reduction operations (reduce the size of array)**: argmin, amin, argmax, amax, dist,mean, sum,nansum,mode,unique\n",
        "   * **Pointwise operations (does not change the shape of the tensor)**: Functions (sin,cos, atan..), logical (and,or,not,..), abs,pow,div,frac,clamp,...\n",
        "  * we can either use inplace methods or functions (torch.functionName())"
      ],
      "metadata": {
        "id": "DKzZLXrIlmTF"
      }
    },
    {
      "cell_type": "code",
      "source": [
        "# x is from the previous execution\n",
        "print(x)"
      ],
      "metadata": {
        "colab": {
          "base_uri": "https://localhost:8080/"
        },
        "id": "rk0f5ClwlBqQ",
        "outputId": "4c6de3de-f766-4ed1-ea53-b88583e783a1"
      },
      "execution_count": null,
      "outputs": [
        {
          "output_type": "stream",
          "name": "stdout",
          "text": [
            "tensor([[[[0, 2],\n",
            "          [1, 1]],\n",
            "\n",
            "         [[0, 2],\n",
            "          [1, 2]]],\n",
            "\n",
            "\n",
            "        [[[1, 2],\n",
            "          [1, 1]],\n",
            "\n",
            "         [[2, 0],\n",
            "          [0, 1]]]])\n"
          ]
        }
      ]
    },
    {
      "cell_type": "markdown",
      "source": [
        "## Summing"
      ],
      "metadata": {
        "id": "Isew88Y9xyHM"
      }
    },
    {
      "cell_type": "markdown",
      "source": [
        "* If we have a vector, summing it results in a scalar (dim-1 to dim-0)\n",
        "* If we have a matrix $m \\times n$, then summing along axis-0 will result in dim-1 vector of size $m$. (axis-1 results in dim-1 of size $n$)"
      ],
      "metadata": {
        "id": "DslfNjwQx1DC"
      }
    },
    {
      "cell_type": "code",
      "source": [
        "vector = torch.tensor([1,2,3,4.0])\n",
        "print(vector.ndim)\n",
        "torch.sum(vector)\n",
        "print(torch.sum(vector).ndim)"
      ],
      "metadata": {
        "colab": {
          "base_uri": "https://localhost:8080/"
        },
        "id": "F6nU15is0yDm",
        "outputId": "eab60832-c700-4913-a9c5-5770bcc57a90"
      },
      "execution_count": null,
      "outputs": [
        {
          "output_type": "stream",
          "name": "stdout",
          "text": [
            "1\n",
            "0\n"
          ]
        }
      ]
    },
    {
      "cell_type": "code",
      "source": [
        "print(torch.sum(x))"
      ],
      "metadata": {
        "colab": {
          "base_uri": "https://localhost:8080/"
        },
        "id": "iGvPUeoJ1842",
        "outputId": "541c6536-aeef-4bcb-81ae-64f441caf5b4"
      },
      "execution_count": null,
      "outputs": [
        {
          "output_type": "stream",
          "name": "stdout",
          "text": [
            "tensor(17)\n"
          ]
        }
      ]
    },
    {
      "cell_type": "code",
      "source": [
        "print(torch.sum(x,axis=0)) # sum the elements in axis 0, axis 0 contains 2 elements of each size 2 x 2 x 2, so the result is also of same size \n",
        "print(torch.sum(x,axis=0).shape) # note the change in shape after adding results"
      ],
      "metadata": {
        "colab": {
          "base_uri": "https://localhost:8080/"
        },
        "id": "gR9cSHdr2B8S",
        "outputId": "ff33a57a-2745-4641-b960-0f1d8ef9e3a6"
      },
      "execution_count": null,
      "outputs": [
        {
          "output_type": "stream",
          "name": "stdout",
          "text": [
            "tensor([[[1, 4],\n",
            "         [2, 2]],\n",
            "\n",
            "        [[2, 2],\n",
            "         [1, 3]]])\n",
            "torch.Size([2, 2, 2])\n"
          ]
        }
      ]
    },
    {
      "cell_type": "markdown",
      "source": [
        "What if we don't wanto to change the dim of the returned array? keep the original dimension of $x$."
      ],
      "metadata": {
        "id": "eTUPRpTw3iRU"
      }
    },
    {
      "cell_type": "code",
      "source": [
        "print(torch.sum(x,axis=0,keepdim=True)) \n",
        "print(torch.sum(x,axis=0,keepdim=True).shape) "
      ],
      "metadata": {
        "colab": {
          "base_uri": "https://localhost:8080/"
        },
        "id": "stIQXx8z3tg3",
        "outputId": "48ec8f5b-4685-4983-c064-e7a65a55a4a2"
      },
      "execution_count": null,
      "outputs": [
        {
          "output_type": "stream",
          "name": "stdout",
          "text": [
            "tensor([[[[1, 4],\n",
            "          [2, 2]],\n",
            "\n",
            "         [[2, 2],\n",
            "          [1, 3]]]])\n",
            "torch.Size([1, 2, 2, 2])\n"
          ]
        }
      ]
    },
    {
      "cell_type": "code",
      "source": [
        "print(torch.sum(x,axis=1))#sum the elements in axis 1, axis 1 contains 2 elements of each size 2 x 2, so the result is also of same size \n",
        "print(torch.sum(x,axis=1).shape)"
      ],
      "metadata": {
        "colab": {
          "base_uri": "https://localhost:8080/"
        },
        "id": "8i-cHKKH2Qym",
        "outputId": "6b3a1055-cba7-4f8a-db96-0f7b73757e58"
      },
      "execution_count": null,
      "outputs": [
        {
          "output_type": "stream",
          "name": "stdout",
          "text": [
            "tensor([[[0, 4],\n",
            "         [2, 3]],\n",
            "\n",
            "        [[3, 2],\n",
            "         [1, 2]]])\n",
            "torch.Size([2, 2, 2])\n"
          ]
        }
      ]
    },
    {
      "cell_type": "code",
      "source": [
        "print(torch.sum(x,axis=2))\n",
        "print(torch.sum(x,axis=2).shape)"
      ],
      "metadata": {
        "colab": {
          "base_uri": "https://localhost:8080/"
        },
        "id": "gmuqmLHm2qcn",
        "outputId": "1efeafd4-71f4-47f2-9672-2f63ecc9153f"
      },
      "execution_count": null,
      "outputs": [
        {
          "output_type": "stream",
          "name": "stdout",
          "text": [
            "tensor([[[1, 3],\n",
            "         [1, 4]],\n",
            "\n",
            "        [[2, 3],\n",
            "         [2, 1]]])\n",
            "torch.Size([2, 2, 2])\n"
          ]
        }
      ]
    },
    {
      "cell_type": "code",
      "source": [
        "print(torch.sum(x,axis=3))\n",
        "print(torch.sum(x,axis=3).shape)"
      ],
      "metadata": {
        "colab": {
          "base_uri": "https://localhost:8080/"
        },
        "id": "lgy3xhd62rTl",
        "outputId": "e11b6cc5-396d-4f6e-d2d2-bd93d76a9843"
      },
      "execution_count": null,
      "outputs": [
        {
          "output_type": "stream",
          "name": "stdout",
          "text": [
            "tensor([[[2, 2],\n",
            "         [2, 3]],\n",
            "\n",
            "        [[3, 2],\n",
            "         [2, 1]]])\n",
            "torch.Size([2, 2, 2])\n"
          ]
        }
      ]
    },
    {
      "cell_type": "markdown",
      "source": [
        "Suppose we **do not know** the dim of an array (as happens in the intermediate computations). However, we want to sum the elements along the last dimension. What do you do then?. The straightforward approach is to use python flexible indexing schemes"
      ],
      "metadata": {
        "id": "qq5WdBgo6VpO"
      }
    },
    {
      "cell_type": "code",
      "source": [
        "print(torch.sum(x,axis=-1))\n",
        "print(torch.sum(x,axis=-1).shape)"
      ],
      "metadata": {
        "colab": {
          "base_uri": "https://localhost:8080/"
        },
        "id": "GTgMfZWr6Ht7",
        "outputId": "c4fa0fce-6474-4f5f-ed03-6fcf6f07ff84"
      },
      "execution_count": null,
      "outputs": [
        {
          "output_type": "stream",
          "name": "stdout",
          "text": [
            "tensor([[[2, 2],\n",
            "         [2, 3]],\n",
            "\n",
            "        [[3, 2],\n",
            "         [2, 1]]])\n",
            "torch.Size([2, 2, 2])\n"
          ]
        }
      ]
    },
    {
      "cell_type": "markdown",
      "source": [
        "# Binary Operations"
      ],
      "metadata": {
        "id": "oQex5m-9BbLW"
      }
    },
    {
      "cell_type": "markdown",
      "source": [
        "Let's take a tough problem. <br>\n",
        "* We have $x$ of shape $2 \\times 2 \\times 2 \\times 2$\n",
        "* Suppose i have an another tensor of same size (shape). Then I can do element wise multiplication or matrix multiplication along a particular axis."
      ],
      "metadata": {
        "id": "OC_lD40HCM3D"
      }
    },
    {
      "cell_type": "markdown",
      "source": [
        "Elementwise multiplication. <br>\n",
        "* Output size = $2 \\times 2 \\times 2 \\times 2$"
      ],
      "metadata": {
        "id": "kndtvX1-DLAg"
      }
    },
    {
      "cell_type": "code",
      "source": [
        "print(x)"
      ],
      "metadata": {
        "colab": {
          "base_uri": "https://localhost:8080/"
        },
        "id": "Y7RBiGy46UGb",
        "outputId": "3febdf19-be64-4f67-fb38-374590650830"
      },
      "execution_count": null,
      "outputs": [
        {
          "output_type": "stream",
          "name": "stdout",
          "text": [
            "tensor([[[[0, 2],\n",
            "          [1, 1]],\n",
            "\n",
            "         [[0, 2],\n",
            "          [1, 2]]],\n",
            "\n",
            "\n",
            "        [[[1, 2],\n",
            "          [1, 1]],\n",
            "\n",
            "         [[2, 0],\n",
            "          [0, 1]]]])\n"
          ]
        }
      ]
    },
    {
      "cell_type": "code",
      "source": [
        "y = torch.randint(0,3,size=(2,2,2,2),generator=torch.manual_seed(10))\n",
        "print(y)"
      ],
      "metadata": {
        "colab": {
          "base_uri": "https://localhost:8080/"
        },
        "id": "gCLlJoP_DH6l",
        "outputId": "2724bf1a-31b7-4d49-b35a-4ced3c5376d4"
      },
      "execution_count": null,
      "outputs": [
        {
          "output_type": "stream",
          "name": "stdout",
          "text": [
            "tensor([[[[2, 0],\n",
            "          [0, 1]],\n",
            "\n",
            "         [[0, 2],\n",
            "          [2, 1]]],\n",
            "\n",
            "\n",
            "        [[[1, 0],\n",
            "          [2, 2]],\n",
            "\n",
            "         [[1, 2],\n",
            "          [2, 2]]]])\n"
          ]
        }
      ]
    },
    {
      "cell_type": "code",
      "source": [
        "print(torch.mul(x,y))"
      ],
      "metadata": {
        "colab": {
          "base_uri": "https://localhost:8080/"
        },
        "id": "DvpEsU0GENZJ",
        "outputId": "20bae058-e143-4e34-e120-86da43b565cf"
      },
      "execution_count": null,
      "outputs": [
        {
          "output_type": "stream",
          "name": "stdout",
          "text": [
            "tensor([[[[0, 0],\n",
            "          [0, 1]],\n",
            "\n",
            "         [[0, 4],\n",
            "          [2, 2]]],\n",
            "\n",
            "\n",
            "        [[[1, 0],\n",
            "          [2, 2]],\n",
            "\n",
            "         [[2, 0],\n",
            "          [0, 2]]]])\n"
          ]
        }
      ]
    },
    {
      "cell_type": "markdown",
      "source": [
        "What happens if we do matrix multiplication?\n",
        "\n",
        "  * WHat is the dimension? "
      ],
      "metadata": {
        "id": "Ueh_8_9xE0mx"
      }
    },
    {
      "cell_type": "code",
      "source": [
        "print(torch.matmul(x,y))"
      ],
      "metadata": {
        "colab": {
          "base_uri": "https://localhost:8080/"
        },
        "id": "LsNfh3zGEh8U",
        "outputId": "a16983c7-8ab0-46eb-f909-e8332644748a"
      },
      "execution_count": null,
      "outputs": [
        {
          "output_type": "stream",
          "name": "stdout",
          "text": [
            "tensor([[[[0, 2],\n",
            "          [2, 1]],\n",
            "\n",
            "         [[4, 2],\n",
            "          [4, 4]]],\n",
            "\n",
            "\n",
            "        [[[5, 4],\n",
            "          [3, 2]],\n",
            "\n",
            "         [[2, 4],\n",
            "          [2, 2]]]])\n"
          ]
        }
      ]
    },
    {
      "cell_type": "code",
      "source": [
        "print(x[0,0,:,:])\n",
        "print(y[0,0,:,:])"
      ],
      "metadata": {
        "colab": {
          "base_uri": "https://localhost:8080/"
        },
        "id": "vvk3etodFAlk",
        "outputId": "45f338e5-d06e-48b0-c953-b34e45c83e67"
      },
      "execution_count": null,
      "outputs": [
        {
          "output_type": "stream",
          "name": "stdout",
          "text": [
            "tensor([[0, 2],\n",
            "        [1, 1]])\n",
            "tensor([[2, 0],\n",
            "        [0, 1]])\n"
          ]
        }
      ]
    },
    {
      "cell_type": "code",
      "source": [
        "print(torch.matmul(x[0,0,:,:],y[0,0,:,:]))"
      ],
      "metadata": {
        "colab": {
          "base_uri": "https://localhost:8080/"
        },
        "id": "5-ELGjG1FRKV",
        "outputId": "93e4ec53-d062-479a-8efc-b6c7822a1355"
      },
      "execution_count": null,
      "outputs": [
        {
          "output_type": "stream",
          "name": "stdout",
          "text": [
            "tensor([[0, 2],\n",
            "        [2, 1]])\n"
          ]
        }
      ]
    },
    {
      "cell_type": "markdown",
      "source": [
        "Let's change the dimension of y to $2 \\times 2 \\times 2 \\times 4$"
      ],
      "metadata": {
        "id": "vGSYiJJeF630"
      }
    },
    {
      "cell_type": "code",
      "source": [
        "y = torch.randint(0,3,size=(2,2,2,4),generator=torch.manual_seed(10))\n",
        "print(y)"
      ],
      "metadata": {
        "colab": {
          "base_uri": "https://localhost:8080/"
        },
        "id": "pDQ1StM1GG8n",
        "outputId": "92382eb5-7a06-416f-9262-febfabe3855f"
      },
      "execution_count": null,
      "outputs": [
        {
          "output_type": "stream",
          "name": "stdout",
          "text": [
            "tensor([[[[2, 0, 0, 1],\n",
            "          [0, 2, 2, 1]],\n",
            "\n",
            "         [[1, 0, 2, 2],\n",
            "          [1, 2, 2, 2]]],\n",
            "\n",
            "\n",
            "        [[[1, 2, 1, 2],\n",
            "          [1, 0, 1, 2]],\n",
            "\n",
            "         [[2, 2, 2, 1],\n",
            "          [1, 0, 2, 2]]]])\n"
          ]
        }
      ]
    },
    {
      "cell_type": "code",
      "source": [
        "print(torch.matmul(x,y))"
      ],
      "metadata": {
        "colab": {
          "base_uri": "https://localhost:8080/"
        },
        "id": "YRcfi35zGS5U",
        "outputId": "62e0b5d8-516c-4f46-df18-f281d299bbc3"
      },
      "execution_count": null,
      "outputs": [
        {
          "output_type": "stream",
          "name": "stdout",
          "text": [
            "tensor([[[[0, 4, 4, 2],\n",
            "          [2, 2, 2, 2]],\n",
            "\n",
            "         [[2, 4, 4, 4],\n",
            "          [3, 4, 6, 6]]],\n",
            "\n",
            "\n",
            "        [[[3, 2, 3, 6],\n",
            "          [2, 2, 2, 4]],\n",
            "\n",
            "         [[4, 4, 4, 2],\n",
            "          [1, 0, 2, 2]]]])\n"
          ]
        }
      ]
    },
    {
      "cell_type": "code",
      "source": [
        "print(torch.matmul(x[0,0,:,:],y[0,0,:,:]))"
      ],
      "metadata": {
        "colab": {
          "base_uri": "https://localhost:8080/"
        },
        "id": "gC7NCxG2GY4D",
        "outputId": "87e7204c-a2b1-4509-b843-9482533adedd"
      },
      "execution_count": null,
      "outputs": [
        {
          "output_type": "stream",
          "name": "stdout",
          "text": [
            "tensor([[0, 4, 4, 2],\n",
            "        [2, 2, 2, 2]])\n"
          ]
        }
      ]
    },
    {
      "cell_type": "markdown",
      "source": [
        "Dimensionaltiy compatibility is checked for last two dimensions of the tensors being multiplied"
      ],
      "metadata": {
        "id": "PMMvDcP1Gcqc"
      }
    },
    {
      "cell_type": "code",
      "source": [
        "y = torch.randint(0,3,size=(2,2,4,4),generator=torch.manual_seed(10))\n",
        "print(torch.matmul(x,y))"
      ],
      "metadata": {
        "colab": {
          "base_uri": "https://localhost:8080/",
          "height": 183
        },
        "id": "cWD55a8AGjyF",
        "outputId": "7855c03a-3db0-4c6c-fd9f-48ef6459ab85"
      },
      "execution_count": null,
      "outputs": [
        {
          "output_type": "error",
          "ename": "RuntimeError",
          "evalue": "ignored",
          "traceback": [
            "\u001b[0;31m---------------------------------------------------------------------------\u001b[0m",
            "\u001b[0;31mRuntimeError\u001b[0m                              Traceback (most recent call last)",
            "\u001b[0;32m<ipython-input-46-180cd7040c63>\u001b[0m in \u001b[0;36m<module>\u001b[0;34m\u001b[0m\n\u001b[1;32m      1\u001b[0m \u001b[0my\u001b[0m \u001b[0;34m=\u001b[0m \u001b[0mtorch\u001b[0m\u001b[0;34m.\u001b[0m\u001b[0mrandint\u001b[0m\u001b[0;34m(\u001b[0m\u001b[0;36m0\u001b[0m\u001b[0;34m,\u001b[0m\u001b[0;36m3\u001b[0m\u001b[0;34m,\u001b[0m\u001b[0msize\u001b[0m\u001b[0;34m=\u001b[0m\u001b[0;34m(\u001b[0m\u001b[0;36m2\u001b[0m\u001b[0;34m,\u001b[0m\u001b[0;36m2\u001b[0m\u001b[0;34m,\u001b[0m\u001b[0;36m4\u001b[0m\u001b[0;34m,\u001b[0m\u001b[0;36m4\u001b[0m\u001b[0;34m)\u001b[0m\u001b[0;34m,\u001b[0m\u001b[0mgenerator\u001b[0m\u001b[0;34m=\u001b[0m\u001b[0mtorch\u001b[0m\u001b[0;34m.\u001b[0m\u001b[0mmanual_seed\u001b[0m\u001b[0;34m(\u001b[0m\u001b[0;36m10\u001b[0m\u001b[0;34m)\u001b[0m\u001b[0;34m)\u001b[0m\u001b[0;34m\u001b[0m\u001b[0;34m\u001b[0m\u001b[0m\n\u001b[0;32m----> 2\u001b[0;31m \u001b[0mprint\u001b[0m\u001b[0;34m(\u001b[0m\u001b[0mtorch\u001b[0m\u001b[0;34m.\u001b[0m\u001b[0mmatmul\u001b[0m\u001b[0;34m(\u001b[0m\u001b[0mx\u001b[0m\u001b[0;34m,\u001b[0m\u001b[0my\u001b[0m\u001b[0;34m)\u001b[0m\u001b[0;34m)\u001b[0m\u001b[0;34m\u001b[0m\u001b[0;34m\u001b[0m\u001b[0m\n\u001b[0m",
            "\u001b[0;31mRuntimeError\u001b[0m: Expected size for first two dimensions of batch2 tensor to be: [4, 2] but got: [4, 4]."
          ]
        }
      ]
    },
    {
      "cell_type": "markdown",
      "source": [
        "Note the words in error message: Batch-2, first two dimensions.. because "
      ],
      "metadata": {
        "id": "RO3pHqzlH9yE"
      }
    },
    {
      "cell_type": "code",
      "source": [
        "y = torch.randint(0,3,size=(2,3,4,4),generator=torch.manual_seed(10))\n",
        "print(torch.matmul(x,y))"
      ],
      "metadata": {
        "colab": {
          "base_uri": "https://localhost:8080/",
          "height": 183
        },
        "id": "ALGyOAQILAA2",
        "outputId": "45090129-6b69-4d04-8ad6-2fd27b72bfde"
      },
      "execution_count": null,
      "outputs": [
        {
          "output_type": "error",
          "ename": "RuntimeError",
          "evalue": "ignored",
          "traceback": [
            "\u001b[0;31m---------------------------------------------------------------------------\u001b[0m",
            "\u001b[0;31mRuntimeError\u001b[0m                              Traceback (most recent call last)",
            "\u001b[0;32m<ipython-input-44-fa012ca36b3c>\u001b[0m in \u001b[0;36m<module>\u001b[0;34m\u001b[0m\n\u001b[1;32m      1\u001b[0m \u001b[0my\u001b[0m \u001b[0;34m=\u001b[0m \u001b[0mtorch\u001b[0m\u001b[0;34m.\u001b[0m\u001b[0mrandint\u001b[0m\u001b[0;34m(\u001b[0m\u001b[0;36m0\u001b[0m\u001b[0;34m,\u001b[0m\u001b[0;36m3\u001b[0m\u001b[0;34m,\u001b[0m\u001b[0msize\u001b[0m\u001b[0;34m=\u001b[0m\u001b[0;34m(\u001b[0m\u001b[0;36m2\u001b[0m\u001b[0;34m,\u001b[0m\u001b[0;36m3\u001b[0m\u001b[0;34m,\u001b[0m\u001b[0;36m4\u001b[0m\u001b[0;34m,\u001b[0m\u001b[0;36m4\u001b[0m\u001b[0;34m)\u001b[0m\u001b[0;34m,\u001b[0m\u001b[0mgenerator\u001b[0m\u001b[0;34m=\u001b[0m\u001b[0mtorch\u001b[0m\u001b[0;34m.\u001b[0m\u001b[0mmanual_seed\u001b[0m\u001b[0;34m(\u001b[0m\u001b[0;36m10\u001b[0m\u001b[0;34m)\u001b[0m\u001b[0;34m)\u001b[0m\u001b[0;34m\u001b[0m\u001b[0;34m\u001b[0m\u001b[0m\n\u001b[0;32m----> 2\u001b[0;31m \u001b[0mprint\u001b[0m\u001b[0;34m(\u001b[0m\u001b[0mtorch\u001b[0m\u001b[0;34m.\u001b[0m\u001b[0mmatmul\u001b[0m\u001b[0;34m(\u001b[0m\u001b[0mx\u001b[0m\u001b[0;34m,\u001b[0m\u001b[0my\u001b[0m\u001b[0;34m)\u001b[0m\u001b[0;34m)\u001b[0m\u001b[0;34m\u001b[0m\u001b[0;34m\u001b[0m\u001b[0m\n\u001b[0m",
            "\u001b[0;31mRuntimeError\u001b[0m: The size of tensor a (2) must match the size of tensor b (3) at non-singleton dimension 1"
          ]
        }
      ]
    },
    {
      "cell_type": "markdown",
      "source": [
        "singletong dim is the one where the size of dim is 1"
      ],
      "metadata": {
        "id": "8YTKoG8EMHtB"
      }
    },
    {
      "cell_type": "code",
      "source": [
        "y = torch.randint(0,3,size=(4,2,4,4),generator=torch.manual_seed(10))\n",
        "print(torch.matmul(x,y))"
      ],
      "metadata": {
        "colab": {
          "base_uri": "https://localhost:8080/",
          "height": 183
        },
        "id": "j6EGoONyLBLZ",
        "outputId": "faf0adcb-4a26-456c-ecb6-a5c3baf8ad23"
      },
      "execution_count": null,
      "outputs": [
        {
          "output_type": "error",
          "ename": "RuntimeError",
          "evalue": "ignored",
          "traceback": [
            "\u001b[0;31m---------------------------------------------------------------------------\u001b[0m",
            "\u001b[0;31mRuntimeError\u001b[0m                              Traceback (most recent call last)",
            "\u001b[0;32m<ipython-input-45-0d5d4ab9ee12>\u001b[0m in \u001b[0;36m<module>\u001b[0;34m\u001b[0m\n\u001b[1;32m      1\u001b[0m \u001b[0my\u001b[0m \u001b[0;34m=\u001b[0m \u001b[0mtorch\u001b[0m\u001b[0;34m.\u001b[0m\u001b[0mrandint\u001b[0m\u001b[0;34m(\u001b[0m\u001b[0;36m0\u001b[0m\u001b[0;34m,\u001b[0m\u001b[0;36m3\u001b[0m\u001b[0;34m,\u001b[0m\u001b[0msize\u001b[0m\u001b[0;34m=\u001b[0m\u001b[0;34m(\u001b[0m\u001b[0;36m4\u001b[0m\u001b[0;34m,\u001b[0m\u001b[0;36m2\u001b[0m\u001b[0;34m,\u001b[0m\u001b[0;36m4\u001b[0m\u001b[0;34m,\u001b[0m\u001b[0;36m4\u001b[0m\u001b[0;34m)\u001b[0m\u001b[0;34m,\u001b[0m\u001b[0mgenerator\u001b[0m\u001b[0;34m=\u001b[0m\u001b[0mtorch\u001b[0m\u001b[0;34m.\u001b[0m\u001b[0mmanual_seed\u001b[0m\u001b[0;34m(\u001b[0m\u001b[0;36m10\u001b[0m\u001b[0;34m)\u001b[0m\u001b[0;34m)\u001b[0m\u001b[0;34m\u001b[0m\u001b[0;34m\u001b[0m\u001b[0m\n\u001b[0;32m----> 2\u001b[0;31m \u001b[0mprint\u001b[0m\u001b[0;34m(\u001b[0m\u001b[0mtorch\u001b[0m\u001b[0;34m.\u001b[0m\u001b[0mmatmul\u001b[0m\u001b[0;34m(\u001b[0m\u001b[0mx\u001b[0m\u001b[0;34m,\u001b[0m\u001b[0my\u001b[0m\u001b[0;34m)\u001b[0m\u001b[0;34m)\u001b[0m\u001b[0;34m\u001b[0m\u001b[0;34m\u001b[0m\u001b[0m\n\u001b[0m",
            "\u001b[0;31mRuntimeError\u001b[0m: The size of tensor a (2) must match the size of tensor b (4) at non-singleton dimension 0"
          ]
        }
      ]
    },
    {
      "cell_type": "code",
      "source": [
        "y = torch.randint(0,3,size=(2,1,2,4),generator=torch.manual_seed(10))\n",
        "print(torch.matmul(x,y))"
      ],
      "metadata": {
        "colab": {
          "base_uri": "https://localhost:8080/"
        },
        "id": "RNCF6QtzLmGQ",
        "outputId": "86cab906-2769-4445-a690-5aacabf5aa20"
      },
      "execution_count": null,
      "outputs": [
        {
          "output_type": "stream",
          "name": "stdout",
          "text": [
            "tensor([[[[0, 4, 4, 2],\n",
            "          [2, 2, 2, 2]],\n",
            "\n",
            "         [[0, 4, 4, 2],\n",
            "          [2, 4, 4, 3]]],\n",
            "\n",
            "\n",
            "        [[[3, 4, 6, 6],\n",
            "          [2, 2, 4, 4]],\n",
            "\n",
            "         [[2, 0, 4, 4],\n",
            "          [1, 2, 2, 2]]]])\n"
          ]
        }
      ]
    },
    {
      "cell_type": "code",
      "source": [],
      "metadata": {
        "id": "qIY3xdkwLTEV"
      },
      "execution_count": null,
      "outputs": []
    },
    {
      "cell_type": "markdown",
      "source": [
        "# Load image "
      ],
      "metadata": {
        "id": "tKXsgMdDrbPp"
      }
    },
    {
      "cell_type": "code",
      "source": [
        "from PIL import Image\n",
        "import requests\n",
        "from io import BytesIO\n",
        "import numpy as np\n",
        "from matplotlib import pyplot as plt"
      ],
      "metadata": {
        "id": "doTTmwBurdz5"
      },
      "execution_count": null,
      "outputs": []
    },
    {
      "cell_type": "markdown",
      "source": [
        "* We do make conversion from one format to other say, torch to numpy, often. Underthehood, they use zero-copy interoperability protocol called [buffer protocol](https://docs.python.org/3/c-api/buffer.html) recommended by python. \n",
        "\n",
        "* Therefore, those operations are not **memory/computational** intensive."
      ],
      "metadata": {
        "id": "9N3msNov4GJw"
      }
    },
    {
      "cell_type": "code",
      "source": [
        "response = requests.get(\"https://media.istockphoto.com/photos/beautiful-lionhead-goldfish-swimming-in-the-aquarium-picture-id905382158\")\n",
        "img = Image.open(BytesIO(response.content))\n",
        "img = np.array(img)"
      ],
      "metadata": {
        "id": "DgOwHqHXrtaK"
      },
      "execution_count": null,
      "outputs": []
    },
    {
      "cell_type": "code",
      "source": [
        "plt.imshow(img)\n",
        "plt.show()"
      ],
      "metadata": {
        "colab": {
          "base_uri": "https://localhost:8080/",
          "height": 269
        },
        "id": "Gp1EGDB-r-hW",
        "outputId": "8496eacd-b2d6-46e3-8fd8-c682e63ae909"
      },
      "execution_count": null,
      "outputs": [
        {
          "output_type": "display_data",
          "data": {
            "text/plain": [
              "<Figure size 432x288 with 1 Axes>"
            ],
            "image/png": "[encoded data removed]"
          },
          "metadata": {
            "needs_background": "light"
          }
        }
      ]
    },
    {
      "cell_type": "code",
      "source": [
        "t_img = torch.tensor(img)\n",
        "print(t_img.shape)"
      ],
      "metadata": {
        "colab": {
          "base_uri": "https://localhost:8080/"
        },
        "id": "Vk6r7J9g03hk",
        "outputId": "93594d6a-1f33-436e-ebf4-86518c166fac"
      },
      "execution_count": null,
      "outputs": [
        {
          "output_type": "stream",
          "name": "stdout",
          "text": [
            "torch.Size([683, 1024, 3])\n"
          ]
        }
      ]
    },
    {
      "cell_type": "markdown",
      "source": [
        "Each element in 0-th dimension represents?\n",
        "\n",
        " * Each element is of size 1024 x 3. That is, it still follows row major order where it takes rows in all 3 dimensions.\n",
        "\n",
        " * Let's do transpose (again, it is not a computational intensive operation, it is just manipulating stride, offset,..)"
      ],
      "metadata": {
        "id": "pYqkyUPG2Dqc"
      }
    },
    {
      "cell_type": "code",
      "source": [
        "t_img_T =  t_img.T\n",
        "plt.imshow(np.array(t_img_T))\n",
        "plt.show()"
      ],
      "metadata": {
        "colab": {
          "base_uri": "https://localhost:8080/",
          "height": 597
        },
        "id": "N6YQrz4Y1VFU",
        "outputId": "cc57c05d-1adc-47b7-accd-f92ebbaf89ad"
      },
      "execution_count": null,
      "outputs": [
        {
          "output_type": "error",
          "ename": "TypeError",
          "evalue": "ignored",
          "traceback": [
            "\u001b[0;31m---------------------------------------------------------------------------\u001b[0m",
            "\u001b[0;31mTypeError\u001b[0m                                 Traceback (most recent call last)",
            "\u001b[0;32m<ipython-input-18-7ba005ad31e6>\u001b[0m in \u001b[0;36m<module>\u001b[0;34m\u001b[0m\n\u001b[1;32m      1\u001b[0m \u001b[0mt_img_T\u001b[0m \u001b[0;34m=\u001b[0m  \u001b[0mt_img\u001b[0m\u001b[0;34m.\u001b[0m\u001b[0mT\u001b[0m\u001b[0;34m\u001b[0m\u001b[0;34m\u001b[0m\u001b[0m\n\u001b[0;32m----> 2\u001b[0;31m \u001b[0mplt\u001b[0m\u001b[0;34m.\u001b[0m\u001b[0mimshow\u001b[0m\u001b[0;34m(\u001b[0m\u001b[0mnp\u001b[0m\u001b[0;34m.\u001b[0m\u001b[0marray\u001b[0m\u001b[0;34m(\u001b[0m\u001b[0mt_img_T\u001b[0m\u001b[0;34m)\u001b[0m\u001b[0;34m)\u001b[0m\u001b[0;34m\u001b[0m\u001b[0;34m\u001b[0m\u001b[0m\n\u001b[0m\u001b[1;32m      3\u001b[0m \u001b[0mplt\u001b[0m\u001b[0;34m.\u001b[0m\u001b[0mshow\u001b[0m\u001b[0;34m(\u001b[0m\u001b[0;34m)\u001b[0m\u001b[0;34m\u001b[0m\u001b[0;34m\u001b[0m\u001b[0m\n",
            "\u001b[0;32m/usr/local/lib/python3.8/dist-packages/matplotlib/pyplot.py\u001b[0m in \u001b[0;36mimshow\u001b[0;34m(X, cmap, norm, aspect, interpolation, alpha, vmin, vmax, origin, extent, shape, filternorm, filterrad, imlim, resample, url, data, **kwargs)\u001b[0m\n\u001b[1;32m   2643\u001b[0m         \u001b[0mfilterrad\u001b[0m\u001b[0;34m=\u001b[0m\u001b[0;36m4.0\u001b[0m\u001b[0;34m,\u001b[0m \u001b[0mimlim\u001b[0m\u001b[0;34m=\u001b[0m\u001b[0mcbook\u001b[0m\u001b[0;34m.\u001b[0m\u001b[0mdeprecation\u001b[0m\u001b[0;34m.\u001b[0m\u001b[0m_deprecated_parameter\u001b[0m\u001b[0;34m,\u001b[0m\u001b[0;34m\u001b[0m\u001b[0;34m\u001b[0m\u001b[0m\n\u001b[1;32m   2644\u001b[0m         resample=None, url=None, *, data=None, **kwargs):\n\u001b[0;32m-> 2645\u001b[0;31m     __ret = gca().imshow(\n\u001b[0m\u001b[1;32m   2646\u001b[0m         \u001b[0mX\u001b[0m\u001b[0;34m,\u001b[0m \u001b[0mcmap\u001b[0m\u001b[0;34m=\u001b[0m\u001b[0mcmap\u001b[0m\u001b[0;34m,\u001b[0m \u001b[0mnorm\u001b[0m\u001b[0;34m=\u001b[0m\u001b[0mnorm\u001b[0m\u001b[0;34m,\u001b[0m \u001b[0maspect\u001b[0m\u001b[0;34m=\u001b[0m\u001b[0maspect\u001b[0m\u001b[0;34m,\u001b[0m\u001b[0;34m\u001b[0m\u001b[0;34m\u001b[0m\u001b[0m\n\u001b[1;32m   2647\u001b[0m         \u001b[0minterpolation\u001b[0m\u001b[0;34m=\u001b[0m\u001b[0minterpolation\u001b[0m\u001b[0;34m,\u001b[0m \u001b[0malpha\u001b[0m\u001b[0;34m=\u001b[0m\u001b[0malpha\u001b[0m\u001b[0;34m,\u001b[0m \u001b[0mvmin\u001b[0m\u001b[0;34m=\u001b[0m\u001b[0mvmin\u001b[0m\u001b[0;34m,\u001b[0m\u001b[0;34m\u001b[0m\u001b[0;34m\u001b[0m\u001b[0m\n",
            "\u001b[0;32m/usr/local/lib/python3.8/dist-packages/matplotlib/__init__.py\u001b[0m in \u001b[0;36minner\u001b[0;34m(ax, data, *args, **kwargs)\u001b[0m\n\u001b[1;32m   1563\u001b[0m     \u001b[0;32mdef\u001b[0m \u001b[0minner\u001b[0m\u001b[0;34m(\u001b[0m\u001b[0max\u001b[0m\u001b[0;34m,\u001b[0m \u001b[0;34m*\u001b[0m\u001b[0margs\u001b[0m\u001b[0;34m,\u001b[0m \u001b[0mdata\u001b[0m\u001b[0;34m=\u001b[0m\u001b[0;32mNone\u001b[0m\u001b[0;34m,\u001b[0m \u001b[0;34m**\u001b[0m\u001b[0mkwargs\u001b[0m\u001b[0;34m)\u001b[0m\u001b[0;34m:\u001b[0m\u001b[0;34m\u001b[0m\u001b[0;34m\u001b[0m\u001b[0m\n\u001b[1;32m   1564\u001b[0m         \u001b[0;32mif\u001b[0m \u001b[0mdata\u001b[0m \u001b[0;32mis\u001b[0m \u001b[0;32mNone\u001b[0m\u001b[0;34m:\u001b[0m\u001b[0;34m\u001b[0m\u001b[0;34m\u001b[0m\u001b[0m\n\u001b[0;32m-> 1565\u001b[0;31m             \u001b[0;32mreturn\u001b[0m \u001b[0mfunc\u001b[0m\u001b[0;34m(\u001b[0m\u001b[0max\u001b[0m\u001b[0;34m,\u001b[0m \u001b[0;34m*\u001b[0m\u001b[0mmap\u001b[0m\u001b[0;34m(\u001b[0m\u001b[0msanitize_sequence\u001b[0m\u001b[0;34m,\u001b[0m \u001b[0margs\u001b[0m\u001b[0;34m)\u001b[0m\u001b[0;34m,\u001b[0m \u001b[0;34m**\u001b[0m\u001b[0mkwargs\u001b[0m\u001b[0;34m)\u001b[0m\u001b[0;34m\u001b[0m\u001b[0;34m\u001b[0m\u001b[0m\n\u001b[0m\u001b[1;32m   1566\u001b[0m \u001b[0;34m\u001b[0m\u001b[0m\n\u001b[1;32m   1567\u001b[0m         \u001b[0mbound\u001b[0m \u001b[0;34m=\u001b[0m \u001b[0mnew_sig\u001b[0m\u001b[0;34m.\u001b[0m\u001b[0mbind\u001b[0m\u001b[0;34m(\u001b[0m\u001b[0max\u001b[0m\u001b[0;34m,\u001b[0m \u001b[0;34m*\u001b[0m\u001b[0margs\u001b[0m\u001b[0;34m,\u001b[0m \u001b[0;34m**\u001b[0m\u001b[0mkwargs\u001b[0m\u001b[0;34m)\u001b[0m\u001b[0;34m\u001b[0m\u001b[0;34m\u001b[0m\u001b[0m\n",
            "\u001b[0;32m/usr/local/lib/python3.8/dist-packages/matplotlib/cbook/deprecation.py\u001b[0m in \u001b[0;36mwrapper\u001b[0;34m(*args, **kwargs)\u001b[0m\n\u001b[1;32m    356\u001b[0m                 \u001b[0;34mf\"%(removal)s.  If any parameter follows {name!r}, they \"\u001b[0m\u001b[0;34m\u001b[0m\u001b[0;34m\u001b[0m\u001b[0m\n\u001b[1;32m    357\u001b[0m                 f\"should be pass as keyword, not positionally.\")\n\u001b[0;32m--> 358\u001b[0;31m         \u001b[0;32mreturn\u001b[0m \u001b[0mfunc\u001b[0m\u001b[0;34m(\u001b[0m\u001b[0;34m*\u001b[0m\u001b[0margs\u001b[0m\u001b[0;34m,\u001b[0m \u001b[0;34m**\u001b[0m\u001b[0mkwargs\u001b[0m\u001b[0;34m)\u001b[0m\u001b[0;34m\u001b[0m\u001b[0;34m\u001b[0m\u001b[0m\n\u001b[0m\u001b[1;32m    359\u001b[0m \u001b[0;34m\u001b[0m\u001b[0m\n\u001b[1;32m    360\u001b[0m     \u001b[0;32mreturn\u001b[0m \u001b[0mwrapper\u001b[0m\u001b[0;34m\u001b[0m\u001b[0;34m\u001b[0m\u001b[0m\n",
            "\u001b[0;32m/usr/local/lib/python3.8/dist-packages/matplotlib/cbook/deprecation.py\u001b[0m in \u001b[0;36mwrapper\u001b[0;34m(*args, **kwargs)\u001b[0m\n\u001b[1;32m    356\u001b[0m                 \u001b[0;34mf\"%(removal)s.  If any parameter follows {name!r}, they \"\u001b[0m\u001b[0;34m\u001b[0m\u001b[0;34m\u001b[0m\u001b[0m\n\u001b[1;32m    357\u001b[0m                 f\"should be pass as keyword, not positionally.\")\n\u001b[0;32m--> 358\u001b[0;31m         \u001b[0;32mreturn\u001b[0m \u001b[0mfunc\u001b[0m\u001b[0;34m(\u001b[0m\u001b[0;34m*\u001b[0m\u001b[0margs\u001b[0m\u001b[0;34m,\u001b[0m \u001b[0;34m**\u001b[0m\u001b[0mkwargs\u001b[0m\u001b[0;34m)\u001b[0m\u001b[0;34m\u001b[0m\u001b[0;34m\u001b[0m\u001b[0m\n\u001b[0m\u001b[1;32m    359\u001b[0m \u001b[0;34m\u001b[0m\u001b[0m\n\u001b[1;32m    360\u001b[0m     \u001b[0;32mreturn\u001b[0m \u001b[0mwrapper\u001b[0m\u001b[0;34m\u001b[0m\u001b[0;34m\u001b[0m\u001b[0m\n",
            "\u001b[0;32m/usr/local/lib/python3.8/dist-packages/matplotlib/axes/_axes.py\u001b[0m in \u001b[0;36mimshow\u001b[0;34m(self, X, cmap, norm, aspect, interpolation, alpha, vmin, vmax, origin, extent, shape, filternorm, filterrad, imlim, resample, url, **kwargs)\u001b[0m\n\u001b[1;32m   5624\u001b[0m                               resample=resample, **kwargs)\n\u001b[1;32m   5625\u001b[0m \u001b[0;34m\u001b[0m\u001b[0m\n\u001b[0;32m-> 5626\u001b[0;31m         \u001b[0mim\u001b[0m\u001b[0;34m.\u001b[0m\u001b[0mset_data\u001b[0m\u001b[0;34m(\u001b[0m\u001b[0mX\u001b[0m\u001b[0;34m)\u001b[0m\u001b[0;34m\u001b[0m\u001b[0;34m\u001b[0m\u001b[0m\n\u001b[0m\u001b[1;32m   5627\u001b[0m         \u001b[0mim\u001b[0m\u001b[0;34m.\u001b[0m\u001b[0mset_alpha\u001b[0m\u001b[0;34m(\u001b[0m\u001b[0malpha\u001b[0m\u001b[0;34m)\u001b[0m\u001b[0;34m\u001b[0m\u001b[0;34m\u001b[0m\u001b[0m\n\u001b[1;32m   5628\u001b[0m         \u001b[0;32mif\u001b[0m \u001b[0mim\u001b[0m\u001b[0;34m.\u001b[0m\u001b[0mget_clip_path\u001b[0m\u001b[0;34m(\u001b[0m\u001b[0;34m)\u001b[0m \u001b[0;32mis\u001b[0m \u001b[0;32mNone\u001b[0m\u001b[0;34m:\u001b[0m\u001b[0;34m\u001b[0m\u001b[0;34m\u001b[0m\u001b[0m\n",
            "\u001b[0;32m/usr/local/lib/python3.8/dist-packages/matplotlib/image.py\u001b[0m in \u001b[0;36mset_data\u001b[0;34m(self, A)\u001b[0m\n\u001b[1;32m    696\u001b[0m         if not (self._A.ndim == 2\n\u001b[1;32m    697\u001b[0m                 or self._A.ndim == 3 and self._A.shape[-1] in [3, 4]):\n\u001b[0;32m--> 698\u001b[0;31m             raise TypeError(\"Invalid shape {} for image data\"\n\u001b[0m\u001b[1;32m    699\u001b[0m                             .format(self._A.shape))\n\u001b[1;32m    700\u001b[0m \u001b[0;34m\u001b[0m\u001b[0m\n",
            "\u001b[0;31mTypeError\u001b[0m: Invalid shape (3, 1024, 683) for image data"
          ]
        },
        {
          "output_type": "display_data",
          "data": {
            "text/plain": [
              "<Figure size 432x288 with 1 Axes>"
            ],
            "image/png": "[encoded data removed]"
          },
          "metadata": {
            "needs_background": "light"
          }
        }
      ]
    },
    {
      "cell_type": "code",
      "source": [
        "t_img_T =  torch.transpose(t_img,dim0=1,dim1=0)\n",
        "plt.imshow(np.array(t_img_T))\n",
        "plt.show()"
      ],
      "metadata": {
        "colab": {
          "base_uri": "https://localhost:8080/",
          "height": 269
        },
        "id": "SDmGAEVr56j2",
        "outputId": "98e6cde2-d6fb-4204-e4c9-776d9ee4416a"
      },
      "execution_count": null,
      "outputs": [
        {
          "output_type": "display_data",
          "data": {
            "text/plain": [
              "<Figure size 432x288 with 1 Axes>"
            ],
            "image/png": "[encoded data removed]"
          },
          "metadata": {
            "needs_background": "light"
          }
        }
      ]
    },
    {
      "cell_type": "markdown",
      "source": [
        "What if we want to transpose more than 2 dims? We call that permute..."
      ],
      "metadata": {
        "id": "Q0GAnKfD6lO1"
      }
    },
    {
      "cell_type": "code",
      "source": [
        "t_img_T =  torch.permute(t_img,(1,0,2))\n",
        "plt.imshow(np.array(t_img_T))\n",
        "plt.show()"
      ],
      "metadata": {
        "colab": {
          "base_uri": "https://localhost:8080/",
          "height": 269
        },
        "id": "qH7zXU806WuC",
        "outputId": "f1c1535f-e210-4472-c343-62974db9ca23"
      },
      "execution_count": null,
      "outputs": [
        {
          "output_type": "display_data",
          "data": {
            "text/plain": [
              "<Figure size 432x288 with 1 Axes>"
            ],
            "image/png": "[encoded data removed]"
          },
          "metadata": {
            "needs_background": "light"
          }
        }
      ]
    }
  ]
}